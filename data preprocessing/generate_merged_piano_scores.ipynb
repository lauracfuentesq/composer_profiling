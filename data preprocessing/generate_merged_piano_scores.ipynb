{
 "cells": [
  {
   "cell_type": "code",
   "execution_count": 30,
   "metadata": {},
   "outputs": [],
   "source": [
    "import pandas as pd\n",
    "\n",
    "track_names_mapping_df=pd.read_csv('../../author-profiling-in-symbolic-music/dataframes/track_names_mapping_df.csv')\n",
    "\n",
    "scores_df=pd.read_csv('../../author-profiling-in-symbolic-music/dataframes/scores_df.csv')"
   ]
  },
  {
   "cell_type": "code",
   "execution_count": 31,
   "metadata": {},
   "outputs": [],
   "source": [
    "import miditoolkit\n",
    "import music21\n",
    "import os\n",
    "from miditoolkit import MidiFile\n",
    "\n",
    "def convert_to_type0(midi_file_path, new_filename=None):\n",
    "    # if new_filename is None:\n",
    "    #     new_filename = midi_filename.replace('.mid', '_type0.mid')\n",
    "    \n",
    "    midi = MidiFile(midi_file_path)\n",
    "    all_instruments = sum([instrument.notes for instrument in midi.instruments], [])\n",
    "    \n",
    "    resulting_midi = midi\n",
    "    track = miditoolkit.midi.containers.Instrument(program=0, is_drum=False, name='')\n",
    "    track.notes = sorted(all_instruments, key=lambda x: (x.start, x.pitch))\n",
    "    resulting_midi.instruments = [track]\n",
    "    #print(f\"Converting {midi_filename} -> {new_filename}\")\n",
    "    \n",
    "    return resulting_midi"
   ]
  },
  {
   "cell_type": "code",
   "execution_count": 34,
   "metadata": {},
   "outputs": [],
   "source": [
    "from symusic import TimeUnit,Score\n",
    "import os\n",
    "\n",
    "# Function to create a new Score object for each track\n",
    "def create_scores_for_piano_tracks(scores_df,track_names_mapping_df):\n",
    "    # Create a list with score objects from the symusic library\n",
    "    paths=scores_df['scores_paths']\n",
    "    paths=paths.apply(lambda x: x.replace('../Lieder/','../../Lieder/'))\n",
    "    \n",
    "    scores_objects_list = []\n",
    "\n",
    "    for score in paths:\n",
    "        scores_objects_list.append(Score(score))\n",
    "\n",
    "    # Get mapping of clean track names\n",
    "    track_names_mapping = {}\n",
    "    for key, value in zip(track_names_mapping_df['track_name_raw'], track_names_mapping_df['track_name_clean']):\n",
    "        track_names_mapping[key] = value\n",
    "\n",
    "    full_piano_scores_list = []\n",
    "    full_piano_scores_paths_list=[]\n",
    "    paths_type0_list=[]\n",
    "    # Get piano scores from each song\n",
    "    for score_path in paths:\n",
    "        \n",
    "        score = Score(score_path)\n",
    "        \n",
    "        piano_scores_list = []\n",
    "        piano_scores_paths_list=[]\n",
    "\n",
    "        for i, track in enumerate(score.tracks):\n",
    "            \n",
    "            ## change name of tracks to the clean ones\n",
    "            track.name=track_names_mapping[track.name] \n",
    "            \n",
    "            \n",
    "            if track.name == 'piano':\n",
    "                \n",
    "                piano_score = Score(ttype=score.ttype)  # Create a new Score object with the same time unit type\n",
    "                piano_score.ticks_per_quarter = score.ticks_per_quarter  # Set the ticks per quarter note\n",
    "\n",
    "                # Add global events to the new score\n",
    "                piano_score.tempos.extend(score.tempos)\n",
    "                piano_score.time_signatures.extend(score.time_signatures)\n",
    "                piano_score.key_signatures.extend(score.key_signatures)\n",
    "                piano_score.lyrics.extend(score.lyrics)\n",
    "                piano_score.markers.extend(score.markers)\n",
    "\n",
    "                # Add the track to the new Score object (tracks should be a list)\n",
    "                piano_score.tracks.append(track)\n",
    "                \n",
    "        # Prepare the output path\n",
    "        output_path = score_path.replace('../Lieder/scores/', '../author-profiling-in-symbolic-music/train data/merged piano scores/')\n",
    "        output_dir = os.path.dirname(output_path)\n",
    "        os.makedirs(output_dir, exist_ok=True)  # Ensure the directory exists\n",
    "\n",
    "        # Dump each piano new score to a MIDI file\n",
    "        output_file = f\"{output_path}_merged_piano.mid\"        \n",
    "        piano_score.dump_midi(output_file)                \n",
    "        piano_scores_paths_list.append(output_file)      \n",
    "        full_piano_scores_paths_list.append(piano_scores_paths_list)\n",
    "\n",
    "        piano_score_type0=convert_to_type0(output_file)\n",
    "        # Dump each piano new score to a MIDI file\n",
    "        output_file_name = f\"{output_path}_merged_piano_type0.mid\"\n",
    "        piano_score_type0.dump(output_file_name)\n",
    "        paths_type0_list.append(output_file_name)\n",
    "\n",
    "    # Add the new piano scores to the dataframe\n",
    "    \n",
    "    scores_df['piano_scores_paths']=full_piano_scores_paths_list\n",
    "    scores_df['paths_type0_piano']=paths_type0_list\n",
    "\n",
    "    return scores_df"
   ]
  },
  {
   "cell_type": "code",
   "execution_count": 35,
   "metadata": {},
   "outputs": [],
   "source": [
    "scores_piano_tracks=create_scores_for_piano_tracks(scores_df=scores_df,track_names_mapping_df=track_names_mapping_df)"
   ]
  },
  {
   "cell_type": "code",
   "execution_count": 38,
   "metadata": {},
   "outputs": [],
   "source": [
    "scores_piano_tracks.to_csv('../dataframes/piano_merged_scores.csv',index=False)"
   ]
  }
 ],
 "metadata": {
  "kernelspec": {
   "display_name": "symbolic_music_conda",
   "language": "python",
   "name": "python3"
  },
  "language_info": {
   "codemirror_mode": {
    "name": "ipython",
    "version": 3
   },
   "file_extension": ".py",
   "mimetype": "text/x-python",
   "name": "python",
   "nbconvert_exporter": "python",
   "pygments_lexer": "ipython3",
   "version": "3.12.3"
  }
 },
 "nbformat": 4,
 "nbformat_minor": 2
}
