{
 "cells": [
  {
   "cell_type": "code",
   "execution_count": null,
   "metadata": {},
   "outputs": [],
   "source": [
    "import miditoolkit\n",
    "import music21\n",
    "import os\n",
    "from miditoolkit import MidiFile\n",
    "\n",
    "\n",
    "# =======================================================================\n",
    "\n",
    "def convert_to_type0(midi_filename, new_filename=None):\n",
    "    if new_filename is None:\n",
    "        new_filename = midi_filename.replace('.mid', '_type0.mid')\n",
    "    \n",
    "    midi = MidiFile(midi_filename)\n",
    "    all_instruments = sum([instrument.notes for instrument in midi.instruments], [])\n",
    "    \n",
    "    resulting_midi = midi\n",
    "    track = miditoolkit.midi.containers.Instrument(program=0, is_drum=False, name='')\n",
    "    track.notes = sorted(all_instruments, key=lambda x: (x.start, x.pitch))\n",
    "    resulting_midi.instruments = [track]\n",
    "    print(f\"Converting {midi_filename} -> {new_filename}\")\n",
    "    \n",
    "    return resulting_midi"
   ]
  },
  {
   "cell_type": "code",
   "execution_count": null,
   "metadata": {},
   "outputs": [],
   "source": [
    "import pandas as pd\n",
    "\n",
    "scores_df=pd.read_csv('../author-profiling-in-symbolic-music/dataframes/scores_df.csv')\n",
    "\n",
    "paths_list=[]\n",
    "\n",
    "for score_path in scores_df['scores_paths']:\n",
    "\n",
    "    # Prepare the output path\n",
    "    output_path = score_path.replace('../Lieder/scores/', '../author-profiling-in-symbolic-music/type 0 midis/')\n",
    "    output_dir = os.path.dirname(output_path)\n",
    "    os.makedirs(output_dir, exist_ok=True)  # Ensure the directory exists\n",
    "\n",
    "    resulting_midi=convert_to_type0(score_path)\n",
    "    # Dump each piano new score to a MIDI file\n",
    "    output_file_name = f\"{output_path}_type0.mid\"\n",
    "    resulting_midi.dump(output_file_name)\n",
    "    paths_list.append(output_file_name)    \n"
   ]
  },
  {
   "cell_type": "code",
   "execution_count": null,
   "metadata": {},
   "outputs": [],
   "source": [
    "type0_scores=scores_df\n",
    "type0_scores['type0_path']=paths_list\n",
    "type0_scores.to_csv('./dataframes/type0_scores.csv',index=False)"
   ]
  },
  {
   "cell_type": "code",
   "execution_count": null,
   "metadata": {},
   "outputs": [],
   "source": [
    "##======= validating number of token sequences by score========##\n",
    "from pathlib import Path\n",
    "from symusic import Score\n",
    "from miditok import REMI\n",
    "tokenizer = REMI.from_pretrained(\"Natooz/Maestro-REMI-bpe20k\")\n",
    "input_midi_list=[]\n",
    "gender_list=[]\n",
    "\n",
    "for score_path,gender in zip(type0_scores['type0_path'],type0_scores['composer_gender']):\n",
    "\n",
    "    input_midi_list.append(Score(Path(score_path)))\n",
    "    gender_list.append(gender)\n",
    "\n",
    "\n",
    "type0_scores=pd.DataFrame({'midi':input_midi_list,\n",
    "              'gender':gender_list})\n",
    "\n",
    "token_list=[]\n",
    "\n",
    "for midi_score in type0_scores['midi']:\n",
    "\n",
    "    input_tokens = tokenizer(midi_score)\n",
    "    token_list.append(input_tokens)\n",
    "\n",
    "type0_scores['tokens']=token_list"
   ]
  }
 ],
 "metadata": {
  "kernelspec": {
   "display_name": "symbolic_music_conda",
   "language": "python",
   "name": "python3"
  },
  "language_info": {
   "codemirror_mode": {
    "name": "ipython",
    "version": 3
   },
   "file_extension": ".py",
   "mimetype": "text/x-python",
   "name": "python",
   "nbconvert_exporter": "python",
   "pygments_lexer": "ipython3",
   "version": "3.12.3"
  }
 },
 "nbformat": 4,
 "nbformat_minor": 2
}
