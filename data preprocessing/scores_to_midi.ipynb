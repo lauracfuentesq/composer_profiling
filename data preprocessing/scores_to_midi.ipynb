{
 "cells": [
  {
   "cell_type": "code",
   "execution_count": null,
   "metadata": {},
   "outputs": [],
   "source": [
    "import os\n",
    "import subprocess\n",
    "import json"
   ]
  },
  {
   "cell_type": "code",
   "execution_count": null,
   "metadata": {},
   "outputs": [],
   "source": [
    "# paths\n",
    "\n",
    "# # Set the current working directory\n",
    "# os.chdir('/path/to/your/directory')\n",
    "\n",
    "# # Base directory\n",
    "# base_dir = '/path/to/base/directory'\n",
    "\n",
    "# # Relative path\n",
    "# relative_path = 'subdirectory/file.txt'\n",
    "\n",
    "# # Construct the full path\n",
    "# full_path = os.path.join(base_dir, relative_path)\n",
    "\n",
    "# # Print the current working directory\n",
    "# print(os.getcwd())"
   ]
  },
  {
   "cell_type": "code",
   "execution_count": null,
   "metadata": {},
   "outputs": [],
   "source": [
    "# Load the JSON data\n",
    "with open('corpus_conversion_midi.json') as f:\n",
    "    mapping = json.load(f)"
   ]
  },
  {
   "cell_type": "code",
   "execution_count": null,
   "metadata": {},
   "outputs": [],
   "source": [
    "##==========  WINDOWS  =============##\n",
    "# Function to convert .mscx to .mid\n",
    "def convert_to_mid(input_file, output_file):\n",
    "    subprocess.run(['mscore', '--export-to', output_file, input_file])\n",
    "\n",
    "# Iterate over each mapping\n",
    "for item in mapping:\n",
    "    input_file = os.path.abspath(item['in'])\n",
    "    output_file = os.path.abspath(item['out'])\n",
    "\n",
    "    # Ensure input file exists\n",
    "    if os.path.exists(input_file):\n",
    "        # Convert to .mid\n",
    "        convert_to_mid(input_file, output_file)\n",
    "        print(f\"Converted {input_file} to {output_file}\")\n",
    "    else:\n",
    "        print(f\"Input file {input_file} not found.\")"
   ]
  },
  {
   "cell_type": "code",
   "execution_count": null,
   "metadata": {},
   "outputs": [],
   "source": [
    "##==========  UBUNTU  =============##\n",
    "\n",
    "# Full path to the MuseScore AppImage\n",
    "mscore_path = \"/home/lafuente/Téléchargements/MuseScore-Studio-4.3.0.241231431-x86_64.AppImage\"\n",
    "\n",
    "# Ensure the AppImage has executable permissions\n",
    "os.chmod(mscore_path, 0o755)\n",
    "\n",
    "# Iterate over each entry in the JSON data\n",
    "for entry in mapping:\n",
    "    input_file = entry[\"in\"]\n",
    "    output_file = entry[\"out\"]\n",
    "    \n",
    "    # Construct the command\n",
    "    command = [mscore_path, '-o', output_file, input_file]\n",
    "    \n",
    "    # Run the command\n",
    "    result = subprocess.run(command)\n",
    "    \n",
    "    # Check the result\n",
    "    if result.returncode == 0:\n",
    "        print(f\"Successfully converted {input_file} to {output_file}\")\n",
    "    else:\n",
    "        print(f\"Failed to convert {input_file} to {output_file}\")\n",
    "\n",
    "print(\"All conversions are complete.\")\n"
   ]
  },
  {
   "cell_type": "code",
   "execution_count": null,
   "metadata": {},
   "outputs": [],
   "source": [
    "print(\"All conversions are complete.\")"
   ]
  }
 ],
 "metadata": {
  "kernelspec": {
   "display_name": ".venv",
   "language": "python",
   "name": "python3"
  },
  "language_info": {
   "codemirror_mode": {
    "name": "ipython",
    "version": 3
   },
   "file_extension": ".py",
   "mimetype": "text/x-python",
   "name": "python",
   "nbconvert_exporter": "python",
   "pygments_lexer": "ipython3",
   "version": "3.12.3"
  }
 },
 "nbformat": 4,
 "nbformat_minor": 2
}
