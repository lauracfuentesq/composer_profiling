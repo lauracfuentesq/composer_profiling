{
 "cells": [
  {
   "cell_type": "code",
   "execution_count": 15,
   "metadata": {},
   "outputs": [],
   "source": [
    "import pandas as pd\n",
    "import gender_guesser.detector as gender"
   ]
  },
  {
   "cell_type": "code",
   "execution_count": 147,
   "metadata": {},
   "outputs": [],
   "source": [
    "from os import listdir\n",
    "from os.path import isfile, join\n",
    "\n",
    "mypath='/home/lafuente/Documents/Symbolic Music/giant-midi/midis'\n",
    "\n",
    "onlyfiles = [f for f in listdir(mypath) if isfile(join(mypath, f))]"
   ]
  },
  {
   "cell_type": "code",
   "execution_count": 152,
   "metadata": {},
   "outputs": [],
   "source": [
    "directory=pd.DataFrame(data={'path':onlyfiles})\n",
    "\n",
    "directory['fullname']=directory['path'].apply(lambda x: x.split(',')[1]+' '+x.split(',')[0])\n",
    "\n",
    "directory['composer_gender']=directory['path'].apply(lambda x: x.split(',')[1].split(' ')[1]).apply(str.capitalize).map(lambda x: gd.get_gender(x))\n",
    "\n",
    "females_list=['Lucrecia Roces Kasilag','Dosia McKay','Akiana Molina','Leokadiya Kashperova','Henriette-Caroline Mennechet de Barival']\n",
    "\n",
    "directory['composer_gender']=directory['composer_gender'].apply(lambda gender: 'female' if gender=='mostly_female' or (gender in females_list) else gender)\n"
   ]
  },
  {
   "cell_type": "code",
   "execution_count": 151,
   "metadata": {},
   "outputs": [],
   "source": [
    "#df=pd.read_csv('../maestro-v3.0.0/maestro-v3.0.0.csv')\n",
    "\n",
    "df=pd.read_csv('full_music_pieces_youtube_similarity_pianosoloprob_split.csv')\n",
    "\n",
    "df['fullname']=df['firstname']+' '+df['surname']"
   ]
  },
  {
   "cell_type": "code",
   "execution_count": 203,
   "metadata": {},
   "outputs": [],
   "source": [
    "directory=directory[directory['composer_gender'].isin(['male','female'])]\n",
    "\n",
    "df=directory"
   ]
  },
  {
   "cell_type": "code",
   "execution_count": 205,
   "metadata": {},
   "outputs": [],
   "source": [
    "# ##=============== keep only rows with similarity values====================##\n",
    "# def convert_to_int_or_leave_as_string(x):\n",
    "#     try:\n",
    "#         return float(x)\n",
    "#     except ValueError:\n",
    "#         return x\n",
    "\n",
    "# # Apply the function to the 'similarity' column\n",
    "# df['similarity'] = df['similarity'].apply(convert_to_int_or_leave_as_string)\n",
    "\n",
    "# df=df[df['similarity'].apply(lambda x: isinstance(x, float))]\n",
    "\n",
    "# gd = gender.Detector()\n",
    "\n",
    "# df['composer_gender']=df['firstname'].apply(lambda x: x.split(' ')[0]).apply(str.capitalize).map(lambda x: gd.get_gender(x))\n",
    "\n",
    "\n",
    "\n",
    "##========== get number of female songs ====================================##\n",
    "n_female_songs=df[df['composer_gender']=='female'].shape[0]\n",
    "\n",
    "female_composers=df[df['composer_gender']=='female']\n",
    "\n",
    "#female_composers['similarity']=female_composers['similarity'].astype(float)\n",
    "\n",
    "\n",
    "##========== get fairly balanced male sample ================================##\n",
    "male_composers=df[df['composer_gender']=='male']\n",
    "\n",
    "unique_fullnames = male_composers['fullname'].unique()\n",
    "\n",
    "\n",
    "sampled_fullnames = pd.Series(unique_fullnames).sample(n=female_composers['fullname'].nunique(), random_state=42).tolist()\n",
    "\n",
    "\n",
    "filtered_male_composers = male_composers[male_composers['fullname'].isin(sampled_fullnames)]\n",
    "\n",
    "\n",
    "if len(filtered_male_composers) > n_female_songs:   \n",
    "    sampled_male_composers = filtered_male_composers.sample(n=n_female_songs, random_state=42)\n",
    "else:   \n",
    "    sampled_male_composers = filtered_male_composers\n",
    "\n",
    "\n",
    "##============== concatenate into a single df ================================##\n",
    "giant_midi_data=pd.concat([sampled_male_composers,female_composers])\n",
    "\n",
    "#giant_midi_data=giant_midi_data[['fullname','surname', 'firstname', 'music', 'nationality', 'birth', 'death','similarity','composer_gender']]"
   ]
  },
  {
   "cell_type": "code",
   "execution_count": 207,
   "metadata": {},
   "outputs": [
    {
     "data": {
      "application/vnd.plotly.v1+json": {
       "config": {
        "plotlyServerURL": "https://plot.ly"
       },
       "data": [
        {
         "alignmentgroup": "True",
         "hovertemplate": "composer_gender=male<br>fullname=%{x}<br>path=%{y}<extra></extra>",
         "legendgroup": "male",
         "marker": {
          "color": "#636efa",
          "pattern": {
           "shape": ""
          }
         },
         "name": "male",
         "offsetgroup": "male",
         "orientation": "v",
         "showlegend": true,
         "textposition": "auto",
         "type": "bar",
         "x": [
          " Franz Liszt",
          " Christian Teilman",
          " Francis Poulenc",
          " Sergey Prokofiev",
          " Florent Schmitt",
          " Béla Bartók",
          " Leopold Godowsky",
          " Ludvig Schytte",
          " Ignaz Friedman",
          " Hugo Reinhold",
          " Richard Wagner",
          " Brinley Richards",
          " Friedrich Wilhelm Kalkbrenner",
          " Carl Tausig",
          " William Sterndale Bennett",
          " Jāzeps Vītols",
          " Jules Massenet",
          " Nikolay Roslavets",
          " Louis Sauter",
          " Geert Van Hoorick",
          " Eugène Nollet",
          " Friedrich Nietzsche",
          " Thomas Morley",
          " Konstantin Antipov",
          " Alphonse Hasselmans",
          " Eyvind Alnæs",
          " Nodar Gabunia",
          " Georges Bizet",
          " Johann Wenzel Kalliwoda",
          " Anton de Kontski",
          " Rudolf Niemann",
          " Louis Gobbaerts",
          " Aleksandr Tcherepnin",
          " Léon Delahaye",
          " Matias Ekert",
          " Baldassare Galuppi",
          " Julián Laguna",
          " Johann Pachelbel",
          " Johann Baptist Peyer",
          " Oscar Lorenzo Fernández",
          " Nicolas Dalayrac",
          " Frederick Brandeis",
          " Francisco Tárrega",
          " Luka Demarin",
          " HanS Karlsen",
          " Howard Chamberlain",
          " Francesco Bianciardi",
          " José María Echeverría",
          " Joaquín Nin",
          " Johann Strauss Sr.",
          " Óscar de la Cinna",
          " Václav Jan Tomášek",
          " Sergey Protopopov",
          " Victorin de Joncières",
          " Teo Vincent IV",
          " Timur Ismagilov",
          " William Vincent Wallace",
          " Felipe Pedrell",
          " Boris Shekhter",
          " Wladislaw Leszczewski",
          " William Smallwood",
          " Albert Alain",
          " Albert Roussel",
          " Philippe Bellenot",
          " Alfred Paulsen",
          " Marco Facoli",
          " Thomas Tomkins",
          " Orazio Benevoli",
          " Valentin Haussmann",
          " Vasily Nechayev",
          " Vincent Adler",
          " Yulian Scriabin",
          " Luis de Soria",
          " Sebastián Díaz Peña",
          " Sean Franklin Brown",
          " Roy Vanegas",
          " Richard Krentzlin",
          " Pierre Baillot",
          " Philip Ernst",
          " Pedro Miguel Quijano",
          " Semyon Panchenko",
          " Mark Hambourg",
          " Paul Jäkel",
          " Clarence Lucas",
          " Edward Joseph Collins",
          " Edward Smith Hall",
          " Edward Taylor Paull",
          " Emil Liebling",
          " Emmanuel Chavaneau",
          " Christoph Bach",
          " Adolf Huber",
          " Aidan Lamb",
          " Alfredo Catalani",
          " Arvid Kleven",
          " August Bungert",
          " Bernardo Pasquini",
          " Bernhard Sekles",
          " Celestino Piaggio",
          " Charles John",
          " Charles Lindgreen",
          " Felice Boghen",
          " Lawrence Wright",
          " Horace Wadham Nicholl",
          " James Hewitt",
          " Joachim Andersen",
          " Johann Georg Witthauer",
          " Johannes Ockeghem",
          " Josef Richter",
          " Juan Alais",
          " Julius Handrock",
          " Józef Damse",
          " Kurt Noack",
          " Felix Petyrek",
          " Floyd Willis",
          " Francesco Capponi",
          " Francesco Zappa",
          " Francisco Guerrero",
          " Frank Hoyt Losey",
          " François Viger",
          " Friedrich Michel",
          " Gabriel Sizes",
          " Gaetano Amadeo",
          " Georg Liebling",
          " Georg Wichtl",
          " George Antheil",
          " Gyula Beliczay"
         ],
         "xaxis": "x",
         "y": [
          136,
          23,
          20,
          16,
          13,
          12,
          12,
          10,
          10,
          9,
          8,
          7,
          7,
          7,
          7,
          7,
          7,
          6,
          6,
          5,
          5,
          5,
          4,
          4,
          4,
          4,
          4,
          4,
          4,
          4,
          4,
          4,
          3,
          3,
          3,
          3,
          3,
          3,
          3,
          3,
          2,
          2,
          2,
          2,
          2,
          2,
          2,
          2,
          2,
          2,
          2,
          2,
          2,
          2,
          2,
          2,
          2,
          2,
          2,
          2,
          2,
          2,
          2,
          2,
          2,
          1,
          1,
          1,
          1,
          1,
          1,
          1,
          1,
          1,
          1,
          1,
          1,
          1,
          1,
          1,
          1,
          1,
          1,
          1,
          1,
          1,
          1,
          1,
          1,
          1,
          1,
          1,
          1,
          1,
          1,
          1,
          1,
          1,
          1,
          1,
          1,
          1,
          1,
          1,
          1,
          1,
          1,
          1,
          1,
          1,
          1,
          1,
          1,
          1,
          1,
          1,
          1,
          1,
          1,
          1,
          1,
          1,
          1,
          1,
          1,
          1
         ],
         "yaxis": "y"
        },
        {
         "alignmentgroup": "True",
         "hovertemplate": "composer_gender=female<br>fullname=%{x}<br>path=%{y}<extra></extra>",
         "legendgroup": "female",
         "marker": {
          "color": "#EF553B",
          "pattern": {
           "shape": ""
          }
         },
         "name": "female",
         "offsetgroup": "female",
         "orientation": "v",
         "showlegend": true,
         "textposition": "auto",
         "type": "bar",
         "x": [
          " Cécile Chaminade",
          " Mily Balakirev",
          " Camille Saint-Saëns",
          " Amy Marcy Beach",
          " Carlotta Ferrari",
          " Colette Mourey",
          " Agathe Backer-Grøndahl",
          " Giselle Galos",
          " Clara Schumann",
          " Mel Bonis",
          " Camille Stamaty",
          " Andrea Turchetto",
          " Liana Alexandra",
          " Teresa Carreño",
          " Maria Agata Szymanowska",
          " Kerry Mills",
          " Mary Bowden",
          " Ana Leira Carnero",
          " Tekla Bądarzewska-Baranowska",
          " Sophie Menter",
          " Ede Poldini",
          " Fanny Hensel",
          " Vivian Fine",
          " Camille Schubert",
          " Fini Henriques",
          " Germaine Tailleferre",
          " Alice Ellen Charbonnet",
          " Elfrida Andrée",
          " Michele Esposito",
          " Adele aus der Ohe",
          " Emilie Mayer",
          " Atie Bernet",
          " Tatiana Stankovych",
          " Julie Rivé-King",
          " Irene Varley",
          " Marguerite Casalonga",
          " Fernande Beauvois",
          " Nannie Louise Wright",
          " Mon Schjelderup",
          " Laura Netzel",
          " Geraldine Dobyns",
          " Katarzyna Brochocka",
          " Karen Keyhani",
          " Marianne Martinez",
          " Hélène Montgeroult",
          " Irina Bragina",
          " Jadwiga Sarnecka",
          " Maria Hester Park",
          " Luise Adolpha Le Beau",
          " Marie Jaëll",
          " Caroline Lowthian",
          " Valborg Aulin",
          " Dora Pejačević",
          " Augusta Mary Anne Holmès",
          " Sophia Maria Westenholz",
          " Camille Chevillard",
          " Florence Price",
          " Andrea Gabrieli",
          " Andrea Antonello Nacci",
          " Ruth Crawford Seeger",
          " Elaine Fine",
          " Vítězslava Kaprálová",
          " Celestina Masotti",
          " Erika Bodom",
          " Enea Gardana",
          " Blanche Selva",
          " Margaret Hoberg",
          " Margaret Ruthven Lang",
          " Marcelle Soulage",
          " Magda Bugge",
          " Valentine Chevrier",
          " Valentine Hemery",
          " Vivien Mertz Elteart",
          " Louise Farrenc",
          " Louise Chouquet",
          " Liza Lehmann",
          " Stefaniya Zaranek",
          " Teresita Tagliapietra-Carreño",
          " Mildred Hill",
          " Sabrina Pena Young",
          " Michele Carafa",
          " Maria Lluïsa Ponsa",
          " Minna Brinkmann",
          " Pauline Thys",
          " Paula Szalit",
          " Lindsay Lennox",
          " Mathilde Marchesi",
          " Mathilde Kralik",
          " María Malibrán",
          " Mary Wurm",
          " Mary Simoni",
          " Mary E. Walsh",
          " Marion Bauer",
          " Marie Wieck",
          " Marie Madeleine Sophie Lacout-Widmer",
          " Marie Josef Erb",
          " Simone Stella",
          " Sina Kafashi",
          " Sol Paul Levy",
          " Sophie Lucile Larmande-Des Argus",
          " Marianne Auenbrugger",
          " Adele Lewing",
          " Lili Boulanger",
          " Christine Snowdin",
          " Clara B. Stackhouse",
          " Clara Greenwood",
          " Clara Kathleen Rogers",
          " Clémentine Padieu",
          " Cécile Gauthiez",
          " Dorothy Albery",
          " Désirée Manns",
          " Edwina Seeligson",
          " Effie F. Kamman",
          " Elisa Fuchs-Delaye",
          " Elisabeth von Herzogenberg",
          " Elise Wiel",
          " Ella Brier",
          " Ellen Schwindt",
          " Emma Louise Ashford",
          " Charlotte Sohy",
          " Euphemia Allen",
          " Charlotte Bauer",
          " Alba Rosa Viëtor",
          " Amanda Kennedy",
          " Amy Woodforde-Finden",
          " Andrea Antico",
          " Andrea Luchesi",
          " Andrea Maria Ottavini",
          " Angelina Kolb Ayala",
          " Annie K. Pfund",
          " Barbara Strozzi",
          " Beryl Rubinstein",
          " Borghild Holmsen",
          " Esther Kahn",
          " Hilda Romer Murphy",
          " Hélène Collin",
          " Inga Lærum-Liebich",
          " Irene Audain",
          " Jane Pickering",
          " Jane Röckel",
          " Jeanne Alombert",
          " Jelly Roll Morton",
          " Joan Baptista Pujol",
          " Johanna Müller-Hermann",
          " Katharine E. Lucke",
          " Laurence Hibbard Montague",
          " Hilda Sehested",
          " Helena Lopuska",
          " Helen Hopekirk",
          " Germaine Labole",
          " Gertrude Ina Robinson",
          " Gina Ismene Chitty",
          " Grace Linn Sandy",
          " Halina Krzyżanowska",
          " Hazel Gertrude Kinscella",
          " Heather W. Reichgott",
          " Hedwige Chrétien",
          " Ida Kleber"
         ],
         "xaxis": "x",
         "y": [
          52,
          38,
          36,
          23,
          19,
          17,
          16,
          15,
          15,
          13,
          10,
          9,
          7,
          7,
          6,
          5,
          5,
          5,
          5,
          4,
          4,
          4,
          4,
          4,
          4,
          3,
          3,
          3,
          3,
          3,
          3,
          3,
          3,
          3,
          3,
          3,
          3,
          2,
          2,
          2,
          2,
          2,
          2,
          2,
          2,
          2,
          2,
          2,
          2,
          2,
          2,
          2,
          2,
          2,
          2,
          2,
          2,
          2,
          2,
          2,
          2,
          2,
          2,
          2,
          2,
          2,
          1,
          1,
          1,
          1,
          1,
          1,
          1,
          1,
          1,
          1,
          1,
          1,
          1,
          1,
          1,
          1,
          1,
          1,
          1,
          1,
          1,
          1,
          1,
          1,
          1,
          1,
          1,
          1,
          1,
          1,
          1,
          1,
          1,
          1,
          1,
          1,
          1,
          1,
          1,
          1,
          1,
          1,
          1,
          1,
          1,
          1,
          1,
          1,
          1,
          1,
          1,
          1,
          1,
          1,
          1,
          1,
          1,
          1,
          1,
          1,
          1,
          1,
          1,
          1,
          1,
          1,
          1,
          1,
          1,
          1,
          1,
          1,
          1,
          1,
          1,
          1,
          1,
          1,
          1,
          1,
          1,
          1,
          1,
          1,
          1,
          1,
          1,
          1,
          1,
          1,
          1,
          1
         ],
         "yaxis": "y"
        }
       ],
       "layout": {
        "barmode": "relative",
        "legend": {
         "title": {
          "text": "composer_gender"
         },
         "tracegroupgap": 0
        },
        "margin": {
         "t": 60
        },
        "template": {
         "data": {
          "bar": [
           {
            "error_x": {
             "color": "#2a3f5f"
            },
            "error_y": {
             "color": "#2a3f5f"
            },
            "marker": {
             "line": {
              "color": "#E5ECF6",
              "width": 0.5
             },
             "pattern": {
              "fillmode": "overlay",
              "size": 10,
              "solidity": 0.2
             }
            },
            "type": "bar"
           }
          ],
          "barpolar": [
           {
            "marker": {
             "line": {
              "color": "#E5ECF6",
              "width": 0.5
             },
             "pattern": {
              "fillmode": "overlay",
              "size": 10,
              "solidity": 0.2
             }
            },
            "type": "barpolar"
           }
          ],
          "carpet": [
           {
            "aaxis": {
             "endlinecolor": "#2a3f5f",
             "gridcolor": "white",
             "linecolor": "white",
             "minorgridcolor": "white",
             "startlinecolor": "#2a3f5f"
            },
            "baxis": {
             "endlinecolor": "#2a3f5f",
             "gridcolor": "white",
             "linecolor": "white",
             "minorgridcolor": "white",
             "startlinecolor": "#2a3f5f"
            },
            "type": "carpet"
           }
          ],
          "choropleth": [
           {
            "colorbar": {
             "outlinewidth": 0,
             "ticks": ""
            },
            "type": "choropleth"
           }
          ],
          "contour": [
           {
            "colorbar": {
             "outlinewidth": 0,
             "ticks": ""
            },
            "colorscale": [
             [
              0,
              "#0d0887"
             ],
             [
              0.1111111111111111,
              "#46039f"
             ],
             [
              0.2222222222222222,
              "#7201a8"
             ],
             [
              0.3333333333333333,
              "#9c179e"
             ],
             [
              0.4444444444444444,
              "#bd3786"
             ],
             [
              0.5555555555555556,
              "#d8576b"
             ],
             [
              0.6666666666666666,
              "#ed7953"
             ],
             [
              0.7777777777777778,
              "#fb9f3a"
             ],
             [
              0.8888888888888888,
              "#fdca26"
             ],
             [
              1,
              "#f0f921"
             ]
            ],
            "type": "contour"
           }
          ],
          "contourcarpet": [
           {
            "colorbar": {
             "outlinewidth": 0,
             "ticks": ""
            },
            "type": "contourcarpet"
           }
          ],
          "heatmap": [
           {
            "colorbar": {
             "outlinewidth": 0,
             "ticks": ""
            },
            "colorscale": [
             [
              0,
              "#0d0887"
             ],
             [
              0.1111111111111111,
              "#46039f"
             ],
             [
              0.2222222222222222,
              "#7201a8"
             ],
             [
              0.3333333333333333,
              "#9c179e"
             ],
             [
              0.4444444444444444,
              "#bd3786"
             ],
             [
              0.5555555555555556,
              "#d8576b"
             ],
             [
              0.6666666666666666,
              "#ed7953"
             ],
             [
              0.7777777777777778,
              "#fb9f3a"
             ],
             [
              0.8888888888888888,
              "#fdca26"
             ],
             [
              1,
              "#f0f921"
             ]
            ],
            "type": "heatmap"
           }
          ],
          "heatmapgl": [
           {
            "colorbar": {
             "outlinewidth": 0,
             "ticks": ""
            },
            "colorscale": [
             [
              0,
              "#0d0887"
             ],
             [
              0.1111111111111111,
              "#46039f"
             ],
             [
              0.2222222222222222,
              "#7201a8"
             ],
             [
              0.3333333333333333,
              "#9c179e"
             ],
             [
              0.4444444444444444,
              "#bd3786"
             ],
             [
              0.5555555555555556,
              "#d8576b"
             ],
             [
              0.6666666666666666,
              "#ed7953"
             ],
             [
              0.7777777777777778,
              "#fb9f3a"
             ],
             [
              0.8888888888888888,
              "#fdca26"
             ],
             [
              1,
              "#f0f921"
             ]
            ],
            "type": "heatmapgl"
           }
          ],
          "histogram": [
           {
            "marker": {
             "pattern": {
              "fillmode": "overlay",
              "size": 10,
              "solidity": 0.2
             }
            },
            "type": "histogram"
           }
          ],
          "histogram2d": [
           {
            "colorbar": {
             "outlinewidth": 0,
             "ticks": ""
            },
            "colorscale": [
             [
              0,
              "#0d0887"
             ],
             [
              0.1111111111111111,
              "#46039f"
             ],
             [
              0.2222222222222222,
              "#7201a8"
             ],
             [
              0.3333333333333333,
              "#9c179e"
             ],
             [
              0.4444444444444444,
              "#bd3786"
             ],
             [
              0.5555555555555556,
              "#d8576b"
             ],
             [
              0.6666666666666666,
              "#ed7953"
             ],
             [
              0.7777777777777778,
              "#fb9f3a"
             ],
             [
              0.8888888888888888,
              "#fdca26"
             ],
             [
              1,
              "#f0f921"
             ]
            ],
            "type": "histogram2d"
           }
          ],
          "histogram2dcontour": [
           {
            "colorbar": {
             "outlinewidth": 0,
             "ticks": ""
            },
            "colorscale": [
             [
              0,
              "#0d0887"
             ],
             [
              0.1111111111111111,
              "#46039f"
             ],
             [
              0.2222222222222222,
              "#7201a8"
             ],
             [
              0.3333333333333333,
              "#9c179e"
             ],
             [
              0.4444444444444444,
              "#bd3786"
             ],
             [
              0.5555555555555556,
              "#d8576b"
             ],
             [
              0.6666666666666666,
              "#ed7953"
             ],
             [
              0.7777777777777778,
              "#fb9f3a"
             ],
             [
              0.8888888888888888,
              "#fdca26"
             ],
             [
              1,
              "#f0f921"
             ]
            ],
            "type": "histogram2dcontour"
           }
          ],
          "mesh3d": [
           {
            "colorbar": {
             "outlinewidth": 0,
             "ticks": ""
            },
            "type": "mesh3d"
           }
          ],
          "parcoords": [
           {
            "line": {
             "colorbar": {
              "outlinewidth": 0,
              "ticks": ""
             }
            },
            "type": "parcoords"
           }
          ],
          "pie": [
           {
            "automargin": true,
            "type": "pie"
           }
          ],
          "scatter": [
           {
            "fillpattern": {
             "fillmode": "overlay",
             "size": 10,
             "solidity": 0.2
            },
            "type": "scatter"
           }
          ],
          "scatter3d": [
           {
            "line": {
             "colorbar": {
              "outlinewidth": 0,
              "ticks": ""
             }
            },
            "marker": {
             "colorbar": {
              "outlinewidth": 0,
              "ticks": ""
             }
            },
            "type": "scatter3d"
           }
          ],
          "scattercarpet": [
           {
            "marker": {
             "colorbar": {
              "outlinewidth": 0,
              "ticks": ""
             }
            },
            "type": "scattercarpet"
           }
          ],
          "scattergeo": [
           {
            "marker": {
             "colorbar": {
              "outlinewidth": 0,
              "ticks": ""
             }
            },
            "type": "scattergeo"
           }
          ],
          "scattergl": [
           {
            "marker": {
             "colorbar": {
              "outlinewidth": 0,
              "ticks": ""
             }
            },
            "type": "scattergl"
           }
          ],
          "scattermapbox": [
           {
            "marker": {
             "colorbar": {
              "outlinewidth": 0,
              "ticks": ""
             }
            },
            "type": "scattermapbox"
           }
          ],
          "scatterpolar": [
           {
            "marker": {
             "colorbar": {
              "outlinewidth": 0,
              "ticks": ""
             }
            },
            "type": "scatterpolar"
           }
          ],
          "scatterpolargl": [
           {
            "marker": {
             "colorbar": {
              "outlinewidth": 0,
              "ticks": ""
             }
            },
            "type": "scatterpolargl"
           }
          ],
          "scatterternary": [
           {
            "marker": {
             "colorbar": {
              "outlinewidth": 0,
              "ticks": ""
             }
            },
            "type": "scatterternary"
           }
          ],
          "surface": [
           {
            "colorbar": {
             "outlinewidth": 0,
             "ticks": ""
            },
            "colorscale": [
             [
              0,
              "#0d0887"
             ],
             [
              0.1111111111111111,
              "#46039f"
             ],
             [
              0.2222222222222222,
              "#7201a8"
             ],
             [
              0.3333333333333333,
              "#9c179e"
             ],
             [
              0.4444444444444444,
              "#bd3786"
             ],
             [
              0.5555555555555556,
              "#d8576b"
             ],
             [
              0.6666666666666666,
              "#ed7953"
             ],
             [
              0.7777777777777778,
              "#fb9f3a"
             ],
             [
              0.8888888888888888,
              "#fdca26"
             ],
             [
              1,
              "#f0f921"
             ]
            ],
            "type": "surface"
           }
          ],
          "table": [
           {
            "cells": {
             "fill": {
              "color": "#EBF0F8"
             },
             "line": {
              "color": "white"
             }
            },
            "header": {
             "fill": {
              "color": "#C8D4E3"
             },
             "line": {
              "color": "white"
             }
            },
            "type": "table"
           }
          ]
         },
         "layout": {
          "annotationdefaults": {
           "arrowcolor": "#2a3f5f",
           "arrowhead": 0,
           "arrowwidth": 1
          },
          "autotypenumbers": "strict",
          "coloraxis": {
           "colorbar": {
            "outlinewidth": 0,
            "ticks": ""
           }
          },
          "colorscale": {
           "diverging": [
            [
             0,
             "#8e0152"
            ],
            [
             0.1,
             "#c51b7d"
            ],
            [
             0.2,
             "#de77ae"
            ],
            [
             0.3,
             "#f1b6da"
            ],
            [
             0.4,
             "#fde0ef"
            ],
            [
             0.5,
             "#f7f7f7"
            ],
            [
             0.6,
             "#e6f5d0"
            ],
            [
             0.7,
             "#b8e186"
            ],
            [
             0.8,
             "#7fbc41"
            ],
            [
             0.9,
             "#4d9221"
            ],
            [
             1,
             "#276419"
            ]
           ],
           "sequential": [
            [
             0,
             "#0d0887"
            ],
            [
             0.1111111111111111,
             "#46039f"
            ],
            [
             0.2222222222222222,
             "#7201a8"
            ],
            [
             0.3333333333333333,
             "#9c179e"
            ],
            [
             0.4444444444444444,
             "#bd3786"
            ],
            [
             0.5555555555555556,
             "#d8576b"
            ],
            [
             0.6666666666666666,
             "#ed7953"
            ],
            [
             0.7777777777777778,
             "#fb9f3a"
            ],
            [
             0.8888888888888888,
             "#fdca26"
            ],
            [
             1,
             "#f0f921"
            ]
           ],
           "sequentialminus": [
            [
             0,
             "#0d0887"
            ],
            [
             0.1111111111111111,
             "#46039f"
            ],
            [
             0.2222222222222222,
             "#7201a8"
            ],
            [
             0.3333333333333333,
             "#9c179e"
            ],
            [
             0.4444444444444444,
             "#bd3786"
            ],
            [
             0.5555555555555556,
             "#d8576b"
            ],
            [
             0.6666666666666666,
             "#ed7953"
            ],
            [
             0.7777777777777778,
             "#fb9f3a"
            ],
            [
             0.8888888888888888,
             "#fdca26"
            ],
            [
             1,
             "#f0f921"
            ]
           ]
          },
          "colorway": [
           "#636efa",
           "#EF553B",
           "#00cc96",
           "#ab63fa",
           "#FFA15A",
           "#19d3f3",
           "#FF6692",
           "#B6E880",
           "#FF97FF",
           "#FECB52"
          ],
          "font": {
           "color": "#2a3f5f"
          },
          "geo": {
           "bgcolor": "white",
           "lakecolor": "white",
           "landcolor": "#E5ECF6",
           "showlakes": true,
           "showland": true,
           "subunitcolor": "white"
          },
          "hoverlabel": {
           "align": "left"
          },
          "hovermode": "closest",
          "mapbox": {
           "style": "light"
          },
          "paper_bgcolor": "white",
          "plot_bgcolor": "#E5ECF6",
          "polar": {
           "angularaxis": {
            "gridcolor": "white",
            "linecolor": "white",
            "ticks": ""
           },
           "bgcolor": "#E5ECF6",
           "radialaxis": {
            "gridcolor": "white",
            "linecolor": "white",
            "ticks": ""
           }
          },
          "scene": {
           "xaxis": {
            "backgroundcolor": "#E5ECF6",
            "gridcolor": "white",
            "gridwidth": 2,
            "linecolor": "white",
            "showbackground": true,
            "ticks": "",
            "zerolinecolor": "white"
           },
           "yaxis": {
            "backgroundcolor": "#E5ECF6",
            "gridcolor": "white",
            "gridwidth": 2,
            "linecolor": "white",
            "showbackground": true,
            "ticks": "",
            "zerolinecolor": "white"
           },
           "zaxis": {
            "backgroundcolor": "#E5ECF6",
            "gridcolor": "white",
            "gridwidth": 2,
            "linecolor": "white",
            "showbackground": true,
            "ticks": "",
            "zerolinecolor": "white"
           }
          },
          "shapedefaults": {
           "line": {
            "color": "#2a3f5f"
           }
          },
          "ternary": {
           "aaxis": {
            "gridcolor": "white",
            "linecolor": "white",
            "ticks": ""
           },
           "baxis": {
            "gridcolor": "white",
            "linecolor": "white",
            "ticks": ""
           },
           "bgcolor": "#E5ECF6",
           "caxis": {
            "gridcolor": "white",
            "linecolor": "white",
            "ticks": ""
           }
          },
          "title": {
           "x": 0.05
          },
          "xaxis": {
           "automargin": true,
           "gridcolor": "white",
           "linecolor": "white",
           "ticks": "",
           "title": {
            "standoff": 15
           },
           "zerolinecolor": "white",
           "zerolinewidth": 2
          },
          "yaxis": {
           "automargin": true,
           "gridcolor": "white",
           "linecolor": "white",
           "ticks": "",
           "title": {
            "standoff": 15
           },
           "zerolinecolor": "white",
           "zerolinewidth": 2
          }
         }
        },
        "xaxis": {
         "anchor": "y",
         "domain": [
          0,
          1
         ],
         "title": {
          "text": "fullname"
         }
        },
        "yaxis": {
         "anchor": "x",
         "domain": [
          0,
          1
         ],
         "title": {
          "text": "path"
         }
        }
       }
      }
     },
     "metadata": {},
     "output_type": "display_data"
    }
   ],
   "source": [
    "##============== analysis ================================##\n",
    "grouped=giant_midi_data[['fullname','path']].groupby('fullname').count().reset_index()\n",
    "\n",
    "grouped=grouped.merge(giant_midi_data[['fullname','composer_gender']].drop_duplicates(),how='left',on='fullname')\n",
    "\n",
    "grouped=grouped.sort_values(by='path',ascending=False)\n",
    "\n",
    "import plotly.express as px\n",
    "\n",
    "fig=px.bar(grouped,x='fullname',y='path',color='composer_gender')\n",
    "fig.show()"
   ]
  },
  {
   "cell_type": "code",
   "execution_count": 213,
   "metadata": {},
   "outputs": [],
   "source": [
    "giant_midi_data['name']=giant_midi_data['path'].apply(lambda x: x.split(',')[-2])"
   ]
  },
  {
   "cell_type": "code",
   "execution_count": 214,
   "metadata": {},
   "outputs": [],
   "source": [
    "giant_midi_data.to_csv('./dataframes/giant_midi_scores.csv',index=False)"
   ]
  }
 ],
 "metadata": {
  "kernelspec": {
   "display_name": "symbolic_music_conda",
   "language": "python",
   "name": "python3"
  },
  "language_info": {
   "codemirror_mode": {
    "name": "ipython",
    "version": 3
   },
   "file_extension": ".py",
   "mimetype": "text/x-python",
   "name": "python",
   "nbconvert_exporter": "python",
   "pygments_lexer": "ipython3",
   "version": "3.12.3"
  }
 },
 "nbformat": 4,
 "nbformat_minor": 2
}
