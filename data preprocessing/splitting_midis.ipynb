{
 "cells": [
  {
   "cell_type": "code",
   "execution_count": 9,
   "metadata": {},
   "outputs": [],
   "source": [
    "#https://github.com/YatingMusic/miditoolkit/blob/master/examples/parse_and_create_MIDI_files.ipynb\n",
    "\n",
    "import os\n",
    "from miditoolkit.midi import parser as mid_parser\n",
    "from tqdm import tqdm\n",
    "import pandas as pd\n",
    "\n",
    "\n",
    "def split_scores_into_chunks(scores_df,paths_column_name,n_chunks,outputs_paths_column_name):\n",
    "\n",
    "    full_chunks_paths_list=[]\n",
    "    \n",
    "    paths=scores_df[paths_column_name]\n",
    "    paths=paths.apply(lambda x: x.replace('../../author-profiling-in-symbolic-music/','../'))    \n",
    "    \n",
    "    for score_path in tqdm(paths, desc='generating chunk files'):\n",
    "\n",
    "        mido_obj = mid_parser.MidiFile(score_path)\n",
    "\n",
    "        chunk_duration=mido_obj.max_tick//n_chunks\n",
    "\n",
    "        output_path=score_path.replace('/merged piano scores/','/merged piano scores chunks/').split('/')\n",
    "        output_path='/'.join(output_path)\n",
    "        output_dir = os.path.dirname(output_path)\n",
    "        os.makedirs(output_dir, exist_ok=True)  # Ensure the directory exists\n",
    "        \n",
    "        chunks_paths_list=[]\n",
    "\n",
    "        for chunk in range(n_chunks):\n",
    "\n",
    "            full_output_path=f'../{output_path}chunk{chunk}.midi'\n",
    "            chunks_paths_list.append(full_output_path)\n",
    "            #mido_obj.dump(full_output_path, segment=((chunk)*chunk_duration, (chunk+1)*chunk_duration))     \n",
    "\n",
    "\n",
    "        full_chunks_paths_list.append(chunks_paths_list)\n",
    "            \n",
    "    print('generating dataframe with new list')\n",
    "\n",
    "    scores_df[outputs_paths_column_name]=full_chunks_paths_list\n",
    "    \n",
    "    return scores_df"
   ]
  },
  {
   "cell_type": "markdown",
   "metadata": {},
   "source": [
    "### 1. Split type0 scores"
   ]
  },
  {
   "cell_type": "code",
   "execution_count": null,
   "metadata": {},
   "outputs": [],
   "source": [
    "type0_scores=pd.read_csv('../dataframes/type0_scores.csv')"
   ]
  },
  {
   "cell_type": "code",
   "execution_count": null,
   "metadata": {},
   "outputs": [],
   "source": [
    "type0_chunks_df=split_scores_into_chunks(type0_scores,'type0_path',3)"
   ]
  },
  {
   "cell_type": "code",
   "execution_count": null,
   "metadata": {},
   "outputs": [],
   "source": [
    "type0_chunks_df=type0_chunks_df.explode('type0_chunks_paths').reset_index(drop=True)\n",
    "type0_chunks_df.to_csv('./dataframes/type0_chunks_scores.csv')"
   ]
  },
  {
   "cell_type": "markdown",
   "metadata": {},
   "source": [
    "### 2. Split piano merged type 0 scores"
   ]
  },
  {
   "cell_type": "code",
   "execution_count": 7,
   "metadata": {},
   "outputs": [],
   "source": [
    "piano_merged_type0_df=pd.read_csv('../dataframes/piano_merged_scores.csv')"
   ]
  },
  {
   "cell_type": "code",
   "execution_count": 10,
   "metadata": {},
   "outputs": [
    {
     "name": "stderr",
     "output_type": "stream",
     "text": [
      "generating chunk files: 100%|██████████| 1354/1354 [00:11<00:00, 117.41it/s]"
     ]
    },
    {
     "name": "stdout",
     "output_type": "stream",
     "text": [
      "generating dataframe with new list\n"
     ]
    },
    {
     "name": "stderr",
     "output_type": "stream",
     "text": [
      "\n"
     ]
    }
   ],
   "source": [
    "piano_merged_type0_chunks_df=split_scores_into_chunks(scores_df=piano_merged_type0_df,\n",
    "                                                      paths_column_name='paths_type0_piano',\n",
    "                                                       n_chunks=2,\n",
    "                                                      outputs_paths_column_name='piano_merged_type0_chunks_paths')"
   ]
  },
  {
   "cell_type": "code",
   "execution_count": 15,
   "metadata": {},
   "outputs": [],
   "source": [
    "piano_merged_type0_chunks_df=piano_merged_type0_chunks_df.explode('piano_merged_type0_chunks_paths').reset_index(drop=True)\n",
    "piano_merged_type0_chunks_df.to_csv('../dataframes/piano_merged_type0_chunks_scores.csv',index=False)"
   ]
  }
 ],
 "metadata": {
  "kernelspec": {
   "display_name": "symbolic_music_conda",
   "language": "python",
   "name": "python3"
  },
  "language_info": {
   "codemirror_mode": {
    "name": "ipython",
    "version": 3
   },
   "file_extension": ".py",
   "mimetype": "text/x-python",
   "name": "python",
   "nbconvert_exporter": "python",
   "pygments_lexer": "ipython3",
   "version": "3.12.3"
  }
 },
 "nbformat": 4,
 "nbformat_minor": 4
}
