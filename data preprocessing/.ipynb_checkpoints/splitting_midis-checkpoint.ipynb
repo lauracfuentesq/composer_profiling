{
 "cells": [
  {
   "cell_type": "code",
   "execution_count": 1,
   "metadata": {},
   "outputs": [
    {
     "ename": "ModuleNotFoundError",
     "evalue": "No module named 'miditoolkit'",
     "output_type": "error",
     "traceback": [
      "\u001b[0;31m---------------------------------------------------------------------------\u001b[0m",
      "\u001b[0;31mModuleNotFoundError\u001b[0m                       Traceback (most recent call last)",
      "Cell \u001b[0;32mIn[1], line 4\u001b[0m\n\u001b[1;32m      1\u001b[0m \u001b[38;5;66;03m#https://github.com/YatingMusic/miditoolkit/blob/master/examples/parse_and_create_MIDI_files.ipynb\u001b[39;00m\n\u001b[1;32m      3\u001b[0m \u001b[38;5;28;01mimport\u001b[39;00m \u001b[38;5;21;01mos\u001b[39;00m\n\u001b[0;32m----> 4\u001b[0m \u001b[38;5;28;01mfrom\u001b[39;00m \u001b[38;5;21;01mmiditoolkit\u001b[39;00m\u001b[38;5;21;01m.\u001b[39;00m\u001b[38;5;21;01mmidi\u001b[39;00m \u001b[38;5;28;01mimport\u001b[39;00m parser \u001b[38;5;28;01mas\u001b[39;00m mid_parser\n\u001b[1;32m      5\u001b[0m \u001b[38;5;28;01mfrom\u001b[39;00m \u001b[38;5;21;01mtqdm\u001b[39;00m \u001b[38;5;28;01mimport\u001b[39;00m tqdm  \n\u001b[1;32m      7\u001b[0m \u001b[38;5;28;01mdef\u001b[39;00m \u001b[38;5;21msplit_scores_into_chunks\u001b[39m(scores_df,paths_column_name,n_chunks,outputs_paths_column_name):\n",
      "\u001b[0;31mModuleNotFoundError\u001b[0m: No module named 'miditoolkit'"
     ]
    }
   ],
   "source": [
    "#https://github.com/YatingMusic/miditoolkit/blob/master/examples/parse_and_create_MIDI_files.ipynb\n",
    "\n",
    "import os\n",
    "from miditoolkit.midi import parser as mid_parser\n",
    "from tqdm import tqdm  \n",
    "\n",
    "def split_scores_into_chunks(scores_df,paths_column_name,n_chunks,outputs_paths_column_name):\n",
    "\n",
    "    full_chunks_paths_list=[]    \n",
    "    \n",
    "    for score_path in tqdm(scores_df[paths_column_name], desc='generating chunk files'):\n",
    "\n",
    "        mido_obj = mid_parser.MidiFile(score_path)\n",
    "\n",
    "        chunk_duration=mido_obj.max_tick//n_chunks\n",
    "\n",
    "        output_path=score_path.replace('/merged piano scores/','/merged piano scores chunks/').split('/')\n",
    "        output_path='/'.join(output_path)\n",
    "        output_dir = os.path.dirname(output_path)\n",
    "        os.makedirs(output_dir, exist_ok=True)  # Ensure the directory exists\n",
    "        \n",
    "        chunks_paths_list=[]\n",
    "\n",
    "        for chunk in range(n_chunks):\n",
    "\n",
    "            full_output_path=f'{output_path}chunk{chunk}.midi'\n",
    "            chunks_paths_list.append(full_output_path)\n",
    "            #mido_obj.dump(full_output_path, segment=((chunk)*chunk_duration, (chunk+1)*chunk_duration))     \n",
    "\n",
    "\n",
    "        full_chunks_paths_list.append(chunks_paths_list)\n",
    "            \n",
    "    print('generating dataframe with new list')\n",
    "\n",
    "    scores_df[outputs_paths_column_name]=full_chunks_paths_list\n",
    "    \n",
    "    return scores_df"
   ]
  },
  {
   "cell_type": "markdown",
   "metadata": {},
   "source": [
    "### 1. Split type0 scores"
   ]
  },
  {
   "cell_type": "code",
   "execution_count": null,
   "metadata": {},
   "outputs": [],
   "source": [
    "import pandas as pd\n",
    "\n",
    "type0_scores=pd.read_csv('../dataframes/type0_scores.csv')"
   ]
  },
  {
   "cell_type": "code",
   "execution_count": null,
   "metadata": {},
   "outputs": [],
   "source": [
    "type0_chunks_df=split_scores_into_chunks(type0_scores,'type0_path',3)"
   ]
  },
  {
   "cell_type": "code",
   "execution_count": null,
   "metadata": {},
   "outputs": [],
   "source": [
    "type0_chunks_df=type0_chunks_df.explode('type0_chunks_paths').reset_index(drop=True)\n",
    "type0_chunks_df.to_csv('./dataframes/type0_chunks_scores.csv')"
   ]
  },
  {
   "cell_type": "markdown",
   "metadata": {},
   "source": [
    "### 2. Split piano merged type 0 scores"
   ]
  },
  {
   "cell_type": "code",
   "execution_count": 4,
   "metadata": {},
   "outputs": [],
   "source": [
    "piano_merged_type0_df=pd.read_csv('../dataframes/piano_merged_scores.csv')"
   ]
  },
  {
   "cell_type": "code",
   "execution_count": 7,
   "metadata": {},
   "outputs": [
    {
     "name": "stderr",
     "output_type": "stream",
     "text": [
      "generating chunk files: 100%|██████████| 1354/1354 [00:28<00:00, 47.18it/s]"
     ]
    },
    {
     "name": "stdout",
     "output_type": "stream",
     "text": [
      "generating dataframe with new list\n"
     ]
    },
    {
     "name": "stderr",
     "output_type": "stream",
     "text": [
      "\n"
     ]
    }
   ],
   "source": [
    "piano_merged_type0_chunks_df=split_scores_into_chunks(scores_df=piano_merged_type0_df,\n",
    "                                                      paths_column_name='paths_type0_piano',\n",
    "                                                       n_chunks=2,\n",
    "                                                      outputs_paths_column_name='piano_merged_type0_chunks_paths')"
   ]
  },
  {
   "cell_type": "code",
   "execution_count": null,
   "metadata": {},
   "outputs": [],
   "source": [
    "piano_merged_type0_chunks_df=piano_merged_type0_chunks_df.explode('piano_merged_type0_chunks_paths').reset_index(drop=True)\n",
    "piano_merged_type0_chunks_df.to_csv('./dataframes/piano_merged_type0_chunks_scores.csv')"
   ]
  }
 ],
 "metadata": {
  "kernelspec": {
   "display_name": "symbolic_music",
   "language": "python",
   "name": "symbolic_music"
  },
  "language_info": {
   "codemirror_mode": {
    "name": "ipython",
    "version": 3
   },
   "file_extension": ".py",
   "mimetype": "text/x-python",
   "name": "python",
   "nbconvert_exporter": "python",
   "pygments_lexer": "ipython3",
   "version": "3.12.3"
  }
 },
 "nbformat": 4,
 "nbformat_minor": 4
}
