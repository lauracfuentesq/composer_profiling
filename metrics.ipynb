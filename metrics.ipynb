{
 "cells": [
  {
   "cell_type": "markdown",
   "metadata": {},
   "source": [
    "### 0. Import libraries"
   ]
  },
  {
   "cell_type": "code",
   "execution_count": 1,
   "metadata": {},
   "outputs": [],
   "source": [
    "import pandas as pd\n",
    "from sklearn.metrics import balanced_accuracy_score\n",
    "from sklearn.metrics import accuracy_score\n",
    "from sklearn.metrics import f1_score\n",
    "import metrics_and_plots as utils\n",
    "import importlib\n",
    "import numpy as np"
   ]
  },
  {
   "cell_type": "code",
   "execution_count": 2,
   "metadata": {},
   "outputs": [
    {
     "data": {
      "text/plain": [
       "<module 'metrics_and_plots' from '/home/lafuente/Documents/Symbolic Music/author-profiling/metrics_and_plots.py'>"
      ]
     },
     "execution_count": 2,
     "metadata": {},
     "output_type": "execute_result"
    }
   ],
   "source": [
    "importlib.reload(utils)"
   ]
  },
  {
   "cell_type": "markdown",
   "metadata": {},
   "source": [
    "### 1. Results table"
   ]
  },
  {
   "cell_type": "code",
   "execution_count": null,
   "metadata": {},
   "outputs": [],
   "source": [
    "full_metrics_df=utils.results_table(export_data=True)"
   ]
  },
  {
   "cell_type": "code",
   "execution_count": null,
   "metadata": {},
   "outputs": [],
   "source": [
    "full_metrics_df"
   ]
  },
  {
   "cell_type": "markdown",
   "metadata": {},
   "source": [
    "### 2. Metrics by epoch"
   ]
  },
  {
   "cell_type": "code",
   "execution_count": null,
   "metadata": {},
   "outputs": [],
   "source": [
    "experiment_1='e9'\n",
    "experiment_2='e10'\n",
    "\n",
    "utils.balanced_accuracy_per_epoch_2_experiments(experiment_1,experiment_2)"
   ]
  },
  {
   "cell_type": "code",
   "execution_count": null,
   "metadata": {},
   "outputs": [],
   "source": [
    "utils.loss_per_epoch_2_experiments(experiment_1,experiment_2)"
   ]
  },
  {
   "cell_type": "markdown",
   "metadata": {},
   "source": [
    "### 3. Analysis Validation set"
   ]
  },
  {
   "cell_type": "code",
   "execution_count": null,
   "metadata": {},
   "outputs": [],
   "source": [
    "validation_full_df=utils.prepare_validation_data(predictions_df_val_path='./experiments/e9/predictions_df_val_e9.csv',\n",
    "                                      validation_set_path='./train data/validation_set_3.csv')"
   ]
  },
  {
   "cell_type": "code",
   "execution_count": null,
   "metadata": {},
   "outputs": [],
   "source": [
    "validation_full_df=utils.prepare_validation_data(predictions_df_val_path='./experiments/e10/predictions_df_val_e10.csv',\n",
    "                                      validation_set_path='./train data/type0_validation_set_2.csv')"
   ]
  },
  {
   "cell_type": "code",
   "execution_count": null,
   "metadata": {},
   "outputs": [],
   "source": [
    "full_df=validation_full_df"
   ]
  },
  {
   "cell_type": "code",
   "execution_count": null,
   "metadata": {},
   "outputs": [],
   "source": [
    "utils.conditional_probabilities_by_gender(validation_full_df)"
   ]
  },
  {
   "cell_type": "code",
   "execution_count": null,
   "metadata": {},
   "outputs": [],
   "source": [
    "utils.proportions_male_composers(validation_full_df)"
   ]
  },
  {
   "cell_type": "code",
   "execution_count": null,
   "metadata": {},
   "outputs": [],
   "source": [
    "utils.proportions_female_composers(validation_full_df)"
   ]
  },
  {
   "cell_type": "code",
   "execution_count": null,
   "metadata": {},
   "outputs": [],
   "source": [
    "utils.proportions_female_composers_and_nscores(full_df)"
   ]
  },
  {
   "cell_type": "code",
   "execution_count": null,
   "metadata": {},
   "outputs": [],
   "source": [
    "utils.proportions_male_composers_and_nscores(full_df)"
   ]
  },
  {
   "cell_type": "code",
   "execution_count": null,
   "metadata": {},
   "outputs": [],
   "source": [
    "utils.density_female_composers(validation_full_df)"
   ]
  },
  {
   "cell_type": "code",
   "execution_count": null,
   "metadata": {},
   "outputs": [],
   "source": [
    "utils.density_male_composers(validation_full_df)"
   ]
  },
  {
   "cell_type": "markdown",
   "metadata": {},
   "source": [
    "### 4. Analysis Test set"
   ]
  },
  {
   "cell_type": "code",
   "execution_count": null,
   "metadata": {},
   "outputs": [],
   "source": [
    "test_full_df=utils.prepare_test_data(predictions_df_test_path='./experiments/e9/predictions_df_test_e9.csv',\n",
    "                                      test_set_path='./train data/test_set_3.csv')"
   ]
  },
  {
   "cell_type": "code",
   "execution_count": null,
   "metadata": {},
   "outputs": [],
   "source": [
    "test_full_df=utils.prepare_test_data(predictions_df_test_path='./experiments/e10/predictions_df_test_e10.csv',\n",
    "                                      test_set_path='./train data/type0_test_set_2.csv')"
   ]
  },
  {
   "cell_type": "code",
   "execution_count": null,
   "metadata": {},
   "outputs": [],
   "source": [
    "#full_df.to_csv('./dataframes/cross_validation_predictions.csv',index=False)\n",
    "\n",
    "full_df=full_df.groupby(by=['composer_name','predictions_string'])['predictions'].count().reset_index()\n",
    "\n",
    "# Calculate total predictions for each composer\n",
    "full_df['total_predictions'] = full_df.groupby('composer_name')['predictions'].transform('sum')\n",
    "\n",
    "# Calculate the proportion of predictions\n",
    "full_df['proportion'] = round(full_df['predictions'] / full_df['total_predictions'],2)\n",
    "\n",
    "\n",
    "test_full_df=full_df"
   ]
  },
  {
   "cell_type": "code",
   "execution_count": null,
   "metadata": {},
   "outputs": [],
   "source": [
    "utils.conditional_probabilities_by_gender(test_full_df)"
   ]
  },
  {
   "cell_type": "code",
   "execution_count": null,
   "metadata": {},
   "outputs": [],
   "source": [
    "utils.proportions_male_composers(test_full_df)"
   ]
  },
  {
   "cell_type": "code",
   "execution_count": null,
   "metadata": {},
   "outputs": [],
   "source": [
    "utils.proportions_female_composers(test_full_df)"
   ]
  },
  {
   "cell_type": "code",
   "execution_count": null,
   "metadata": {},
   "outputs": [],
   "source": [
    "utils.proportions_male_composers_and_nscores(test_full_df)"
   ]
  },
  {
   "cell_type": "code",
   "execution_count": null,
   "metadata": {},
   "outputs": [],
   "source": [
    "utils.proportions_female_composers_and_nscores(test_full_df)"
   ]
  },
  {
   "cell_type": "code",
   "execution_count": null,
   "metadata": {},
   "outputs": [],
   "source": [
    "utils.density_female_composers(test_full_df)"
   ]
  },
  {
   "cell_type": "code",
   "execution_count": null,
   "metadata": {},
   "outputs": [],
   "source": [
    "utils.density_male_composers(test_full_df)"
   ]
  },
  {
   "cell_type": "markdown",
   "metadata": {},
   "source": [
    "### 5. e10-e14 validation performance"
   ]
  },
  {
   "cell_type": "code",
   "execution_count": 2,
   "metadata": {},
   "outputs": [
    {
     "data": {
      "application/vnd.plotly.v1+json": {
       "config": {
        "plotlyServerURL": "https://plot.ly"
       },
       "data": [
        {
         "alignmentgroup": "True",
         "hovertemplate": "experiment=%{x}<br>val_balanced_accuracy_score=%{y}<extra></extra>",
         "legendgroup": "",
         "marker": {
          "color": [
           "darkred",
           "lightblue",
           "lightgreen",
           "lightpink",
           "lightyellow"
          ],
          "pattern": {
           "shape": ""
          }
         },
         "name": "",
         "offsetgroup": "",
         "orientation": "v",
         "showlegend": false,
         "text": [
          0.71,
          0.63,
          0.5,
          0.61,
          0.47
         ],
         "textposition": "auto",
         "texttemplate": "%{text}",
         "type": "bar",
         "x": [
          "Full scores",
          "Only piano",
          "Only Voice",
          "Left hand Only",
          "Right hand Only"
         ],
         "xaxis": "x",
         "y": [
          0.71,
          0.63,
          0.5,
          0.61,
          0.47
         ],
         "yaxis": "y"
        }
       ],
       "layout": {
        "barmode": "relative",
        "font": {
         "color": "black",
         "family": "DejaVu Sans",
         "size": 16
        },
        "height": 600,
        "legend": {
         "tracegroupgap": 0
        },
        "margin": {
         "b": 0,
         "l": 0,
         "r": 0,
         "t": 80
        },
        "plot_bgcolor": "white",
        "template": {
         "data": {
          "bar": [
           {
            "error_x": {
             "color": "#2a3f5f"
            },
            "error_y": {
             "color": "#2a3f5f"
            },
            "marker": {
             "line": {
              "color": "#E5ECF6",
              "width": 0.5
             },
             "pattern": {
              "fillmode": "overlay",
              "size": 10,
              "solidity": 0.2
             }
            },
            "type": "bar"
           }
          ],
          "barpolar": [
           {
            "marker": {
             "line": {
              "color": "#E5ECF6",
              "width": 0.5
             },
             "pattern": {
              "fillmode": "overlay",
              "size": 10,
              "solidity": 0.2
             }
            },
            "type": "barpolar"
           }
          ],
          "carpet": [
           {
            "aaxis": {
             "endlinecolor": "#2a3f5f",
             "gridcolor": "white",
             "linecolor": "white",
             "minorgridcolor": "white",
             "startlinecolor": "#2a3f5f"
            },
            "baxis": {
             "endlinecolor": "#2a3f5f",
             "gridcolor": "white",
             "linecolor": "white",
             "minorgridcolor": "white",
             "startlinecolor": "#2a3f5f"
            },
            "type": "carpet"
           }
          ],
          "choropleth": [
           {
            "colorbar": {
             "outlinewidth": 0,
             "ticks": ""
            },
            "type": "choropleth"
           }
          ],
          "contour": [
           {
            "colorbar": {
             "outlinewidth": 0,
             "ticks": ""
            },
            "colorscale": [
             [
              0,
              "#0d0887"
             ],
             [
              0.1111111111111111,
              "#46039f"
             ],
             [
              0.2222222222222222,
              "#7201a8"
             ],
             [
              0.3333333333333333,
              "#9c179e"
             ],
             [
              0.4444444444444444,
              "#bd3786"
             ],
             [
              0.5555555555555556,
              "#d8576b"
             ],
             [
              0.6666666666666666,
              "#ed7953"
             ],
             [
              0.7777777777777778,
              "#fb9f3a"
             ],
             [
              0.8888888888888888,
              "#fdca26"
             ],
             [
              1,
              "#f0f921"
             ]
            ],
            "type": "contour"
           }
          ],
          "contourcarpet": [
           {
            "colorbar": {
             "outlinewidth": 0,
             "ticks": ""
            },
            "type": "contourcarpet"
           }
          ],
          "heatmap": [
           {
            "colorbar": {
             "outlinewidth": 0,
             "ticks": ""
            },
            "colorscale": [
             [
              0,
              "#0d0887"
             ],
             [
              0.1111111111111111,
              "#46039f"
             ],
             [
              0.2222222222222222,
              "#7201a8"
             ],
             [
              0.3333333333333333,
              "#9c179e"
             ],
             [
              0.4444444444444444,
              "#bd3786"
             ],
             [
              0.5555555555555556,
              "#d8576b"
             ],
             [
              0.6666666666666666,
              "#ed7953"
             ],
             [
              0.7777777777777778,
              "#fb9f3a"
             ],
             [
              0.8888888888888888,
              "#fdca26"
             ],
             [
              1,
              "#f0f921"
             ]
            ],
            "type": "heatmap"
           }
          ],
          "heatmapgl": [
           {
            "colorbar": {
             "outlinewidth": 0,
             "ticks": ""
            },
            "colorscale": [
             [
              0,
              "#0d0887"
             ],
             [
              0.1111111111111111,
              "#46039f"
             ],
             [
              0.2222222222222222,
              "#7201a8"
             ],
             [
              0.3333333333333333,
              "#9c179e"
             ],
             [
              0.4444444444444444,
              "#bd3786"
             ],
             [
              0.5555555555555556,
              "#d8576b"
             ],
             [
              0.6666666666666666,
              "#ed7953"
             ],
             [
              0.7777777777777778,
              "#fb9f3a"
             ],
             [
              0.8888888888888888,
              "#fdca26"
             ],
             [
              1,
              "#f0f921"
             ]
            ],
            "type": "heatmapgl"
           }
          ],
          "histogram": [
           {
            "marker": {
             "pattern": {
              "fillmode": "overlay",
              "size": 10,
              "solidity": 0.2
             }
            },
            "type": "histogram"
           }
          ],
          "histogram2d": [
           {
            "colorbar": {
             "outlinewidth": 0,
             "ticks": ""
            },
            "colorscale": [
             [
              0,
              "#0d0887"
             ],
             [
              0.1111111111111111,
              "#46039f"
             ],
             [
              0.2222222222222222,
              "#7201a8"
             ],
             [
              0.3333333333333333,
              "#9c179e"
             ],
             [
              0.4444444444444444,
              "#bd3786"
             ],
             [
              0.5555555555555556,
              "#d8576b"
             ],
             [
              0.6666666666666666,
              "#ed7953"
             ],
             [
              0.7777777777777778,
              "#fb9f3a"
             ],
             [
              0.8888888888888888,
              "#fdca26"
             ],
             [
              1,
              "#f0f921"
             ]
            ],
            "type": "histogram2d"
           }
          ],
          "histogram2dcontour": [
           {
            "colorbar": {
             "outlinewidth": 0,
             "ticks": ""
            },
            "colorscale": [
             [
              0,
              "#0d0887"
             ],
             [
              0.1111111111111111,
              "#46039f"
             ],
             [
              0.2222222222222222,
              "#7201a8"
             ],
             [
              0.3333333333333333,
              "#9c179e"
             ],
             [
              0.4444444444444444,
              "#bd3786"
             ],
             [
              0.5555555555555556,
              "#d8576b"
             ],
             [
              0.6666666666666666,
              "#ed7953"
             ],
             [
              0.7777777777777778,
              "#fb9f3a"
             ],
             [
              0.8888888888888888,
              "#fdca26"
             ],
             [
              1,
              "#f0f921"
             ]
            ],
            "type": "histogram2dcontour"
           }
          ],
          "mesh3d": [
           {
            "colorbar": {
             "outlinewidth": 0,
             "ticks": ""
            },
            "type": "mesh3d"
           }
          ],
          "parcoords": [
           {
            "line": {
             "colorbar": {
              "outlinewidth": 0,
              "ticks": ""
             }
            },
            "type": "parcoords"
           }
          ],
          "pie": [
           {
            "automargin": true,
            "type": "pie"
           }
          ],
          "scatter": [
           {
            "fillpattern": {
             "fillmode": "overlay",
             "size": 10,
             "solidity": 0.2
            },
            "type": "scatter"
           }
          ],
          "scatter3d": [
           {
            "line": {
             "colorbar": {
              "outlinewidth": 0,
              "ticks": ""
             }
            },
            "marker": {
             "colorbar": {
              "outlinewidth": 0,
              "ticks": ""
             }
            },
            "type": "scatter3d"
           }
          ],
          "scattercarpet": [
           {
            "marker": {
             "colorbar": {
              "outlinewidth": 0,
              "ticks": ""
             }
            },
            "type": "scattercarpet"
           }
          ],
          "scattergeo": [
           {
            "marker": {
             "colorbar": {
              "outlinewidth": 0,
              "ticks": ""
             }
            },
            "type": "scattergeo"
           }
          ],
          "scattergl": [
           {
            "marker": {
             "colorbar": {
              "outlinewidth": 0,
              "ticks": ""
             }
            },
            "type": "scattergl"
           }
          ],
          "scattermapbox": [
           {
            "marker": {
             "colorbar": {
              "outlinewidth": 0,
              "ticks": ""
             }
            },
            "type": "scattermapbox"
           }
          ],
          "scatterpolar": [
           {
            "marker": {
             "colorbar": {
              "outlinewidth": 0,
              "ticks": ""
             }
            },
            "type": "scatterpolar"
           }
          ],
          "scatterpolargl": [
           {
            "marker": {
             "colorbar": {
              "outlinewidth": 0,
              "ticks": ""
             }
            },
            "type": "scatterpolargl"
           }
          ],
          "scatterternary": [
           {
            "marker": {
             "colorbar": {
              "outlinewidth": 0,
              "ticks": ""
             }
            },
            "type": "scatterternary"
           }
          ],
          "surface": [
           {
            "colorbar": {
             "outlinewidth": 0,
             "ticks": ""
            },
            "colorscale": [
             [
              0,
              "#0d0887"
             ],
             [
              0.1111111111111111,
              "#46039f"
             ],
             [
              0.2222222222222222,
              "#7201a8"
             ],
             [
              0.3333333333333333,
              "#9c179e"
             ],
             [
              0.4444444444444444,
              "#bd3786"
             ],
             [
              0.5555555555555556,
              "#d8576b"
             ],
             [
              0.6666666666666666,
              "#ed7953"
             ],
             [
              0.7777777777777778,
              "#fb9f3a"
             ],
             [
              0.8888888888888888,
              "#fdca26"
             ],
             [
              1,
              "#f0f921"
             ]
            ],
            "type": "surface"
           }
          ],
          "table": [
           {
            "cells": {
             "fill": {
              "color": "#EBF0F8"
             },
             "line": {
              "color": "white"
             }
            },
            "header": {
             "fill": {
              "color": "#C8D4E3"
             },
             "line": {
              "color": "white"
             }
            },
            "type": "table"
           }
          ]
         },
         "layout": {
          "annotationdefaults": {
           "arrowcolor": "#2a3f5f",
           "arrowhead": 0,
           "arrowwidth": 1
          },
          "autotypenumbers": "strict",
          "coloraxis": {
           "colorbar": {
            "outlinewidth": 0,
            "ticks": ""
           }
          },
          "colorscale": {
           "diverging": [
            [
             0,
             "#8e0152"
            ],
            [
             0.1,
             "#c51b7d"
            ],
            [
             0.2,
             "#de77ae"
            ],
            [
             0.3,
             "#f1b6da"
            ],
            [
             0.4,
             "#fde0ef"
            ],
            [
             0.5,
             "#f7f7f7"
            ],
            [
             0.6,
             "#e6f5d0"
            ],
            [
             0.7,
             "#b8e186"
            ],
            [
             0.8,
             "#7fbc41"
            ],
            [
             0.9,
             "#4d9221"
            ],
            [
             1,
             "#276419"
            ]
           ],
           "sequential": [
            [
             0,
             "#0d0887"
            ],
            [
             0.1111111111111111,
             "#46039f"
            ],
            [
             0.2222222222222222,
             "#7201a8"
            ],
            [
             0.3333333333333333,
             "#9c179e"
            ],
            [
             0.4444444444444444,
             "#bd3786"
            ],
            [
             0.5555555555555556,
             "#d8576b"
            ],
            [
             0.6666666666666666,
             "#ed7953"
            ],
            [
             0.7777777777777778,
             "#fb9f3a"
            ],
            [
             0.8888888888888888,
             "#fdca26"
            ],
            [
             1,
             "#f0f921"
            ]
           ],
           "sequentialminus": [
            [
             0,
             "#0d0887"
            ],
            [
             0.1111111111111111,
             "#46039f"
            ],
            [
             0.2222222222222222,
             "#7201a8"
            ],
            [
             0.3333333333333333,
             "#9c179e"
            ],
            [
             0.4444444444444444,
             "#bd3786"
            ],
            [
             0.5555555555555556,
             "#d8576b"
            ],
            [
             0.6666666666666666,
             "#ed7953"
            ],
            [
             0.7777777777777778,
             "#fb9f3a"
            ],
            [
             0.8888888888888888,
             "#fdca26"
            ],
            [
             1,
             "#f0f921"
            ]
           ]
          },
          "colorway": [
           "#636efa",
           "#EF553B",
           "#00cc96",
           "#ab63fa",
           "#FFA15A",
           "#19d3f3",
           "#FF6692",
           "#B6E880",
           "#FF97FF",
           "#FECB52"
          ],
          "font": {
           "color": "#2a3f5f"
          },
          "geo": {
           "bgcolor": "white",
           "lakecolor": "white",
           "landcolor": "#E5ECF6",
           "showlakes": true,
           "showland": true,
           "subunitcolor": "white"
          },
          "hoverlabel": {
           "align": "left"
          },
          "hovermode": "closest",
          "mapbox": {
           "style": "light"
          },
          "paper_bgcolor": "white",
          "plot_bgcolor": "#E5ECF6",
          "polar": {
           "angularaxis": {
            "gridcolor": "white",
            "linecolor": "white",
            "ticks": ""
           },
           "bgcolor": "#E5ECF6",
           "radialaxis": {
            "gridcolor": "white",
            "linecolor": "white",
            "ticks": ""
           }
          },
          "scene": {
           "xaxis": {
            "backgroundcolor": "#E5ECF6",
            "gridcolor": "white",
            "gridwidth": 2,
            "linecolor": "white",
            "showbackground": true,
            "ticks": "",
            "zerolinecolor": "white"
           },
           "yaxis": {
            "backgroundcolor": "#E5ECF6",
            "gridcolor": "white",
            "gridwidth": 2,
            "linecolor": "white",
            "showbackground": true,
            "ticks": "",
            "zerolinecolor": "white"
           },
           "zaxis": {
            "backgroundcolor": "#E5ECF6",
            "gridcolor": "white",
            "gridwidth": 2,
            "linecolor": "white",
            "showbackground": true,
            "ticks": "",
            "zerolinecolor": "white"
           }
          },
          "shapedefaults": {
           "line": {
            "color": "#2a3f5f"
           }
          },
          "ternary": {
           "aaxis": {
            "gridcolor": "white",
            "linecolor": "white",
            "ticks": ""
           },
           "baxis": {
            "gridcolor": "white",
            "linecolor": "white",
            "ticks": ""
           },
           "bgcolor": "#E5ECF6",
           "caxis": {
            "gridcolor": "white",
            "linecolor": "white",
            "ticks": ""
           }
          },
          "title": {
           "x": 0.05
          },
          "xaxis": {
           "automargin": true,
           "gridcolor": "white",
           "linecolor": "white",
           "ticks": "",
           "title": {
            "standoff": 15
           },
           "zerolinecolor": "white",
           "zerolinewidth": 2
          },
          "yaxis": {
           "automargin": true,
           "gridcolor": "white",
           "linecolor": "white",
           "ticks": "",
           "title": {
            "standoff": 15
           },
           "zerolinecolor": "white",
           "zerolinewidth": 2
          }
         }
        },
        "title": {
         "text": "<b>Validation Balanced Accuracy by Score's feature",
         "x": 0.5
        },
        "width": 800,
        "xaxis": {
         "anchor": "y",
         "domain": [
          0,
          1
         ],
         "title": {
          "text": "experiment"
         }
        },
        "yaxis": {
         "anchor": "x",
         "automargin": true,
         "domain": [
          0,
          1
         ],
         "gridcolor": "lightgrey",
         "title": {
          "text": "Validation Balanced Accuracy"
         }
        }
       }
      }
     },
     "metadata": {},
     "output_type": "display_data"
    }
   ],
   "source": [
    "fig=utils.e10_e14_validation_performance()"
   ]
  },
  {
   "cell_type": "code",
   "execution_count": 3,
   "metadata": {},
   "outputs": [],
   "source": [
    "# Save the plot as an SVG file\n",
    "fig.write_image(\"performance_vs_features.pdf\")"
   ]
  },
  {
   "cell_type": "markdown",
   "metadata": {},
   "source": [
    "### 6. e11-e14 loss and balanced accuracy"
   ]
  },
  {
   "cell_type": "code",
   "execution_count": null,
   "metadata": {},
   "outputs": [],
   "source": [
    "import plotly.graph_objects as go\n",
    "import pandas as pd\n",
    "\n",
    "# Initialize figure\n",
    "fig = go.Figure()\n",
    "\n",
    "initial_exp = 11\n",
    "final_exp = 14\n",
    "\n",
    "# Define colors for each experiment\n",
    "colors = ['lightblue', '#FF9999', 'lightgreen', 'lightpink']\n",
    "\n",
    "# Additional text for labels\n",
    "additional_text = [\"Only piano\", \"Only Voice\", \"Left hand Only\", \"Right hand Only\"]\n",
    "\n",
    "dark_colors = ['darkblue', 'darkgreen', 'darkred','darkviolet']\n",
    "light_colors= ['lightblue', 'lightgreen', 'lightpink', 'lavender']\n",
    "\n",
    "for i,experiment in enumerate(range(initial_exp, final_exp + 1)):\n",
    "    # Load data for each experiment\n",
    "    metrics_df = pd.read_csv(f'./experiments/e{experiment}/metrics_df_e{experiment}.csv')\n",
    "\n",
    "    metrics_per_epoch = metrics_df[~metrics_df['val_avg_loss'].isna()]\n",
    "    metrics_per_epoch['epoch'] = range(1, metrics_per_epoch.shape[0] + 1)\n",
    "        \n",
    "    fig.add_trace(go.Scatter(\n",
    "        y=metrics_per_epoch['val_balanced_accuracy'],\n",
    "        x=metrics_per_epoch['epoch'],\n",
    "        mode='lines+markers+text',\n",
    "        name=f'val_balanced_accuracy_{experiment} ({additional_text[i]})',\n",
    "        text=metrics_per_epoch['val_balanced_accuracy'].round(2),  # Add labels to the points\n",
    "        textposition='top center',  # Position the labels\n",
    "        line=dict(color=dark_colors[i])\n",
    "    ))\n",
    "\n",
    "    fig.add_trace(go.Scatter(\n",
    "        y=metrics_per_epoch['train_balanced_accuracy'],\n",
    "        x=metrics_per_epoch['epoch'],\n",
    "        mode='lines+markers+text',\n",
    "        name=f'train_balanced_accuracy_{experiment} ({additional_text[i]})',\n",
    "        text=metrics_per_epoch['train_balanced_accuracy'].round(2),  # Add labels to the points\n",
    "        textposition='top center',  # Position the labels\n",
    "        line=dict(color=light_colors[i])\n",
    "    ))\n",
    "\n",
    "# Update layout\n",
    "fig.update_layout(\n",
    "    title='Balanced Accuracy per Epoch',\n",
    "    xaxis_title='Epoch',\n",
    "    yaxis_title='Balanced Accuracy',\n",
    "    xaxis=dict(tickvals=list(range(1, 11))),  # Cut x-axis into 10 intervals\n",
    "    yaxis=dict(range=[0.3, 1], dtick=0.05),  # Adjust y-axis range and tick interval\n",
    "    title_x=0.5  # Center the title\n",
    ")\n",
    "\n",
    "fig.show()\n"
   ]
  },
  {
   "cell_type": "code",
   "execution_count": null,
   "metadata": {},
   "outputs": [],
   "source": [
    "# Initialize figure\n",
    "fig = go.Figure()\n",
    "\n",
    "initial_exp = 11\n",
    "final_exp = 13\n",
    "\n",
    "# Define colors for each experiment\n",
    "colors = ['lightblue', '#FF9999', 'lightgreen', 'lightpink']\n",
    "\n",
    "# Additional text for labels\n",
    "additional_text = [\"Only piano\", \"Only Voice\", \"Left hand Only\", \"Right hand Only\"]\n",
    "\n",
    "dark_colors = ['darkblue', 'darkgreen', 'darkred','darkviolet']\n",
    "light_colors= ['lightblue', 'lightgreen', 'lightpink', 'lavender']\n",
    "\n",
    "for i,experiment in enumerate(range(initial_exp, final_exp + 1)):\n",
    "    # Load data for each experiment\n",
    "    metrics_df = pd.read_csv(f'./experiments/e{experiment}/metrics_df_e{experiment}.csv')\n",
    "\n",
    "    metrics_per_epoch = metrics_df[~metrics_df['val_avg_loss'].isna()]\n",
    "    metrics_per_epoch['epoch'] = range(1, metrics_per_epoch.shape[0] + 1)\n",
    "        \n",
    "    fig.add_trace(go.Scatter(\n",
    "        y=metrics_per_epoch['val_avg_loss'],\n",
    "        x=metrics_per_epoch['epoch'],\n",
    "        mode='lines+markers+text',\n",
    "        name=f'val_avg_loss_{experiment} ({additional_text[i]})',\n",
    "        text=metrics_per_epoch['val_avg_loss'].round(2),  # Add labels to the points\n",
    "        textposition='top center',  # Position the labels\n",
    "        line=dict(color=dark_colors[i])\n",
    "    ))\n",
    "\n",
    "    fig.add_trace(go.Scatter(\n",
    "        y=metrics_per_epoch['train_avg_loss'],\n",
    "        x=metrics_per_epoch['epoch'],\n",
    "        mode='lines+markers+text',\n",
    "        name=f'train_avg_loss_{experiment} ({additional_text[i]})',\n",
    "        text=metrics_per_epoch['train_avg_loss'].round(2),  # Add labels to the points\n",
    "        textposition='top center',  # Position the labels\n",
    "        line=dict(color=light_colors[i])\n",
    "    ))\n",
    "\n",
    "# Update layout\n",
    "fig.update_layout(\n",
    "    title='Loss per Epoch',\n",
    "    xaxis_title='Epoch',\n",
    "    yaxis_title='Loss Accuracy',\n",
    "    #xaxis=dict(tickvals=list(range(1, 11))),  # Cut x-axis into 10 intervals\n",
    "    #yaxis=dict(range=[0.3, 1], dtick=0.05),  # Adjust y-axis range and tick interval\n",
    "    title_x=0.5  # Center the title\n",
    ")\n",
    "\n",
    "fig.show()"
   ]
  },
  {
   "cell_type": "markdown",
   "metadata": {},
   "source": [
    "### 7. Perfomance by age"
   ]
  },
  {
   "cell_type": "code",
   "execution_count": null,
   "metadata": {},
   "outputs": [],
   "source": [
    "# predictions_df_val_path='./experiments/e9/predictions_df_val_e9.csv'\n",
    "# validation_set_path='./train data/validation_set_3.csv'\n",
    "\n",
    "predictions_df_val_path='./experiments/e10/predictions_df_val_e10.csv'\n",
    "validation_set_path='./train data/type0_validation_set_2.csv'\n",
    "\n",
    "\n",
    "composers_df=pd.read_csv('./dataframes/composers.csv')\n",
    "\n",
    "df_temp=pd.read_csv(predictions_df_val_path)\n",
    "\n",
    "if 'epoch' in df_temp.columns:\n",
    "    df_temp=df_temp[df_temp['epoch']==max(df_temp['epoch'])]\n",
    "\n",
    "val_set=pd.read_csv(validation_set_path)\n",
    "\n",
    "val_set['binary_label']= val_set['composer_gender'].apply(lambda x: 0 if x == 'Male' else 1)\n",
    "df_temp['predictions_string']= df_temp['predictions'].apply(lambda x: 'Male' if x == 0 else 'Female')\n",
    "\n",
    "full_df=pd.concat([df_temp,val_set],axis=1)\n",
    "\n",
    "full_df['right_predictions'] = (val_set['composer_gender'] == df_temp['predictions_string']).astype(int)\n",
    "\n",
    "right_predictions=full_df.groupby(by=['composer_name'])['right_predictions'].sum().reset_index()\n",
    "total_predictions=full_df.groupby(by=['composer_name'])['predictions'].count().reset_index()\n",
    "\n",
    "# right_predictions=full_df.groupby(by=['composer_name','composer_gender'])['right_predictions'].sum().reset_index()\n",
    "# total_predictions=full_df.groupby(by=['composer_name','composer_gender'])['predictions'].count().reset_index()\n",
    "\n",
    "#full_df=full_df.groupby(by=['composer_name']).sum().reset_index()"
   ]
  },
  {
   "cell_type": "code",
   "execution_count": null,
   "metadata": {},
   "outputs": [],
   "source": [
    "nationality=composers_df['desc'].apply(lambda x: x.split(' ')[0])\n",
    "replace={'English-American': 'English',  \n",
    "'French-English': 'French',    \n",
    "'French-born':'French'} \n",
    "\n",
    "nationality=nationality.replace(replace)\n",
    "\n",
    "composers_df['nationality']=nationality"
   ]
  },
  {
   "cell_type": "code",
   "execution_count": null,
   "metadata": {},
   "outputs": [],
   "source": [
    "temp=total_predictions.merge(right_predictions,on='composer_name').merge(composers_df[['composer_name','born','nationality']],on='composer_name',how='left')"
   ]
  },
  {
   "cell_type": "code",
   "execution_count": null,
   "metadata": {},
   "outputs": [],
   "source": [
    "# # Define bins and labels\n",
    "# bins = [1748, 1800, 1830, 1840, 1850, 1860, 1870,1880, 1890]\n",
    "# labels = ['1748-1799','1800-1830', '1831-1840', '1841-1850','1850-1860', '1861-1870', '1871-1880','1881-1890']\n",
    "\n",
    "# # Create a new categorical variable\n",
    "# temp['born_category'] = pd.cut(temp['born'], bins=bins, labels=labels, right=True)"
   ]
  },
  {
   "cell_type": "code",
   "execution_count": null,
   "metadata": {},
   "outputs": [],
   "source": [
    "temp=temp[['nationality','predictions','right_predictions']].groupby(by=['nationality']).sum().reset_index()"
   ]
  },
  {
   "cell_type": "code",
   "execution_count": null,
   "metadata": {},
   "outputs": [],
   "source": [
    "temp['acc']=temp['right_predictions']/temp['predictions']"
   ]
  },
  {
   "cell_type": "markdown",
   "metadata": {},
   "source": [
    "### 8. Majority vote balanced accuracy"
   ]
  },
  {
   "cell_type": "code",
   "execution_count": 3,
   "metadata": {},
   "outputs": [],
   "source": [
    "cross_validation_predictions=pd.read_csv('./dataframes/cross_validation_predictions_probas.csv')\n",
    "cross_validation_predictions.rename(columns={'composer_gender_x':'composer_gender'},inplace=True)"
   ]
  },
  {
   "cell_type": "code",
   "execution_count": 4,
   "metadata": {},
   "outputs": [],
   "source": [
    "cross_validation_predictions['predictions_string']=cross_validation_predictions['predictions'].apply(lambda x: 'Male' if x==0 else 'Female')"
   ]
  },
  {
   "cell_type": "code",
   "execution_count": 5,
   "metadata": {},
   "outputs": [],
   "source": [
    "test_cross_validation_predictions=cross_validation_predictions.groupby(by=['composer_name','predictions_string'])['predictions'].count().reset_index()\n",
    "\n",
    "# Calculate total predictions for each composer\n",
    "test_cross_validation_predictions['total_predictions'] = test_cross_validation_predictions.groupby('composer_name')['predictions'].transform('sum')\n",
    "\n",
    "# Calculate the proportion of predictions\n",
    "test_cross_validation_predictions['proportion'] = round(test_cross_validation_predictions['predictions'] / test_cross_validation_predictions['total_predictions'],2)\n",
    "\n",
    "#test_cross_validation_predictions=test_cross_validation_predictions.drop_duplicates(subset=['composer_name'])\n",
    "\n",
    "composer_gender=cross_validation_predictions[['composer_name','composer_gender']].drop_duplicates().reset_index(drop=True)\n",
    "\n",
    "test_cross_validation_predictions=test_cross_validation_predictions.merge(composer_gender,how='left',on='composer_name')\n",
    "\n",
    "majority_vote=test_cross_validation_predictions.loc[test_cross_validation_predictions.groupby('composer_name')['proportion'].idxmax()].reset_index(drop=True)\n",
    "\n",
    "def tie_or_majority_label(row):\n",
    "\n",
    "    if row['proportion']==0.5:\n",
    "        \n",
    "        label='Male' if row['composer_gender']=='Female' else 'Female'\n",
    "    else:\n",
    "        label=row['predictions_string']\n",
    "\n",
    "    return label   \n",
    "\n",
    "majority_vote['predictions_string']=majority_vote.apply(tie_or_majority_label,axis=1)"
   ]
  },
  {
   "cell_type": "code",
   "execution_count": 6,
   "metadata": {},
   "outputs": [
    {
     "data": {
      "text/plain": [
       "0.5895390070921986"
      ]
     },
     "execution_count": 6,
     "metadata": {},
     "output_type": "execute_result"
    }
   ],
   "source": [
    "from sklearn.metrics import balanced_accuracy_score\n",
    "\n",
    "balanced_accuracy_score(y_true=majority_vote['composer_gender'],y_pred=majority_vote['predictions_string'])"
   ]
  },
  {
   "cell_type": "code",
   "execution_count": 7,
   "metadata": {},
   "outputs": [
    {
     "data": {
      "text/plain": [
       "0.5689908256880734"
      ]
     },
     "execution_count": 7,
     "metadata": {},
     "output_type": "execute_result"
    }
   ],
   "source": [
    "from sklearn.metrics import balanced_accuracy_score\n",
    "\n",
    "balanced_accuracy_score(y_true=cross_validation_predictions['labels'],y_pred=cross_validation_predictions['predictions'])"
   ]
  },
  {
   "cell_type": "markdown",
   "metadata": {},
   "source": [
    "### 8.1 Proportion of votes by composer"
   ]
  },
  {
   "cell_type": "code",
   "execution_count": 8,
   "metadata": {},
   "outputs": [
    {
     "name": "stderr",
     "output_type": "stream",
     "text": [
      "/tmp/ipykernel_6995/5972904.py:2: SettingWithCopyWarning: \n",
      "A value is trying to be set on a copy of a slice from a DataFrame.\n",
      "Try using .loc[row_indexer,col_indexer] = value instead\n",
      "\n",
      "See the caveats in the documentation: https://pandas.pydata.org/pandas-docs/stable/user_guide/indexing.html#returning-a-view-versus-a-copy\n",
      "  male_df['proportion']=0\n"
     ]
    }
   ],
   "source": [
    "male_df=test_cross_validation_predictions[(test_cross_validation_predictions['predictions_string']=='Male')&(test_cross_validation_predictions['proportion']==1)]\n",
    "male_df['proportion']=0\n",
    "\n",
    "df=pd.concat([test_cross_validation_predictions[test_cross_validation_predictions['predictions_string']=='Female'],male_df]).reset_index(drop=True)\n",
    "\n",
    "df=df.sort_values(by='proportion')"
   ]
  },
  {
   "cell_type": "code",
   "execution_count": 13,
   "metadata": {},
   "outputs": [],
   "source": [
    "df\n",
    "# Create columns for positive and negative values\n",
    "df['female_proportion'] = df['proportion']\n",
    "df['male_proportion'] = df.apply(lambda row: -(1 - row['proportion']), axis=1)\n",
    "df = df.sort_values(by='proportion')\n",
    "\n",
    "majority_vote_df=df"
   ]
  },
  {
   "cell_type": "code",
   "execution_count": 14,
   "metadata": {},
   "outputs": [
    {
     "data": {
      "text/html": [
       "<div>\n",
       "<style scoped>\n",
       "    .dataframe tbody tr th:only-of-type {\n",
       "        vertical-align: middle;\n",
       "    }\n",
       "\n",
       "    .dataframe tbody tr th {\n",
       "        vertical-align: top;\n",
       "    }\n",
       "\n",
       "    .dataframe thead th {\n",
       "        text-align: right;\n",
       "    }\n",
       "</style>\n",
       "<table border=\"1\" class=\"dataframe\">\n",
       "  <thead>\n",
       "    <tr style=\"text-align: right;\">\n",
       "      <th></th>\n",
       "      <th>composer_name</th>\n",
       "      <th>predictions_string</th>\n",
       "      <th>predictions</th>\n",
       "      <th>total_predictions</th>\n",
       "      <th>proportion</th>\n",
       "      <th>composer_gender</th>\n",
       "      <th>female_proportion</th>\n",
       "      <th>male_proportion</th>\n",
       "    </tr>\n",
       "  </thead>\n",
       "  <tbody>\n",
       "    <tr>\n",
       "      <th>106</th>\n",
       "      <td>Pauline-Marie-Elisa Thys</td>\n",
       "      <td>Male</td>\n",
       "      <td>1</td>\n",
       "      <td>1</td>\n",
       "      <td>0.0</td>\n",
       "      <td>Female</td>\n",
       "      <td>0.0</td>\n",
       "      <td>-1.0</td>\n",
       "    </tr>\n",
       "    <tr>\n",
       "      <th>100</th>\n",
       "      <td>Alfred Cellier</td>\n",
       "      <td>Male</td>\n",
       "      <td>1</td>\n",
       "      <td>1</td>\n",
       "      <td>0.0</td>\n",
       "      <td>Male</td>\n",
       "      <td>0.0</td>\n",
       "      <td>-1.0</td>\n",
       "    </tr>\n",
       "    <tr>\n",
       "      <th>101</th>\n",
       "      <td>Alice Tegnér</td>\n",
       "      <td>Male</td>\n",
       "      <td>2</td>\n",
       "      <td>2</td>\n",
       "      <td>0.0</td>\n",
       "      <td>Female</td>\n",
       "      <td>0.0</td>\n",
       "      <td>-1.0</td>\n",
       "    </tr>\n",
       "    <tr>\n",
       "      <th>105</th>\n",
       "      <td>Frederick Corder</td>\n",
       "      <td>Male</td>\n",
       "      <td>1</td>\n",
       "      <td>1</td>\n",
       "      <td>0.0</td>\n",
       "      <td>Male</td>\n",
       "      <td>0.0</td>\n",
       "      <td>-1.0</td>\n",
       "    </tr>\n",
       "    <tr>\n",
       "      <th>103</th>\n",
       "      <td>Cyril Rootham</td>\n",
       "      <td>Male</td>\n",
       "      <td>1</td>\n",
       "      <td>1</td>\n",
       "      <td>0.0</td>\n",
       "      <td>Male</td>\n",
       "      <td>0.0</td>\n",
       "      <td>-1.0</td>\n",
       "    </tr>\n",
       "    <tr>\n",
       "      <th>...</th>\n",
       "      <td>...</td>\n",
       "      <td>...</td>\n",
       "      <td>...</td>\n",
       "      <td>...</td>\n",
       "      <td>...</td>\n",
       "      <td>...</td>\n",
       "      <td>...</td>\n",
       "      <td>...</td>\n",
       "    </tr>\n",
       "    <tr>\n",
       "      <th>73</th>\n",
       "      <td>Loïsa Puget</td>\n",
       "      <td>Female</td>\n",
       "      <td>3</td>\n",
       "      <td>3</td>\n",
       "      <td>1.0</td>\n",
       "      <td>Female</td>\n",
       "      <td>1.0</td>\n",
       "      <td>-0.0</td>\n",
       "    </tr>\n",
       "    <tr>\n",
       "      <th>68</th>\n",
       "      <td>Liliʻuokalani</td>\n",
       "      <td>Female</td>\n",
       "      <td>1</td>\n",
       "      <td>1</td>\n",
       "      <td>1.0</td>\n",
       "      <td>Female</td>\n",
       "      <td>1.0</td>\n",
       "      <td>-0.0</td>\n",
       "    </tr>\n",
       "    <tr>\n",
       "      <th>71</th>\n",
       "      <td>Louise Farrenc</td>\n",
       "      <td>Female</td>\n",
       "      <td>1</td>\n",
       "      <td>1</td>\n",
       "      <td>1.0</td>\n",
       "      <td>Female</td>\n",
       "      <td>1.0</td>\n",
       "      <td>-0.0</td>\n",
       "    </tr>\n",
       "    <tr>\n",
       "      <th>38</th>\n",
       "      <td>Florence Ashton Marshall</td>\n",
       "      <td>Female</td>\n",
       "      <td>2</td>\n",
       "      <td>2</td>\n",
       "      <td>1.0</td>\n",
       "      <td>Female</td>\n",
       "      <td>1.0</td>\n",
       "      <td>-0.0</td>\n",
       "    </tr>\n",
       "    <tr>\n",
       "      <th>52</th>\n",
       "      <td>Helen Hopekirk</td>\n",
       "      <td>Female</td>\n",
       "      <td>1</td>\n",
       "      <td>1</td>\n",
       "      <td>1.0</td>\n",
       "      <td>Female</td>\n",
       "      <td>1.0</td>\n",
       "      <td>-0.0</td>\n",
       "    </tr>\n",
       "  </tbody>\n",
       "</table>\n",
       "<p>107 rows × 8 columns</p>\n",
       "</div>"
      ],
      "text/plain": [
       "                composer_name predictions_string  predictions  \\\n",
       "106  Pauline-Marie-Elisa Thys               Male            1   \n",
       "100            Alfred Cellier               Male            1   \n",
       "101              Alice Tegnér               Male            2   \n",
       "105          Frederick Corder               Male            1   \n",
       "103             Cyril Rootham               Male            1   \n",
       "..                        ...                ...          ...   \n",
       "73                Loïsa Puget             Female            3   \n",
       "68              Liliʻuokalani             Female            1   \n",
       "71             Louise Farrenc             Female            1   \n",
       "38   Florence Ashton Marshall             Female            2   \n",
       "52             Helen Hopekirk             Female            1   \n",
       "\n",
       "     total_predictions  proportion composer_gender  female_proportion  \\\n",
       "106                  1         0.0          Female                0.0   \n",
       "100                  1         0.0            Male                0.0   \n",
       "101                  2         0.0          Female                0.0   \n",
       "105                  1         0.0            Male                0.0   \n",
       "103                  1         0.0            Male                0.0   \n",
       "..                 ...         ...             ...                ...   \n",
       "73                   3         1.0          Female                1.0   \n",
       "68                   1         1.0          Female                1.0   \n",
       "71                   1         1.0          Female                1.0   \n",
       "38                   2         1.0          Female                1.0   \n",
       "52                   1         1.0          Female                1.0   \n",
       "\n",
       "     male_proportion  \n",
       "106             -1.0  \n",
       "100             -1.0  \n",
       "101             -1.0  \n",
       "105             -1.0  \n",
       "103             -1.0  \n",
       "..               ...  \n",
       "73              -0.0  \n",
       "68              -0.0  \n",
       "71              -0.0  \n",
       "38              -0.0  \n",
       "52              -0.0  \n",
       "\n",
       "[107 rows x 8 columns]"
      ]
     },
     "execution_count": 14,
     "metadata": {},
     "output_type": "execute_result"
    }
   ],
   "source": [
    "majority_vote_df"
   ]
  },
  {
   "cell_type": "code",
   "execution_count": 10,
   "metadata": {},
   "outputs": [
    {
     "data": {
      "application/vnd.plotly.v1+json": {
       "config": {
        "plotlyServerURL": "https://plot.ly"
       },
       "data": [
        {
         "marker": {
          "color": [
           "red",
           "blue",
           "red",
           "blue",
           "blue",
           "red",
           "blue",
           "blue",
           "blue",
           "blue",
           "blue",
           "red",
           "blue",
           "blue",
           "blue",
           "red",
           "blue",
           "blue",
           "blue",
           "red",
           "blue",
           "blue",
           "blue",
           "red",
           "red",
           "blue",
           "red",
           "blue",
           "blue",
           "blue",
           "blue",
           "blue",
           "blue",
           "red",
           "blue",
           "red",
           "blue",
           "blue",
           "red",
           "red",
           "red",
           "blue",
           "red",
           "blue",
           "red",
           "blue",
           "red",
           "blue",
           "red",
           "red",
           "red",
           "red",
           "red",
           "red",
           "red",
           "red",
           "red",
           "red",
           "red",
           "red",
           "red",
           "blue",
           "blue",
           "red",
           "blue",
           "blue",
           "blue",
           "blue",
           "red",
           "blue",
           "blue",
           "blue",
           "red",
           "red",
           "blue",
           "blue",
           "red",
           "red",
           "red",
           "red",
           "blue",
           "red",
           "red",
           "red",
           "red",
           "red",
           "red",
           "red",
           "red",
           "red",
           "red",
           "blue",
           "red",
           "red",
           "red",
           "red",
           "red",
           "red",
           "red",
           "red",
           "blue",
           "blue",
           "red",
           "red",
           "blue",
           "red",
           "red"
          ]
         },
         "name": "Positive Proportion",
         "orientation": "h",
         "showlegend": false,
         "text": [
          1,
          2,
          3,
          4,
          5,
          6,
          7,
          8,
          9,
          10,
          11,
          12,
          13,
          14,
          15,
          16,
          17,
          18,
          19,
          20,
          21,
          22,
          23,
          24,
          25,
          26,
          27,
          28,
          29,
          30,
          31,
          32,
          33,
          34,
          35,
          36,
          37,
          38,
          39,
          40,
          41,
          42,
          43,
          44,
          45,
          46,
          47,
          48,
          49,
          50,
          51,
          52,
          53,
          54,
          55,
          56,
          57,
          58,
          59,
          60,
          61,
          62,
          63,
          64,
          65,
          66,
          67,
          68,
          69,
          70,
          71,
          72,
          73,
          74,
          75,
          76,
          77,
          78,
          79,
          80,
          81,
          82,
          83,
          84,
          85,
          86,
          87,
          88,
          89,
          90,
          91,
          92,
          93,
          94,
          95,
          96,
          97,
          98,
          99,
          100,
          101,
          102,
          103,
          104,
          105,
          106,
          107
         ],
         "textposition": "inside",
         "type": "bar",
         "x": [
          0,
          0,
          0,
          0,
          0,
          0,
          0,
          0.2,
          0.2,
          0.23,
          0.25,
          0.25,
          0.25,
          0.25,
          0.27,
          0.28,
          0.3,
          0.3,
          0.3,
          0.31,
          0.33,
          0.33,
          0.33,
          0.33,
          0.35,
          0.38,
          0.4,
          0.4,
          0.4,
          0.41,
          0.42,
          0.42,
          0.42,
          0.42,
          0.42,
          0.42,
          0.44,
          0.44,
          0.44,
          0.45,
          0.48,
          0.48,
          0.48,
          0.5,
          0.5,
          0.5,
          0.5,
          0.5,
          0.5,
          0.5,
          0.5,
          0.5,
          0.5,
          0.5,
          0.5,
          0.5,
          0.52,
          0.53,
          0.55,
          0.55,
          0.57,
          0.58,
          0.58,
          0.6,
          0.6,
          0.62,
          0.64,
          0.64,
          0.67,
          0.67,
          0.67,
          0.67,
          0.69,
          0.71,
          0.71,
          0.71,
          0.71,
          0.71,
          0.72,
          0.75,
          0.75,
          0.75,
          0.89,
          0.91,
          1,
          1,
          1,
          1,
          1,
          1,
          1,
          1,
          1,
          1,
          1,
          1,
          1,
          1,
          1,
          1,
          1,
          1,
          1,
          1,
          1,
          1,
          1
         ],
         "y": [
          "Pauline-Marie-Elisa Thys",
          "Alfred Cellier",
          "Alice Tegnér",
          "Frederick Corder",
          "Cyril Rootham",
          "Eleanor Everest Freer",
          "Charles Wood",
          "Granville Bantock",
          "Edward Elgar",
          "Walter Parratt",
          "Claude Debussy",
          "Evelyn Faltis",
          "Robert Schumann",
          "Richard Strauss",
          "Georges Bizet",
          "Corona Schröter",
          "Joseph Haydn",
          "Johannes Brahms",
          "Franz Schubert",
          "Lili Boulanger",
          "Ivor Gurney",
          "Charles Gounod",
          "Edward German",
          "Augusta Browne",
          "Marie Jaëll",
          "Samuel Coleridge-Taylor",
          "Carrie Jacobs-Bond",
          "Arthur Somervell",
          "Anton Webern",
          "Peter Warlock",
          "Sir Harold Boulton, 2nd Baronet",
          "Ernest Chausson",
          "Peter Cornelius",
          "Josephine Lang",
          "George Butterworth",
          "Chiquinha Gonzaga",
          "Frank Bridge",
          "Gustav Mahler",
          "Guy d'Hardelot",
          "Liza Lehmann",
          "Augusta Holmès",
          "Robert Franz",
          "Clara Mathilda Faisst",
          "Harry T. Burleigh",
          "Amy Beach",
          "Arthur Sullivan",
          "Helena Munktell",
          "Alexander Mackenzie",
          "Jane Bingham Abbott",
          "Gabrielle Ferrari",
          "Mélanie Bonis",
          "Maude Valerie White",
          "Jane Mary Guest",
          "Maria Lindsay",
          "Maria Theresia von Paradis",
          "Sophie Gail",
          "Pauline Viardot",
          "Clara Wieck",
          "Johanna Kinkel",
          "Louise Reichardt",
          "Fanny Mendelssohn",
          "Felix Mendelssohn",
          "Gabriel Fauré",
          "Amelia Lehmann",
          "Richard Wagner",
          "Hubert Parry",
          "Hugo Wolf",
          "Erik Satie",
          "Emilie Mayer",
          "Emmanuel Chabrier",
          "Frederic Hymen Cowen",
          "Frederick Delius",
          "Clémence de Grandval",
          "Cécile Chaminade",
          "Charles Villiers Stanford",
          "Ludwig van Beethoven",
          "Luise Adolpha Le Beau",
          "Laura Netzel",
          "Mathilde Kralik",
          "Amy Elsie Horrocks",
          "Walford Davies",
          "Virginia Gabriel",
          "Luise Greger",
          "Emilie Zumsteeg",
          "Louise Farrenc",
          "Liliʻuokalani",
          "Loïsa Puget",
          "Ethel Barns",
          "Harriett Abrams",
          "Faustina Hasse Hodges",
          "Pauline Duchambge",
          "Joseph Barnby",
          "Ellen Dickson",
          "Elizabeth Philp",
          "Florence Ashton Marshall",
          "Ethel Smyth",
          "Elisabetta de Gambarini",
          "Elizabeth Phillips",
          "Louisa Gray",
          "Ann Mounsey",
          "Scott Joplin",
          "Henry Bishop",
          "Charlotte Alington Barnard",
          "Jane Bianchi",
          "William Shield",
          "Poldowski",
          "Helen Hopekirk"
         ]
        },
        {
         "marker": {
          "color": [
           "red",
           "blue",
           "red",
           "blue",
           "blue",
           "red",
           "blue",
           "blue",
           "blue",
           "blue",
           "blue",
           "red",
           "blue",
           "blue",
           "blue",
           "red",
           "blue",
           "blue",
           "blue",
           "red",
           "blue",
           "blue",
           "blue",
           "red",
           "red",
           "blue",
           "red",
           "blue",
           "blue",
           "blue",
           "blue",
           "blue",
           "blue",
           "red",
           "blue",
           "red",
           "blue",
           "blue",
           "red",
           "red",
           "red",
           "blue",
           "red",
           "blue",
           "red",
           "blue",
           "red",
           "blue",
           "red",
           "red",
           "red",
           "red",
           "red",
           "red",
           "red",
           "red",
           "red",
           "red",
           "red",
           "red",
           "red",
           "blue",
           "blue",
           "red",
           "blue",
           "blue",
           "blue",
           "blue",
           "red",
           "blue",
           "blue",
           "blue",
           "red",
           "red",
           "blue",
           "blue",
           "red",
           "red",
           "red",
           "red",
           "blue",
           "red",
           "red",
           "red",
           "red",
           "red",
           "red",
           "red",
           "red",
           "red",
           "red",
           "blue",
           "red",
           "red",
           "red",
           "red",
           "red",
           "red",
           "red",
           "red",
           "blue",
           "blue",
           "red",
           "red",
           "blue",
           "red",
           "red"
          ]
         },
         "name": "Negative Proportion",
         "orientation": "h",
         "showlegend": false,
         "textposition": "inside",
         "type": "bar",
         "x": [
          -1,
          -1,
          -1,
          -1,
          -1,
          -1,
          -1,
          -0.8,
          -0.8,
          -0.77,
          -0.75,
          -0.75,
          -0.75,
          -0.75,
          -0.73,
          -0.72,
          -0.7,
          -0.7,
          -0.7,
          -0.69,
          -0.6699999999999999,
          -0.6699999999999999,
          -0.6699999999999999,
          -0.6699999999999999,
          -0.65,
          -0.62,
          -0.6,
          -0.6,
          -0.6,
          -0.5900000000000001,
          -0.5800000000000001,
          -0.5800000000000001,
          -0.5800000000000001,
          -0.5800000000000001,
          -0.5800000000000001,
          -0.5800000000000001,
          -0.56,
          -0.56,
          -0.56,
          -0.55,
          -0.52,
          -0.52,
          -0.52,
          -0.5,
          -0.5,
          -0.5,
          -0.5,
          -0.5,
          -0.5,
          -0.5,
          -0.5,
          -0.5,
          -0.5,
          -0.5,
          -0.5,
          -0.5,
          -0.48,
          -0.47,
          -0.44999999999999996,
          -0.44999999999999996,
          -0.43000000000000005,
          -0.42000000000000004,
          -0.42000000000000004,
          -0.4,
          -0.4,
          -0.38,
          -0.36,
          -0.36,
          -0.32999999999999996,
          -0.32999999999999996,
          -0.32999999999999996,
          -0.32999999999999996,
          -0.31000000000000005,
          -0.29000000000000004,
          -0.29000000000000004,
          -0.29000000000000004,
          -0.29000000000000004,
          -0.29000000000000004,
          -0.28,
          -0.25,
          -0.25,
          -0.25,
          -0.10999999999999999,
          -0.08999999999999997,
          0,
          0,
          0,
          0,
          0,
          0,
          0,
          0,
          0,
          0,
          0,
          0,
          0,
          0,
          0,
          0,
          0,
          0,
          0,
          0,
          0,
          0,
          0
         ],
         "y": [
          "Pauline-Marie-Elisa Thys",
          "Alfred Cellier",
          "Alice Tegnér",
          "Frederick Corder",
          "Cyril Rootham",
          "Eleanor Everest Freer",
          "Charles Wood",
          "Granville Bantock",
          "Edward Elgar",
          "Walter Parratt",
          "Claude Debussy",
          "Evelyn Faltis",
          "Robert Schumann",
          "Richard Strauss",
          "Georges Bizet",
          "Corona Schröter",
          "Joseph Haydn",
          "Johannes Brahms",
          "Franz Schubert",
          "Lili Boulanger",
          "Ivor Gurney",
          "Charles Gounod",
          "Edward German",
          "Augusta Browne",
          "Marie Jaëll",
          "Samuel Coleridge-Taylor",
          "Carrie Jacobs-Bond",
          "Arthur Somervell",
          "Anton Webern",
          "Peter Warlock",
          "Sir Harold Boulton, 2nd Baronet",
          "Ernest Chausson",
          "Peter Cornelius",
          "Josephine Lang",
          "George Butterworth",
          "Chiquinha Gonzaga",
          "Frank Bridge",
          "Gustav Mahler",
          "Guy d'Hardelot",
          "Liza Lehmann",
          "Augusta Holmès",
          "Robert Franz",
          "Clara Mathilda Faisst",
          "Harry T. Burleigh",
          "Amy Beach",
          "Arthur Sullivan",
          "Helena Munktell",
          "Alexander Mackenzie",
          "Jane Bingham Abbott",
          "Gabrielle Ferrari",
          "Mélanie Bonis",
          "Maude Valerie White",
          "Jane Mary Guest",
          "Maria Lindsay",
          "Maria Theresia von Paradis",
          "Sophie Gail",
          "Pauline Viardot",
          "Clara Wieck",
          "Johanna Kinkel",
          "Louise Reichardt",
          "Fanny Mendelssohn",
          "Felix Mendelssohn",
          "Gabriel Fauré",
          "Amelia Lehmann",
          "Richard Wagner",
          "Hubert Parry",
          "Hugo Wolf",
          "Erik Satie",
          "Emilie Mayer",
          "Emmanuel Chabrier",
          "Frederic Hymen Cowen",
          "Frederick Delius",
          "Clémence de Grandval",
          "Cécile Chaminade",
          "Charles Villiers Stanford",
          "Ludwig van Beethoven",
          "Luise Adolpha Le Beau",
          "Laura Netzel",
          "Mathilde Kralik",
          "Amy Elsie Horrocks",
          "Walford Davies",
          "Virginia Gabriel",
          "Luise Greger",
          "Emilie Zumsteeg",
          "Louise Farrenc",
          "Liliʻuokalani",
          "Loïsa Puget",
          "Ethel Barns",
          "Harriett Abrams",
          "Faustina Hasse Hodges",
          "Pauline Duchambge",
          "Joseph Barnby",
          "Ellen Dickson",
          "Elizabeth Philp",
          "Florence Ashton Marshall",
          "Ethel Smyth",
          "Elisabetta de Gambarini",
          "Elizabeth Phillips",
          "Louisa Gray",
          "Ann Mounsey",
          "Scott Joplin",
          "Henry Bishop",
          "Charlotte Alington Barnard",
          "Jane Bianchi",
          "William Shield",
          "Poldowski",
          "Helen Hopekirk"
         ]
        }
       ],
       "layout": {
        "annotations": [
         {
          "align": "center",
          "font": {
           "color": "black",
           "family": "DejaVu Sans",
           "size": 12
          },
          "showarrow": false,
          "text": "% of Male predictions",
          "x": 0.1,
          "xref": "paper",
          "y": -0.035,
          "yref": "paper"
         },
         {
          "align": "center",
          "font": {
           "color": "black",
           "family": "DejaVu Sans",
           "size": 12
          },
          "showarrow": false,
          "text": "% of Female predictions",
          "x": 0.9,
          "xref": "paper",
          "y": -0.035,
          "yref": "paper"
         },
         {
          "align": "left",
          "font": {
           "color": "black",
           "family": "DejaVu Sans",
           "size": 12
          },
          "showarrow": false,
          "text": "𝗣𝗿𝗲𝗱𝗶𝗰𝘁𝗲𝗱 𝗙𝗲𝗺𝗮𝗹𝗲<br><span style='color:blue'>■</span> Male: 16<br><span style='color:red'>■</span> Female: 35",
          "x": 0,
          "xref": "paper",
          "y": 0.999,
          "yref": "paper"
         },
         {
          "align": "left",
          "font": {
           "color": "black",
           "family": "DejaVu Sans",
           "size": 12
          },
          "showarrow": false,
          "text": "𝗧𝗶𝗲<br><span style='color:blue'>■</span> Male: 3<br><span style='color:red'>■</span> Female: 10",
          "x": 0,
          "xref": "paper",
          "y": 0.501,
          "yref": "paper"
         },
         {
          "align": "left",
          "font": {
           "color": "black",
           "family": "DejaVu Sans",
           "size": 12
          },
          "showarrow": false,
          "text": "𝗣𝗿𝗲𝗱𝗶𝗰𝘁𝗲𝗱 𝗠𝗮𝗹𝗲<br><span style='color:blue'>■</span> Male: 28<br><span style='color:red'>■</span> Female: 15",
          "x": 0,
          "xref": "paper",
          "y": 0.38,
          "yref": "paper"
         },
         {
          "align": "center",
          "font": {
           "color": "black",
           "family": "DejaVu Sans",
           "size": 12
          },
          "showarrow": false,
          "text": "True Composer Gender  </b> <span style='color:blue'>■</span> Male <span style='color:red'>■</span> Female",
          "x": 0.7,
          "xanchor": "center",
          "xref": "paper",
          "y": 1.025,
          "yref": "paper"
         }
        ],
        "barmode": "overlay",
        "height": 1300,
        "margin": {
         "b": 50,
         "l": 200,
         "r": 20,
         "t": 100
        },
        "shapes": [
         {
          "line": {
           "color": "black",
           "dash": "dash",
           "width": 1
          },
          "type": "line",
          "x0": 0.5,
          "x1": 0.5,
          "y0": -0.5,
          "y1": 106.5
         },
         {
          "line": {
           "color": "black",
           "dash": "dash",
           "width": 1
          },
          "type": "line",
          "x0": -0.5,
          "x1": -0.5,
          "y0": -0.5,
          "y1": 106.5
         },
         {
          "line": {
           "color": "green",
           "dash": "dash",
           "width": 2
          },
          "type": "line",
          "x0": -1,
          "x1": 1,
          "y0": 42.5,
          "y1": 42.5
         },
         {
          "line": {
           "color": "green",
           "dash": "dash",
           "width": 2
          },
          "type": "line",
          "x0": -1,
          "x1": 1,
          "y0": 55.5,
          "y1": 55.5
         }
        ],
        "template": {
         "data": {
          "bar": [
           {
            "error_x": {
             "color": "#2a3f5f"
            },
            "error_y": {
             "color": "#2a3f5f"
            },
            "marker": {
             "line": {
              "color": "#E5ECF6",
              "width": 0.5
             },
             "pattern": {
              "fillmode": "overlay",
              "size": 10,
              "solidity": 0.2
             }
            },
            "type": "bar"
           }
          ],
          "barpolar": [
           {
            "marker": {
             "line": {
              "color": "#E5ECF6",
              "width": 0.5
             },
             "pattern": {
              "fillmode": "overlay",
              "size": 10,
              "solidity": 0.2
             }
            },
            "type": "barpolar"
           }
          ],
          "carpet": [
           {
            "aaxis": {
             "endlinecolor": "#2a3f5f",
             "gridcolor": "white",
             "linecolor": "white",
             "minorgridcolor": "white",
             "startlinecolor": "#2a3f5f"
            },
            "baxis": {
             "endlinecolor": "#2a3f5f",
             "gridcolor": "white",
             "linecolor": "white",
             "minorgridcolor": "white",
             "startlinecolor": "#2a3f5f"
            },
            "type": "carpet"
           }
          ],
          "choropleth": [
           {
            "colorbar": {
             "outlinewidth": 0,
             "ticks": ""
            },
            "type": "choropleth"
           }
          ],
          "contour": [
           {
            "colorbar": {
             "outlinewidth": 0,
             "ticks": ""
            },
            "colorscale": [
             [
              0,
              "#0d0887"
             ],
             [
              0.1111111111111111,
              "#46039f"
             ],
             [
              0.2222222222222222,
              "#7201a8"
             ],
             [
              0.3333333333333333,
              "#9c179e"
             ],
             [
              0.4444444444444444,
              "#bd3786"
             ],
             [
              0.5555555555555556,
              "#d8576b"
             ],
             [
              0.6666666666666666,
              "#ed7953"
             ],
             [
              0.7777777777777778,
              "#fb9f3a"
             ],
             [
              0.8888888888888888,
              "#fdca26"
             ],
             [
              1,
              "#f0f921"
             ]
            ],
            "type": "contour"
           }
          ],
          "contourcarpet": [
           {
            "colorbar": {
             "outlinewidth": 0,
             "ticks": ""
            },
            "type": "contourcarpet"
           }
          ],
          "heatmap": [
           {
            "colorbar": {
             "outlinewidth": 0,
             "ticks": ""
            },
            "colorscale": [
             [
              0,
              "#0d0887"
             ],
             [
              0.1111111111111111,
              "#46039f"
             ],
             [
              0.2222222222222222,
              "#7201a8"
             ],
             [
              0.3333333333333333,
              "#9c179e"
             ],
             [
              0.4444444444444444,
              "#bd3786"
             ],
             [
              0.5555555555555556,
              "#d8576b"
             ],
             [
              0.6666666666666666,
              "#ed7953"
             ],
             [
              0.7777777777777778,
              "#fb9f3a"
             ],
             [
              0.8888888888888888,
              "#fdca26"
             ],
             [
              1,
              "#f0f921"
             ]
            ],
            "type": "heatmap"
           }
          ],
          "heatmapgl": [
           {
            "colorbar": {
             "outlinewidth": 0,
             "ticks": ""
            },
            "colorscale": [
             [
              0,
              "#0d0887"
             ],
             [
              0.1111111111111111,
              "#46039f"
             ],
             [
              0.2222222222222222,
              "#7201a8"
             ],
             [
              0.3333333333333333,
              "#9c179e"
             ],
             [
              0.4444444444444444,
              "#bd3786"
             ],
             [
              0.5555555555555556,
              "#d8576b"
             ],
             [
              0.6666666666666666,
              "#ed7953"
             ],
             [
              0.7777777777777778,
              "#fb9f3a"
             ],
             [
              0.8888888888888888,
              "#fdca26"
             ],
             [
              1,
              "#f0f921"
             ]
            ],
            "type": "heatmapgl"
           }
          ],
          "histogram": [
           {
            "marker": {
             "pattern": {
              "fillmode": "overlay",
              "size": 10,
              "solidity": 0.2
             }
            },
            "type": "histogram"
           }
          ],
          "histogram2d": [
           {
            "colorbar": {
             "outlinewidth": 0,
             "ticks": ""
            },
            "colorscale": [
             [
              0,
              "#0d0887"
             ],
             [
              0.1111111111111111,
              "#46039f"
             ],
             [
              0.2222222222222222,
              "#7201a8"
             ],
             [
              0.3333333333333333,
              "#9c179e"
             ],
             [
              0.4444444444444444,
              "#bd3786"
             ],
             [
              0.5555555555555556,
              "#d8576b"
             ],
             [
              0.6666666666666666,
              "#ed7953"
             ],
             [
              0.7777777777777778,
              "#fb9f3a"
             ],
             [
              0.8888888888888888,
              "#fdca26"
             ],
             [
              1,
              "#f0f921"
             ]
            ],
            "type": "histogram2d"
           }
          ],
          "histogram2dcontour": [
           {
            "colorbar": {
             "outlinewidth": 0,
             "ticks": ""
            },
            "colorscale": [
             [
              0,
              "#0d0887"
             ],
             [
              0.1111111111111111,
              "#46039f"
             ],
             [
              0.2222222222222222,
              "#7201a8"
             ],
             [
              0.3333333333333333,
              "#9c179e"
             ],
             [
              0.4444444444444444,
              "#bd3786"
             ],
             [
              0.5555555555555556,
              "#d8576b"
             ],
             [
              0.6666666666666666,
              "#ed7953"
             ],
             [
              0.7777777777777778,
              "#fb9f3a"
             ],
             [
              0.8888888888888888,
              "#fdca26"
             ],
             [
              1,
              "#f0f921"
             ]
            ],
            "type": "histogram2dcontour"
           }
          ],
          "mesh3d": [
           {
            "colorbar": {
             "outlinewidth": 0,
             "ticks": ""
            },
            "type": "mesh3d"
           }
          ],
          "parcoords": [
           {
            "line": {
             "colorbar": {
              "outlinewidth": 0,
              "ticks": ""
             }
            },
            "type": "parcoords"
           }
          ],
          "pie": [
           {
            "automargin": true,
            "type": "pie"
           }
          ],
          "scatter": [
           {
            "fillpattern": {
             "fillmode": "overlay",
             "size": 10,
             "solidity": 0.2
            },
            "type": "scatter"
           }
          ],
          "scatter3d": [
           {
            "line": {
             "colorbar": {
              "outlinewidth": 0,
              "ticks": ""
             }
            },
            "marker": {
             "colorbar": {
              "outlinewidth": 0,
              "ticks": ""
             }
            },
            "type": "scatter3d"
           }
          ],
          "scattercarpet": [
           {
            "marker": {
             "colorbar": {
              "outlinewidth": 0,
              "ticks": ""
             }
            },
            "type": "scattercarpet"
           }
          ],
          "scattergeo": [
           {
            "marker": {
             "colorbar": {
              "outlinewidth": 0,
              "ticks": ""
             }
            },
            "type": "scattergeo"
           }
          ],
          "scattergl": [
           {
            "marker": {
             "colorbar": {
              "outlinewidth": 0,
              "ticks": ""
             }
            },
            "type": "scattergl"
           }
          ],
          "scattermapbox": [
           {
            "marker": {
             "colorbar": {
              "outlinewidth": 0,
              "ticks": ""
             }
            },
            "type": "scattermapbox"
           }
          ],
          "scatterpolar": [
           {
            "marker": {
             "colorbar": {
              "outlinewidth": 0,
              "ticks": ""
             }
            },
            "type": "scatterpolar"
           }
          ],
          "scatterpolargl": [
           {
            "marker": {
             "colorbar": {
              "outlinewidth": 0,
              "ticks": ""
             }
            },
            "type": "scatterpolargl"
           }
          ],
          "scatterternary": [
           {
            "marker": {
             "colorbar": {
              "outlinewidth": 0,
              "ticks": ""
             }
            },
            "type": "scatterternary"
           }
          ],
          "surface": [
           {
            "colorbar": {
             "outlinewidth": 0,
             "ticks": ""
            },
            "colorscale": [
             [
              0,
              "#0d0887"
             ],
             [
              0.1111111111111111,
              "#46039f"
             ],
             [
              0.2222222222222222,
              "#7201a8"
             ],
             [
              0.3333333333333333,
              "#9c179e"
             ],
             [
              0.4444444444444444,
              "#bd3786"
             ],
             [
              0.5555555555555556,
              "#d8576b"
             ],
             [
              0.6666666666666666,
              "#ed7953"
             ],
             [
              0.7777777777777778,
              "#fb9f3a"
             ],
             [
              0.8888888888888888,
              "#fdca26"
             ],
             [
              1,
              "#f0f921"
             ]
            ],
            "type": "surface"
           }
          ],
          "table": [
           {
            "cells": {
             "fill": {
              "color": "#EBF0F8"
             },
             "line": {
              "color": "white"
             }
            },
            "header": {
             "fill": {
              "color": "#C8D4E3"
             },
             "line": {
              "color": "white"
             }
            },
            "type": "table"
           }
          ]
         },
         "layout": {
          "annotationdefaults": {
           "arrowcolor": "#2a3f5f",
           "arrowhead": 0,
           "arrowwidth": 1
          },
          "autotypenumbers": "strict",
          "coloraxis": {
           "colorbar": {
            "outlinewidth": 0,
            "ticks": ""
           }
          },
          "colorscale": {
           "diverging": [
            [
             0,
             "#8e0152"
            ],
            [
             0.1,
             "#c51b7d"
            ],
            [
             0.2,
             "#de77ae"
            ],
            [
             0.3,
             "#f1b6da"
            ],
            [
             0.4,
             "#fde0ef"
            ],
            [
             0.5,
             "#f7f7f7"
            ],
            [
             0.6,
             "#e6f5d0"
            ],
            [
             0.7,
             "#b8e186"
            ],
            [
             0.8,
             "#7fbc41"
            ],
            [
             0.9,
             "#4d9221"
            ],
            [
             1,
             "#276419"
            ]
           ],
           "sequential": [
            [
             0,
             "#0d0887"
            ],
            [
             0.1111111111111111,
             "#46039f"
            ],
            [
             0.2222222222222222,
             "#7201a8"
            ],
            [
             0.3333333333333333,
             "#9c179e"
            ],
            [
             0.4444444444444444,
             "#bd3786"
            ],
            [
             0.5555555555555556,
             "#d8576b"
            ],
            [
             0.6666666666666666,
             "#ed7953"
            ],
            [
             0.7777777777777778,
             "#fb9f3a"
            ],
            [
             0.8888888888888888,
             "#fdca26"
            ],
            [
             1,
             "#f0f921"
            ]
           ],
           "sequentialminus": [
            [
             0,
             "#0d0887"
            ],
            [
             0.1111111111111111,
             "#46039f"
            ],
            [
             0.2222222222222222,
             "#7201a8"
            ],
            [
             0.3333333333333333,
             "#9c179e"
            ],
            [
             0.4444444444444444,
             "#bd3786"
            ],
            [
             0.5555555555555556,
             "#d8576b"
            ],
            [
             0.6666666666666666,
             "#ed7953"
            ],
            [
             0.7777777777777778,
             "#fb9f3a"
            ],
            [
             0.8888888888888888,
             "#fdca26"
            ],
            [
             1,
             "#f0f921"
            ]
           ]
          },
          "colorway": [
           "#636efa",
           "#EF553B",
           "#00cc96",
           "#ab63fa",
           "#FFA15A",
           "#19d3f3",
           "#FF6692",
           "#B6E880",
           "#FF97FF",
           "#FECB52"
          ],
          "font": {
           "color": "#2a3f5f"
          },
          "geo": {
           "bgcolor": "white",
           "lakecolor": "white",
           "landcolor": "#E5ECF6",
           "showlakes": true,
           "showland": true,
           "subunitcolor": "white"
          },
          "hoverlabel": {
           "align": "left"
          },
          "hovermode": "closest",
          "mapbox": {
           "style": "light"
          },
          "paper_bgcolor": "white",
          "plot_bgcolor": "#E5ECF6",
          "polar": {
           "angularaxis": {
            "gridcolor": "white",
            "linecolor": "white",
            "ticks": ""
           },
           "bgcolor": "#E5ECF6",
           "radialaxis": {
            "gridcolor": "white",
            "linecolor": "white",
            "ticks": ""
           }
          },
          "scene": {
           "xaxis": {
            "backgroundcolor": "#E5ECF6",
            "gridcolor": "white",
            "gridwidth": 2,
            "linecolor": "white",
            "showbackground": true,
            "ticks": "",
            "zerolinecolor": "white"
           },
           "yaxis": {
            "backgroundcolor": "#E5ECF6",
            "gridcolor": "white",
            "gridwidth": 2,
            "linecolor": "white",
            "showbackground": true,
            "ticks": "",
            "zerolinecolor": "white"
           },
           "zaxis": {
            "backgroundcolor": "#E5ECF6",
            "gridcolor": "white",
            "gridwidth": 2,
            "linecolor": "white",
            "showbackground": true,
            "ticks": "",
            "zerolinecolor": "white"
           }
          },
          "shapedefaults": {
           "line": {
            "color": "#2a3f5f"
           }
          },
          "ternary": {
           "aaxis": {
            "gridcolor": "white",
            "linecolor": "white",
            "ticks": ""
           },
           "baxis": {
            "gridcolor": "white",
            "linecolor": "white",
            "ticks": ""
           },
           "bgcolor": "#E5ECF6",
           "caxis": {
            "gridcolor": "white",
            "linecolor": "white",
            "ticks": ""
           }
          },
          "title": {
           "x": 0.05
          },
          "xaxis": {
           "automargin": true,
           "gridcolor": "white",
           "linecolor": "white",
           "ticks": "",
           "title": {
            "standoff": 15
           },
           "zerolinecolor": "white",
           "zerolinewidth": 2
          },
          "yaxis": {
           "automargin": true,
           "gridcolor": "white",
           "linecolor": "white",
           "ticks": "",
           "title": {
            "standoff": 15
           },
           "zerolinecolor": "white",
           "zerolinewidth": 2
          }
         }
        },
        "title": {
         "font": {
          "color": "black",
          "family": "DejaVu Sans",
          "size": 16
         },
         "text": "<b>Majority vote Predictions by Composer",
         "x": 0.5,
         "xanchor": "center"
        },
        "width": 800,
        "xaxis": {
         "range": [
          -1,
          1
         ],
         "tickfont": {
          "color": "black",
          "family": "DejaVu Sans",
          "size": 12
         },
         "tickformat": ".0%",
         "ticktext": [
          "100%",
          "75%",
          "50%",
          "25%",
          "0%",
          "25%",
          "50%",
          "75%",
          "100%"
         ],
         "tickvals": [
          -1,
          -0.75,
          -0.5,
          -0.25,
          0,
          0.25,
          0.5,
          0.75,
          1
         ],
         "title": {
          "font": {
           "size": 20
          }
         }
        },
        "yaxis": {
         "tickfont": {
          "color": "black",
          "family": "DejaVu Sans",
          "size": 12
         },
         "tickmode": "array",
         "ticktext": [
          " Pauline-Marie-Elisa Thys - 1 ",
          " Alfred Cellier - 2 ",
          " Alice Tegnér - 3 ",
          " Frederick Corder - 4 ",
          " Cyril Rootham - 5 ",
          " Eleanor Everest Freer - 6 ",
          " Charles Wood - 7 ",
          " Granville Bantock - 8 ",
          " Edward Elgar - 9 ",
          " Walter Parratt - 10 ",
          " Claude Debussy - 11 ",
          " Evelyn Faltis - 12 ",
          " Robert Schumann - 13 ",
          " Richard Strauss - 14 ",
          " Georges Bizet - 15 ",
          " Corona Schröter - 16 ",
          " Joseph Haydn - 17 ",
          " Johannes Brahms - 18 ",
          " Franz Schubert - 19 ",
          " Lili Boulanger - 20 ",
          " Ivor Gurney - 21 ",
          " Charles Gounod - 22 ",
          " Edward German - 23 ",
          " Augusta Browne - 24 ",
          " Marie Jaëll - 25 ",
          " Samuel Coleridge-Taylor - 26 ",
          " Carrie Jacobs-Bond - 27 ",
          " Arthur Somervell - 28 ",
          " Anton Webern - 29 ",
          " Peter Warlock - 30 ",
          " Sir Harold Boulton, 2nd Baronet - 31 ",
          " Ernest Chausson - 32 ",
          " Peter Cornelius - 33 ",
          " Josephine Lang - 34 ",
          " George Butterworth - 35 ",
          " Chiquinha Gonzaga - 36 ",
          " Frank Bridge - 37 ",
          " Gustav Mahler - 38 ",
          " Guy d'Hardelot - 39 ",
          " Liza Lehmann - 40 ",
          " Augusta Holmès - 41 ",
          " Robert Franz - 42 ",
          " Clara Mathilda Faisst - 43 ",
          " Harry T. Burleigh - 44 ",
          " Amy Beach - 45 ",
          " Arthur Sullivan - 46 ",
          " Helena Munktell - 47 ",
          " Alexander Mackenzie - 48 ",
          " Jane Bingham Abbott - 49 ",
          " Gabrielle Ferrari - 50 ",
          " Mélanie Bonis - 51 ",
          " Maude Valerie White - 52 ",
          " Jane Mary Guest - 53 ",
          " Maria Lindsay - 54 ",
          " Maria Theresia von Paradis - 55 ",
          " Sophie Gail - 56 ",
          " Pauline Viardot - 57 ",
          " Clara Wieck - 58 ",
          " Johanna Kinkel - 59 ",
          " Louise Reichardt - 60 ",
          " Fanny Mendelssohn - 61 ",
          " Felix Mendelssohn - 62 ",
          " Gabriel Fauré - 63 ",
          " Amelia Lehmann - 64 ",
          " Richard Wagner - 65 ",
          " Hubert Parry - 66 ",
          " Hugo Wolf - 67 ",
          " Erik Satie - 68 ",
          " Emilie Mayer - 69 ",
          " Emmanuel Chabrier - 70 ",
          " Frederic Hymen Cowen - 71 ",
          " Frederick Delius - 72 ",
          " Clémence de Grandval - 73 ",
          " Cécile Chaminade - 74 ",
          " Charles Villiers Stanford - 75 ",
          " Ludwig van Beethoven - 76 ",
          " Luise Adolpha Le Beau - 77 ",
          " Laura Netzel - 78 ",
          " Mathilde Kralik - 79 ",
          " Amy Elsie Horrocks - 80 ",
          " Walford Davies - 81 ",
          " Virginia Gabriel - 82 ",
          " Luise Greger - 83 ",
          " Emilie Zumsteeg - 84 ",
          " Louise Farrenc - 85 ",
          " Liliʻuokalani - 86 ",
          " Loïsa Puget - 87 ",
          " Ethel Barns - 88 ",
          " Harriett Abrams - 89 ",
          " Faustina Hasse Hodges - 90 ",
          " Pauline Duchambge - 91 ",
          " Joseph Barnby - 92 ",
          " Ellen Dickson - 93 ",
          " Elizabeth Philp - 94 ",
          " Florence Ashton Marshall - 95 ",
          " Ethel Smyth - 96 ",
          " Elisabetta de Gambarini - 97 ",
          " Elizabeth Phillips - 98 ",
          " Louisa Gray - 99 ",
          " Ann Mounsey - 100 ",
          " Scott Joplin - 101 ",
          " Henry Bishop - 102 ",
          " Charlotte Alington Barnard - 103 ",
          " Jane Bianchi - 104 ",
          " William Shield - 105 ",
          " Poldowski - 106 ",
          " Helen Hopekirk - 107 "
         ],
         "tickvals": [
          "Pauline-Marie-Elisa Thys",
          "Alfred Cellier",
          "Alice Tegnér",
          "Frederick Corder",
          "Cyril Rootham",
          "Eleanor Everest Freer",
          "Charles Wood",
          "Granville Bantock",
          "Edward Elgar",
          "Walter Parratt",
          "Claude Debussy",
          "Evelyn Faltis",
          "Robert Schumann",
          "Richard Strauss",
          "Georges Bizet",
          "Corona Schröter",
          "Joseph Haydn",
          "Johannes Brahms",
          "Franz Schubert",
          "Lili Boulanger",
          "Ivor Gurney",
          "Charles Gounod",
          "Edward German",
          "Augusta Browne",
          "Marie Jaëll",
          "Samuel Coleridge-Taylor",
          "Carrie Jacobs-Bond",
          "Arthur Somervell",
          "Anton Webern",
          "Peter Warlock",
          "Sir Harold Boulton, 2nd Baronet",
          "Ernest Chausson",
          "Peter Cornelius",
          "Josephine Lang",
          "George Butterworth",
          "Chiquinha Gonzaga",
          "Frank Bridge",
          "Gustav Mahler",
          "Guy d'Hardelot",
          "Liza Lehmann",
          "Augusta Holmès",
          "Robert Franz",
          "Clara Mathilda Faisst",
          "Harry T. Burleigh",
          "Amy Beach",
          "Arthur Sullivan",
          "Helena Munktell",
          "Alexander Mackenzie",
          "Jane Bingham Abbott",
          "Gabrielle Ferrari",
          "Mélanie Bonis",
          "Maude Valerie White",
          "Jane Mary Guest",
          "Maria Lindsay",
          "Maria Theresia von Paradis",
          "Sophie Gail",
          "Pauline Viardot",
          "Clara Wieck",
          "Johanna Kinkel",
          "Louise Reichardt",
          "Fanny Mendelssohn",
          "Felix Mendelssohn",
          "Gabriel Fauré",
          "Amelia Lehmann",
          "Richard Wagner",
          "Hubert Parry",
          "Hugo Wolf",
          "Erik Satie",
          "Emilie Mayer",
          "Emmanuel Chabrier",
          "Frederic Hymen Cowen",
          "Frederick Delius",
          "Clémence de Grandval",
          "Cécile Chaminade",
          "Charles Villiers Stanford",
          "Ludwig van Beethoven",
          "Luise Adolpha Le Beau",
          "Laura Netzel",
          "Mathilde Kralik",
          "Amy Elsie Horrocks",
          "Walford Davies",
          "Virginia Gabriel",
          "Luise Greger",
          "Emilie Zumsteeg",
          "Louise Farrenc",
          "Liliʻuokalani",
          "Loïsa Puget",
          "Ethel Barns",
          "Harriett Abrams",
          "Faustina Hasse Hodges",
          "Pauline Duchambge",
          "Joseph Barnby",
          "Ellen Dickson",
          "Elizabeth Philp",
          "Florence Ashton Marshall",
          "Ethel Smyth",
          "Elisabetta de Gambarini",
          "Elizabeth Phillips",
          "Louisa Gray",
          "Ann Mounsey",
          "Scott Joplin",
          "Henry Bishop",
          "Charlotte Alington Barnard",
          "Jane Bianchi",
          "William Shield",
          "Poldowski",
          "Helen Hopekirk"
         ],
         "title": {}
        }
       }
      }
     },
     "metadata": {},
     "output_type": "display_data"
    }
   ],
   "source": [
    "fig=utils.proportions_by_composer(df)"
   ]
  },
  {
   "cell_type": "code",
   "execution_count": 11,
   "metadata": {},
   "outputs": [],
   "source": [
    "# Save the plot as an SVG file\n",
    "fig.write_image(\"majority_vote_by_composer.pdf\")"
   ]
  },
  {
   "cell_type": "markdown",
   "metadata": {},
   "source": [
    "### 9. Average probabilities by composer"
   ]
  },
  {
   "cell_type": "code",
   "execution_count": 11,
   "metadata": {},
   "outputs": [],
   "source": [
    "cross_validation_probabilities=pd.read_csv('dataframes/cross_validation_predictions_probas.csv')\n",
    "cross_validation_probabilities.rename(columns={'composer_gender_x':'composer_gender'},inplace=True)"
   ]
  },
  {
   "cell_type": "code",
   "execution_count": 12,
   "metadata": {},
   "outputs": [
    {
     "name": "stdout",
     "output_type": "stream",
     "text": [
      "overall balanced accuracy: 0.5689908256880734\n",
      "balanced accuracy with probability labels: 0.6335106382978724\n"
     ]
    }
   ],
   "source": [
    "from sklearn.metrics import balanced_accuracy_score\n",
    "import ast\n",
    "\n",
    "\n",
    "cross_validation_probabilities['probabilities']=cross_validation_probabilities['probabilities'].apply(ast.literal_eval)\n",
    "\n",
    "cross_validation_probabilities[['male_proba','female_proba']]=cross_validation_probabilities['probabilities'].apply(pd.Series)\n",
    "\n",
    "predictions=cross_validation_probabilities[['composer_name','male_proba','female_proba']].groupby(by='composer_name').mean().reset_index()\n",
    "\n",
    "#import numpy as np\n",
    "predictions['prediction_string']=np.where(predictions['female_proba']>predictions['male_proba'],'Female','Male')\n",
    "\n",
    "composer_gender=cross_validation_probabilities[['composer_name','composer_gender']].drop_duplicates().reset_index(drop=True)\n",
    "\n",
    "predictions=predictions.merge(composer_gender,how='left',on='composer_name')\n",
    "\n",
    "print('overall balanced accuracy:', \n",
    "       balanced_accuracy_score(y_true=cross_validation_probabilities['labels'],y_pred=cross_validation_probabilities['predictions']))\n",
    "\n",
    "print('balanced accuracy with probability labels:',\n",
    "       balanced_accuracy_score(y_true=predictions['composer_gender'],y_pred=predictions['prediction_string']))\n"
   ]
  },
  {
   "cell_type": "code",
   "execution_count": 25,
   "metadata": {},
   "outputs": [
    {
     "name": "stdout",
     "output_type": "stream",
     "text": [
      "##======int labels======##\n",
      "overall balanced accuracy: \n",
      " [0.5498470948012233, 0.5998470948012232, 0.5944189602446484, 0.5923547400611621, 0.5698394495412844] \n",
      " mean: \n",
      " 0.5812614678899083 \n",
      " std: \n",
      " 0.018755965237377402\n",
      "\n",
      "##======average probabilities======##\n",
      "overall balanced accuracy: \n",
      " [0.6111111111111112, 0.675, 0.5681818181818181, 0.6196581196581197, 0.6805555555555556] \n",
      " mean: \n",
      " 0.6309013209013209 \n",
      " std: \n",
      " 0.042099963221987335\n"
     ]
    }
   ],
   "source": [
    "b_accuracy_list=[]\n",
    "b_accuracy_list_probas=[]\n",
    "\n",
    "for k in range(1,6):\n",
    "\n",
    "    full_df=pd.DataFrame([])\n",
    "    \n",
    "    predictions=pd.read_csv(f'./experiments/e17/predictions_df_test_e17_k{k}.csv')\n",
    "\n",
    "    test_set=pd.read_csv(f'./train data/k folds/type0_test_set_k{k}.csv')\n",
    "\n",
    "    temp_df=pd.concat([predictions,test_set],axis=1)\n",
    "\n",
    "    full_df=pd.concat([full_df,temp_df],axis=0)\n",
    "\n",
    "\n",
    "    full_df['probabilities']=full_df['probabilities'].apply(ast.literal_eval)\n",
    "\n",
    "    full_df[['male_proba','female_proba']]=full_df['probabilities'].apply(pd.Series)\n",
    "\n",
    "    predictions=full_df[['composer_name','male_proba','female_proba']].groupby(by='composer_name').mean().reset_index()\n",
    "\n",
    "    #import numpy as np\n",
    "    predictions['prediction_string']=np.where(predictions['female_proba']>predictions['male_proba'],'Female','Male')\n",
    "\n",
    "    composer_gender=full_df[['composer_name','composer_gender']].drop_duplicates().reset_index(drop=True)\n",
    "\n",
    "    predictions=predictions.merge(composer_gender,how='left',on='composer_name')\n",
    "\n",
    "     \n",
    "    b_accuracy=balanced_accuracy_score(y_true=full_df['labels'],y_pred=full_df['predictions'])\n",
    "    b_accuracy_proba=balanced_accuracy_score(y_true=predictions['composer_gender'],y_pred=predictions['prediction_string'])   \n",
    "\n",
    "    b_accuracy_list.append(b_accuracy)\n",
    "    b_accuracy_list_probas.append(b_accuracy_proba)\n",
    "\n",
    "print('##======int labels======##')\n",
    "print('overall balanced accuracy: \\n',\n",
    "       b_accuracy_list,\n",
    "       '\\n mean: \\n',\n",
    "       np.mean(b_accuracy_list),\n",
    "       '\\n std: \\n',\n",
    "       np.std(b_accuracy_list))\n",
    "\n",
    "print('')\n",
    "print('##======average probabilities======##')\n",
    "print('overall balanced accuracy: \\n',\n",
    "       b_accuracy_list_probas,\n",
    "       '\\n mean: \\n',\n",
    "       np.mean(b_accuracy_list_probas),\n",
    "       '\\n std: \\n',\n",
    "       np.std(b_accuracy_list_probas))"
   ]
  },
  {
   "cell_type": "code",
   "execution_count": 15,
   "metadata": {},
   "outputs": [
    {
     "data": {
      "application/vnd.plotly.v1+json": {
       "config": {
        "plotlyServerURL": "https://plot.ly"
       },
       "data": [
        {
         "marker": {
          "color": [
           "red",
           "blue",
           "blue",
           "blue",
           "red",
           "red",
           "blue",
           "blue",
           "blue",
           "red",
           "red",
           "blue",
           "blue",
           "red",
           "red",
           "blue",
           "blue",
           "blue",
           "blue",
           "red",
           "blue",
           "blue",
           "blue",
           "blue",
           "blue",
           "blue",
           "blue",
           "red",
           "blue",
           "red",
           "blue",
           "blue",
           "blue",
           "blue",
           "blue",
           "blue",
           "red",
           "blue",
           "red",
           "red",
           "blue",
           "red",
           "red",
           "red",
           "red",
           "red",
           "red",
           "blue",
           "red",
           "red",
           "red",
           "blue",
           "red",
           "blue",
           "blue",
           "red",
           "red",
           "red",
           "blue",
           "blue",
           "blue",
           "red",
           "red",
           "blue",
           "red",
           "red",
           "red",
           "red",
           "blue",
           "blue",
           "red",
           "red",
           "blue",
           "red",
           "blue",
           "red",
           "blue",
           "blue",
           "red",
           "red",
           "red",
           "red",
           "blue",
           "red",
           "red",
           "red",
           "red",
           "red",
           "red",
           "red",
           "red",
           "red",
           "red",
           "blue",
           "red",
           "red",
           "red",
           "red",
           "blue",
           "red",
           "blue",
           "red",
           "red",
           "red",
           "red",
           "red",
           "blue"
          ]
         },
         "name": "Positive Proportion",
         "orientation": "h",
         "showlegend": false,
         "text": [
          1,
          2,
          3,
          4,
          5,
          6,
          7,
          8,
          9,
          10,
          11,
          12,
          13,
          14,
          15,
          16,
          17,
          18,
          19,
          20,
          21,
          22,
          23,
          24,
          25,
          26,
          27,
          28,
          29,
          30,
          31,
          32,
          33,
          34,
          35,
          36,
          37,
          38,
          39,
          40,
          41,
          42,
          43,
          44,
          45,
          46,
          47,
          48,
          49,
          50,
          51,
          52,
          53,
          54,
          55,
          56,
          57,
          58,
          59,
          60,
          61,
          62,
          63,
          64,
          65,
          66,
          67,
          68,
          69,
          70,
          71,
          72,
          73,
          74,
          75,
          76,
          77,
          78,
          79,
          80,
          81,
          82,
          83,
          84,
          85,
          86,
          87,
          88,
          89,
          90,
          91,
          92,
          93,
          94,
          95,
          96,
          97,
          98,
          99,
          100,
          101,
          102,
          103,
          104,
          105,
          106,
          107
         ],
         "textposition": "inside",
         "type": "bar",
         "x": [
          0.0005759909671545493,
          0.0012303389376029372,
          0.004401807207614183,
          0.007760925218462944,
          0.05263056233525276,
          0.1770383766015584,
          0.2277392173393764,
          0.26039218878140674,
          0.26911965318140574,
          0.2716615009435918,
          0.27690589427948,
          0.2929526672474367,
          0.30193091440528863,
          0.3172387257218361,
          0.32301880928571336,
          0.32522570935543627,
          0.33156753095765906,
          0.33407786749470075,
          0.3446310882688787,
          0.34639412452674256,
          0.34920215606689453,
          0.35586606322840453,
          0.3606917391589377,
          0.3617291114328859,
          0.3696327859070152,
          0.3861177575890906,
          0.3889295255066827,
          0.39941807254217565,
          0.400142250864883,
          0.4034312059520744,
          0.42842840214319894,
          0.4330000039190054,
          0.44137873902218416,
          0.4462316090410406,
          0.446891770458832,
          0.4490449211249749,
          0.4518441580188437,
          0.4580547375488095,
          0.45844957175719087,
          0.4611400902093514,
          0.46898198339622466,
          0.4720028301321522,
          0.4728275660367217,
          0.4763489398173988,
          0.4771496123250793,
          0.4786000767101844,
          0.4823958991457605,
          0.4915886328057645,
          0.49179468670045023,
          0.49725970884101117,
          0.5005906778387725,
          0.5048701663812002,
          0.5128539733588695,
          0.519282146381253,
          0.5388482976704836,
          0.5428592807480267,
          0.5462195459987556,
          0.5473226830363274,
          0.5612989927855475,
          0.5672805923968554,
          0.5858154119070904,
          0.5869815945625305,
          0.5897518619894981,
          0.5922440528869629,
          0.6084958910942078,
          0.6085656480435686,
          0.6089469492435455,
          0.6094084467206683,
          0.6162421647459269,
          0.6227866325643845,
          0.6398787647485733,
          0.6403617218136788,
          0.652405481446873,
          0.6578696314245462,
          0.6665616892278194,
          0.6704430061411889,
          0.6829944206401706,
          0.6832671717137975,
          0.6897060787126136,
          0.7076909861394337,
          0.709189839961548,
          0.7102585062384605,
          0.7124663442373276,
          0.7335472479462624,
          0.7741263168198722,
          0.7965543468793234,
          0.8528769968284501,
          0.8675120025873184,
          0.8688843250274658,
          0.888914707032117,
          0.9057738610676357,
          0.9058218598365784,
          0.9273090759913126,
          0.928830474615097,
          0.9718907475471497,
          0.9813128709793091,
          0.9841331094503403,
          0.9853968024253845,
          0.9882842600345612,
          0.9896212518215179,
          0.997844934463501,
          0.998417854309082,
          0.9993764758110046,
          0.999810516834259,
          0.9998390674591064,
          0.9999432563781738,
          0.9999990463256836
         ],
         "y": [
          "Eleanor Everest Freer",
          "Charles Wood",
          "Frederick Corder",
          "Alfred Cellier",
          "Alice Tegnér",
          "Evelyn Faltis",
          "Claude Debussy",
          "Granville Bantock",
          "Edward Elgar",
          "Corona Schröter",
          "Pauline-Marie-Elisa Thys",
          "Robert Schumann",
          "Georges Bizet",
          "Sophie Gail",
          "Lili Boulanger",
          "Richard Strauss",
          "Franz Schubert",
          "Johannes Brahms",
          "Ivor Gurney",
          "Marie Jaëll",
          "Cyril Rootham",
          "Ernest Chausson",
          "Arthur Sullivan",
          "Walter Parratt",
          "Samuel Coleridge-Taylor",
          "Sir Harold Boulton, 2nd Baronet",
          "Joseph Haydn",
          "Jane Mary Guest",
          "Anton Webern",
          "Chiquinha Gonzaga",
          "Peter Cornelius",
          "Charles Gounod",
          "Harry T. Burleigh",
          "Peter Warlock",
          "Gustav Mahler",
          "George Butterworth",
          "Josephine Lang",
          "Arthur Somervell",
          "Liza Lehmann",
          "Helena Munktell",
          "Robert Franz",
          "Clara Mathilda Faisst",
          "Amy Beach",
          "Maude Valerie White",
          "Clara Wieck",
          "Maria Theresia von Paradis",
          "Guy d'Hardelot",
          "Frank Bridge",
          "Augusta Holmès",
          "Johanna Kinkel",
          "Mélanie Bonis",
          "Edward German",
          "Carrie Jacobs-Bond",
          "Gabriel Fauré",
          "Hubert Parry",
          "Pauline Viardot",
          "Louise Reichardt",
          "Gabrielle Ferrari",
          "Felix Mendelssohn",
          "Alexander Mackenzie",
          "Hugo Wolf",
          "Liliʻuokalani",
          "Jane Bingham Abbott",
          "Richard Wagner",
          "Florence Ashton Marshall",
          "Fanny Mendelssohn",
          "Augusta Browne",
          "Laura Netzel",
          "Ludwig van Beethoven",
          "Walford Davies",
          "Maria Lindsay",
          "Amelia Lehmann",
          "Erik Satie",
          "Emilie Mayer",
          "Emmanuel Chabrier",
          "Mathilde Kralik",
          "Frederick Delius",
          "Charles Villiers Stanford",
          "Clémence de Grandval",
          "Luise Adolpha Le Beau",
          "Cécile Chaminade",
          "Virginia Gabriel",
          "Frederic Hymen Cowen",
          "Amy Elsie Horrocks",
          "Louisa Gray",
          "Loïsa Puget",
          "Luise Greger",
          "Ellen Dickson",
          "Elizabeth Phillips",
          "Emilie Zumsteeg",
          "Ann Mounsey",
          "Helen Hopekirk",
          "Poldowski",
          "Joseph Barnby",
          "Charlotte Alington Barnard",
          "Elizabeth Philp",
          "Pauline Duchambge",
          "Ethel Barns",
          "Henry Bishop",
          "Harriett Abrams",
          "Scott Joplin",
          "Ethel Smyth",
          "Faustina Hasse Hodges",
          "Jane Bianchi",
          "Louise Farrenc",
          "Elisabetta de Gambarini",
          "William Shield"
         ]
        },
        {
         "marker": {
          "color": [
           "red",
           "blue",
           "blue",
           "blue",
           "red",
           "red",
           "blue",
           "blue",
           "blue",
           "red",
           "red",
           "blue",
           "blue",
           "red",
           "red",
           "blue",
           "blue",
           "blue",
           "blue",
           "red",
           "blue",
           "blue",
           "blue",
           "blue",
           "blue",
           "blue",
           "blue",
           "red",
           "blue",
           "red",
           "blue",
           "blue",
           "blue",
           "blue",
           "blue",
           "blue",
           "red",
           "blue",
           "red",
           "red",
           "blue",
           "red",
           "red",
           "red",
           "red",
           "red",
           "red",
           "blue",
           "red",
           "red",
           "red",
           "blue",
           "red",
           "blue",
           "blue",
           "red",
           "red",
           "red",
           "blue",
           "blue",
           "blue",
           "red",
           "red",
           "blue",
           "red",
           "red",
           "red",
           "red",
           "blue",
           "blue",
           "red",
           "red",
           "blue",
           "red",
           "blue",
           "red",
           "blue",
           "blue",
           "red",
           "red",
           "red",
           "red",
           "blue",
           "red",
           "red",
           "red",
           "red",
           "red",
           "red",
           "red",
           "red",
           "red",
           "red",
           "blue",
           "red",
           "red",
           "red",
           "red",
           "blue",
           "red",
           "blue",
           "red",
           "red",
           "red",
           "red",
           "red",
           "blue"
          ]
         },
         "name": "Negative Proportion",
         "orientation": "h",
         "showlegend": false,
         "textposition": "inside",
         "type": "bar",
         "x": [
          -0.9994239807128906,
          -0.9987695813179016,
          -0.9955982565879822,
          -0.9922389984130859,
          -0.9473694562911987,
          -0.8229615986347198,
          -0.7722608015174046,
          -0.7396078251302243,
          -0.7308803558349609,
          -0.7283385045081378,
          -0.7230941653251648,
          -0.707047330931573,
          -0.6980690846953971,
          -0.6827612668275833,
          -0.6769811970152659,
          -0.674774281156715,
          -0.6684324629430194,
          -0.6659221274925358,
          -0.6553689285647124,
          -0.6536058779353934,
          -0.6507978439331055,
          -0.6441339264468601,
          -0.6393082588911057,
          -0.638270885253755,
          -0.6303672029171139,
          -0.6138822520499616,
          -0.6110704787075519,
          -0.6005819514393806,
          -0.599857755121775,
          -0.5965687973227128,
          -0.571571597870645,
          -0.566999995149672,
          -0.5586212556809187,
          -0.5537683962082321,
          -0.5531082215408484,
          -0.5509550916807106,
          -0.5481558484475499,
          -0.5419452592264861,
          -0.5415504312282666,
          -0.5388598890373638,
          -0.5310180263302755,
          -0.5279971685053574,
          -0.5271724366350099,
          -0.5236510494723916,
          -0.5228503917836967,
          -0.5213999302747349,
          -0.5176041095465835,
          -0.5084113808245294,
          -0.5082053180143703,
          -0.502740290316433,
          -0.49940926500130445,
          -0.49512984976172447,
          -0.4871460251320968,
          -0.4807178571378851,
          -0.4611517145531252,
          -0.4571407244407705,
          -0.4537804596875503,
          -0.45267731323838234,
          -0.4387009968049824,
          -0.43271942762658,
          -0.4141845825308172,
          -0.4130183756351471,
          -0.4102481890004128,
          -0.4077559523284435,
          -0.39150410890579224,
          -0.3914343461835093,
          -0.39105302343765896,
          -0.39059154873497653,
          -0.38375784793918555,
          -0.3772133773891255,
          -0.3601212836802006,
          -0.3596383022144437,
          -0.3475945203145701,
          -0.34213036341437447,
          -0.33343829202931374,
          -0.3295569952677195,
          -0.31700556275124353,
          -0.31673282640986145,
          -0.31029391243086696,
          -0.2923090134930578,
          -0.2908101656788594,
          -0.2897414725739509,
          -0.28753365902230144,
          -0.2664527539163828,
          -0.22587367652782372,
          -0.20344566577114165,
          -0.14712300317452037,
          -0.13248803094029427,
          -0.13111568987369537,
          -0.11108531419780444,
          -0.09422615870633828,
          -0.09417811036109924,
          -0.07269088209917147,
          -0.07116955670062453,
          -0.02810924115619855,
          -0.018687121744733304,
          -0.0158668847871013,
          -0.014603239484131336,
          -0.011715749511495233,
          -0.01037874654866755,
          -0.0021550920791924,
          -0.0015821718843653798,
          -0.0006235347827896476,
          -0.0001895604800665751,
          -0.00016094770398922265,
          -0.000056725697504589334,
          -9.175482205137087e-7
         ],
         "y": [
          "Eleanor Everest Freer",
          "Charles Wood",
          "Frederick Corder",
          "Alfred Cellier",
          "Alice Tegnér",
          "Evelyn Faltis",
          "Claude Debussy",
          "Granville Bantock",
          "Edward Elgar",
          "Corona Schröter",
          "Pauline-Marie-Elisa Thys",
          "Robert Schumann",
          "Georges Bizet",
          "Sophie Gail",
          "Lili Boulanger",
          "Richard Strauss",
          "Franz Schubert",
          "Johannes Brahms",
          "Ivor Gurney",
          "Marie Jaëll",
          "Cyril Rootham",
          "Ernest Chausson",
          "Arthur Sullivan",
          "Walter Parratt",
          "Samuel Coleridge-Taylor",
          "Sir Harold Boulton, 2nd Baronet",
          "Joseph Haydn",
          "Jane Mary Guest",
          "Anton Webern",
          "Chiquinha Gonzaga",
          "Peter Cornelius",
          "Charles Gounod",
          "Harry T. Burleigh",
          "Peter Warlock",
          "Gustav Mahler",
          "George Butterworth",
          "Josephine Lang",
          "Arthur Somervell",
          "Liza Lehmann",
          "Helena Munktell",
          "Robert Franz",
          "Clara Mathilda Faisst",
          "Amy Beach",
          "Maude Valerie White",
          "Clara Wieck",
          "Maria Theresia von Paradis",
          "Guy d'Hardelot",
          "Frank Bridge",
          "Augusta Holmès",
          "Johanna Kinkel",
          "Mélanie Bonis",
          "Edward German",
          "Carrie Jacobs-Bond",
          "Gabriel Fauré",
          "Hubert Parry",
          "Pauline Viardot",
          "Louise Reichardt",
          "Gabrielle Ferrari",
          "Felix Mendelssohn",
          "Alexander Mackenzie",
          "Hugo Wolf",
          "Liliʻuokalani",
          "Jane Bingham Abbott",
          "Richard Wagner",
          "Florence Ashton Marshall",
          "Fanny Mendelssohn",
          "Augusta Browne",
          "Laura Netzel",
          "Ludwig van Beethoven",
          "Walford Davies",
          "Maria Lindsay",
          "Amelia Lehmann",
          "Erik Satie",
          "Emilie Mayer",
          "Emmanuel Chabrier",
          "Mathilde Kralik",
          "Frederick Delius",
          "Charles Villiers Stanford",
          "Clémence de Grandval",
          "Luise Adolpha Le Beau",
          "Cécile Chaminade",
          "Virginia Gabriel",
          "Frederic Hymen Cowen",
          "Amy Elsie Horrocks",
          "Louisa Gray",
          "Loïsa Puget",
          "Luise Greger",
          "Ellen Dickson",
          "Elizabeth Phillips",
          "Emilie Zumsteeg",
          "Ann Mounsey",
          "Helen Hopekirk",
          "Poldowski",
          "Joseph Barnby",
          "Charlotte Alington Barnard",
          "Elizabeth Philp",
          "Pauline Duchambge",
          "Ethel Barns",
          "Henry Bishop",
          "Harriett Abrams",
          "Scott Joplin",
          "Ethel Smyth",
          "Faustina Hasse Hodges",
          "Jane Bianchi",
          "Louise Farrenc",
          "Elisabetta de Gambarini",
          "William Shield"
         ]
        }
       ],
       "layout": {
        "annotations": [
         {
          "align": "center",
          "font": {
           "color": "black",
           "family": "DejaVu Sans",
           "size": 12
          },
          "showarrow": false,
          "text": "Avg. Probabilities for Male",
          "x": 0.1,
          "xref": "paper",
          "y": -0.035,
          "yref": "paper"
         },
         {
          "align": "center",
          "font": {
           "color": "black",
           "family": "DejaVu Sans",
           "size": 12
          },
          "showarrow": false,
          "text": "Avg. Probabilities for Female",
          "x": 0.9,
          "xref": "paper",
          "y": -0.035,
          "yref": "paper"
         },
         {
          "align": "left",
          "font": {
           "color": "black",
           "family": "DejaVu Sans",
           "size": 12
          },
          "showarrow": false,
          "text": "𝗣𝗿𝗲𝗱𝗶𝗰𝘁𝗲𝗱 𝗙𝗲𝗺𝗮𝗹𝗲<br><span style='color:blue'>■</span> Male: 18<br><span style='color:red'>■</span> Female: 39",
          "x": 0,
          "xref": "paper",
          "y": 0.999,
          "yref": "paper"
         },
         {
          "align": "left",
          "font": {
           "color": "black",
           "family": "DejaVu Sans",
           "size": 12
          },
          "showarrow": false,
          "text": "𝗣𝗿𝗲𝗱𝗶𝗰𝘁𝗲𝗱 𝗠𝗮𝗹𝗲<br><span style='color:blue'>■</span> Male: 29<br><span style='color:red'>■</span> Female: 21",
          "x": 0,
          "xref": "paper",
          "y": 0.38,
          "yref": "paper"
         },
         {
          "align": "center",
          "font": {
           "color": "black",
           "family": "DejaVu Sans",
           "size": 12
          },
          "showarrow": false,
          "text": "True Composer Gender  </b> <span style='color:blue'>■</span> Male <span style='color:red'>■</span> Female",
          "x": 0.7,
          "xanchor": "center",
          "xref": "paper",
          "y": 1.025,
          "yref": "paper"
         }
        ],
        "barmode": "overlay",
        "height": 1300,
        "margin": {
         "b": 50,
         "l": 200,
         "r": 20,
         "t": 100
        },
        "shapes": [
         {
          "line": {
           "color": "black",
           "dash": "dash",
           "width": 1
          },
          "type": "line",
          "x0": 0.5,
          "x1": 0.5,
          "y0": -0.5,
          "y1": 106.5
         },
         {
          "line": {
           "color": "black",
           "dash": "dash",
           "width": 1
          },
          "type": "line",
          "x0": -0.5,
          "x1": -0.5,
          "y0": -0.5,
          "y1": 106.5
         }
        ],
        "template": {
         "data": {
          "bar": [
           {
            "error_x": {
             "color": "#2a3f5f"
            },
            "error_y": {
             "color": "#2a3f5f"
            },
            "marker": {
             "line": {
              "color": "#E5ECF6",
              "width": 0.5
             },
             "pattern": {
              "fillmode": "overlay",
              "size": 10,
              "solidity": 0.2
             }
            },
            "type": "bar"
           }
          ],
          "barpolar": [
           {
            "marker": {
             "line": {
              "color": "#E5ECF6",
              "width": 0.5
             },
             "pattern": {
              "fillmode": "overlay",
              "size": 10,
              "solidity": 0.2
             }
            },
            "type": "barpolar"
           }
          ],
          "carpet": [
           {
            "aaxis": {
             "endlinecolor": "#2a3f5f",
             "gridcolor": "white",
             "linecolor": "white",
             "minorgridcolor": "white",
             "startlinecolor": "#2a3f5f"
            },
            "baxis": {
             "endlinecolor": "#2a3f5f",
             "gridcolor": "white",
             "linecolor": "white",
             "minorgridcolor": "white",
             "startlinecolor": "#2a3f5f"
            },
            "type": "carpet"
           }
          ],
          "choropleth": [
           {
            "colorbar": {
             "outlinewidth": 0,
             "ticks": ""
            },
            "type": "choropleth"
           }
          ],
          "contour": [
           {
            "colorbar": {
             "outlinewidth": 0,
             "ticks": ""
            },
            "colorscale": [
             [
              0,
              "#0d0887"
             ],
             [
              0.1111111111111111,
              "#46039f"
             ],
             [
              0.2222222222222222,
              "#7201a8"
             ],
             [
              0.3333333333333333,
              "#9c179e"
             ],
             [
              0.4444444444444444,
              "#bd3786"
             ],
             [
              0.5555555555555556,
              "#d8576b"
             ],
             [
              0.6666666666666666,
              "#ed7953"
             ],
             [
              0.7777777777777778,
              "#fb9f3a"
             ],
             [
              0.8888888888888888,
              "#fdca26"
             ],
             [
              1,
              "#f0f921"
             ]
            ],
            "type": "contour"
           }
          ],
          "contourcarpet": [
           {
            "colorbar": {
             "outlinewidth": 0,
             "ticks": ""
            },
            "type": "contourcarpet"
           }
          ],
          "heatmap": [
           {
            "colorbar": {
             "outlinewidth": 0,
             "ticks": ""
            },
            "colorscale": [
             [
              0,
              "#0d0887"
             ],
             [
              0.1111111111111111,
              "#46039f"
             ],
             [
              0.2222222222222222,
              "#7201a8"
             ],
             [
              0.3333333333333333,
              "#9c179e"
             ],
             [
              0.4444444444444444,
              "#bd3786"
             ],
             [
              0.5555555555555556,
              "#d8576b"
             ],
             [
              0.6666666666666666,
              "#ed7953"
             ],
             [
              0.7777777777777778,
              "#fb9f3a"
             ],
             [
              0.8888888888888888,
              "#fdca26"
             ],
             [
              1,
              "#f0f921"
             ]
            ],
            "type": "heatmap"
           }
          ],
          "heatmapgl": [
           {
            "colorbar": {
             "outlinewidth": 0,
             "ticks": ""
            },
            "colorscale": [
             [
              0,
              "#0d0887"
             ],
             [
              0.1111111111111111,
              "#46039f"
             ],
             [
              0.2222222222222222,
              "#7201a8"
             ],
             [
              0.3333333333333333,
              "#9c179e"
             ],
             [
              0.4444444444444444,
              "#bd3786"
             ],
             [
              0.5555555555555556,
              "#d8576b"
             ],
             [
              0.6666666666666666,
              "#ed7953"
             ],
             [
              0.7777777777777778,
              "#fb9f3a"
             ],
             [
              0.8888888888888888,
              "#fdca26"
             ],
             [
              1,
              "#f0f921"
             ]
            ],
            "type": "heatmapgl"
           }
          ],
          "histogram": [
           {
            "marker": {
             "pattern": {
              "fillmode": "overlay",
              "size": 10,
              "solidity": 0.2
             }
            },
            "type": "histogram"
           }
          ],
          "histogram2d": [
           {
            "colorbar": {
             "outlinewidth": 0,
             "ticks": ""
            },
            "colorscale": [
             [
              0,
              "#0d0887"
             ],
             [
              0.1111111111111111,
              "#46039f"
             ],
             [
              0.2222222222222222,
              "#7201a8"
             ],
             [
              0.3333333333333333,
              "#9c179e"
             ],
             [
              0.4444444444444444,
              "#bd3786"
             ],
             [
              0.5555555555555556,
              "#d8576b"
             ],
             [
              0.6666666666666666,
              "#ed7953"
             ],
             [
              0.7777777777777778,
              "#fb9f3a"
             ],
             [
              0.8888888888888888,
              "#fdca26"
             ],
             [
              1,
              "#f0f921"
             ]
            ],
            "type": "histogram2d"
           }
          ],
          "histogram2dcontour": [
           {
            "colorbar": {
             "outlinewidth": 0,
             "ticks": ""
            },
            "colorscale": [
             [
              0,
              "#0d0887"
             ],
             [
              0.1111111111111111,
              "#46039f"
             ],
             [
              0.2222222222222222,
              "#7201a8"
             ],
             [
              0.3333333333333333,
              "#9c179e"
             ],
             [
              0.4444444444444444,
              "#bd3786"
             ],
             [
              0.5555555555555556,
              "#d8576b"
             ],
             [
              0.6666666666666666,
              "#ed7953"
             ],
             [
              0.7777777777777778,
              "#fb9f3a"
             ],
             [
              0.8888888888888888,
              "#fdca26"
             ],
             [
              1,
              "#f0f921"
             ]
            ],
            "type": "histogram2dcontour"
           }
          ],
          "mesh3d": [
           {
            "colorbar": {
             "outlinewidth": 0,
             "ticks": ""
            },
            "type": "mesh3d"
           }
          ],
          "parcoords": [
           {
            "line": {
             "colorbar": {
              "outlinewidth": 0,
              "ticks": ""
             }
            },
            "type": "parcoords"
           }
          ],
          "pie": [
           {
            "automargin": true,
            "type": "pie"
           }
          ],
          "scatter": [
           {
            "fillpattern": {
             "fillmode": "overlay",
             "size": 10,
             "solidity": 0.2
            },
            "type": "scatter"
           }
          ],
          "scatter3d": [
           {
            "line": {
             "colorbar": {
              "outlinewidth": 0,
              "ticks": ""
             }
            },
            "marker": {
             "colorbar": {
              "outlinewidth": 0,
              "ticks": ""
             }
            },
            "type": "scatter3d"
           }
          ],
          "scattercarpet": [
           {
            "marker": {
             "colorbar": {
              "outlinewidth": 0,
              "ticks": ""
             }
            },
            "type": "scattercarpet"
           }
          ],
          "scattergeo": [
           {
            "marker": {
             "colorbar": {
              "outlinewidth": 0,
              "ticks": ""
             }
            },
            "type": "scattergeo"
           }
          ],
          "scattergl": [
           {
            "marker": {
             "colorbar": {
              "outlinewidth": 0,
              "ticks": ""
             }
            },
            "type": "scattergl"
           }
          ],
          "scattermapbox": [
           {
            "marker": {
             "colorbar": {
              "outlinewidth": 0,
              "ticks": ""
             }
            },
            "type": "scattermapbox"
           }
          ],
          "scatterpolar": [
           {
            "marker": {
             "colorbar": {
              "outlinewidth": 0,
              "ticks": ""
             }
            },
            "type": "scatterpolar"
           }
          ],
          "scatterpolargl": [
           {
            "marker": {
             "colorbar": {
              "outlinewidth": 0,
              "ticks": ""
             }
            },
            "type": "scatterpolargl"
           }
          ],
          "scatterternary": [
           {
            "marker": {
             "colorbar": {
              "outlinewidth": 0,
              "ticks": ""
             }
            },
            "type": "scatterternary"
           }
          ],
          "surface": [
           {
            "colorbar": {
             "outlinewidth": 0,
             "ticks": ""
            },
            "colorscale": [
             [
              0,
              "#0d0887"
             ],
             [
              0.1111111111111111,
              "#46039f"
             ],
             [
              0.2222222222222222,
              "#7201a8"
             ],
             [
              0.3333333333333333,
              "#9c179e"
             ],
             [
              0.4444444444444444,
              "#bd3786"
             ],
             [
              0.5555555555555556,
              "#d8576b"
             ],
             [
              0.6666666666666666,
              "#ed7953"
             ],
             [
              0.7777777777777778,
              "#fb9f3a"
             ],
             [
              0.8888888888888888,
              "#fdca26"
             ],
             [
              1,
              "#f0f921"
             ]
            ],
            "type": "surface"
           }
          ],
          "table": [
           {
            "cells": {
             "fill": {
              "color": "#EBF0F8"
             },
             "line": {
              "color": "white"
             }
            },
            "header": {
             "fill": {
              "color": "#C8D4E3"
             },
             "line": {
              "color": "white"
             }
            },
            "type": "table"
           }
          ]
         },
         "layout": {
          "annotationdefaults": {
           "arrowcolor": "#2a3f5f",
           "arrowhead": 0,
           "arrowwidth": 1
          },
          "autotypenumbers": "strict",
          "coloraxis": {
           "colorbar": {
            "outlinewidth": 0,
            "ticks": ""
           }
          },
          "colorscale": {
           "diverging": [
            [
             0,
             "#8e0152"
            ],
            [
             0.1,
             "#c51b7d"
            ],
            [
             0.2,
             "#de77ae"
            ],
            [
             0.3,
             "#f1b6da"
            ],
            [
             0.4,
             "#fde0ef"
            ],
            [
             0.5,
             "#f7f7f7"
            ],
            [
             0.6,
             "#e6f5d0"
            ],
            [
             0.7,
             "#b8e186"
            ],
            [
             0.8,
             "#7fbc41"
            ],
            [
             0.9,
             "#4d9221"
            ],
            [
             1,
             "#276419"
            ]
           ],
           "sequential": [
            [
             0,
             "#0d0887"
            ],
            [
             0.1111111111111111,
             "#46039f"
            ],
            [
             0.2222222222222222,
             "#7201a8"
            ],
            [
             0.3333333333333333,
             "#9c179e"
            ],
            [
             0.4444444444444444,
             "#bd3786"
            ],
            [
             0.5555555555555556,
             "#d8576b"
            ],
            [
             0.6666666666666666,
             "#ed7953"
            ],
            [
             0.7777777777777778,
             "#fb9f3a"
            ],
            [
             0.8888888888888888,
             "#fdca26"
            ],
            [
             1,
             "#f0f921"
            ]
           ],
           "sequentialminus": [
            [
             0,
             "#0d0887"
            ],
            [
             0.1111111111111111,
             "#46039f"
            ],
            [
             0.2222222222222222,
             "#7201a8"
            ],
            [
             0.3333333333333333,
             "#9c179e"
            ],
            [
             0.4444444444444444,
             "#bd3786"
            ],
            [
             0.5555555555555556,
             "#d8576b"
            ],
            [
             0.6666666666666666,
             "#ed7953"
            ],
            [
             0.7777777777777778,
             "#fb9f3a"
            ],
            [
             0.8888888888888888,
             "#fdca26"
            ],
            [
             1,
             "#f0f921"
            ]
           ]
          },
          "colorway": [
           "#636efa",
           "#EF553B",
           "#00cc96",
           "#ab63fa",
           "#FFA15A",
           "#19d3f3",
           "#FF6692",
           "#B6E880",
           "#FF97FF",
           "#FECB52"
          ],
          "font": {
           "color": "#2a3f5f"
          },
          "geo": {
           "bgcolor": "white",
           "lakecolor": "white",
           "landcolor": "#E5ECF6",
           "showlakes": true,
           "showland": true,
           "subunitcolor": "white"
          },
          "hoverlabel": {
           "align": "left"
          },
          "hovermode": "closest",
          "mapbox": {
           "style": "light"
          },
          "paper_bgcolor": "white",
          "plot_bgcolor": "#E5ECF6",
          "polar": {
           "angularaxis": {
            "gridcolor": "white",
            "linecolor": "white",
            "ticks": ""
           },
           "bgcolor": "#E5ECF6",
           "radialaxis": {
            "gridcolor": "white",
            "linecolor": "white",
            "ticks": ""
           }
          },
          "scene": {
           "xaxis": {
            "backgroundcolor": "#E5ECF6",
            "gridcolor": "white",
            "gridwidth": 2,
            "linecolor": "white",
            "showbackground": true,
            "ticks": "",
            "zerolinecolor": "white"
           },
           "yaxis": {
            "backgroundcolor": "#E5ECF6",
            "gridcolor": "white",
            "gridwidth": 2,
            "linecolor": "white",
            "showbackground": true,
            "ticks": "",
            "zerolinecolor": "white"
           },
           "zaxis": {
            "backgroundcolor": "#E5ECF6",
            "gridcolor": "white",
            "gridwidth": 2,
            "linecolor": "white",
            "showbackground": true,
            "ticks": "",
            "zerolinecolor": "white"
           }
          },
          "shapedefaults": {
           "line": {
            "color": "#2a3f5f"
           }
          },
          "ternary": {
           "aaxis": {
            "gridcolor": "white",
            "linecolor": "white",
            "ticks": ""
           },
           "baxis": {
            "gridcolor": "white",
            "linecolor": "white",
            "ticks": ""
           },
           "bgcolor": "#E5ECF6",
           "caxis": {
            "gridcolor": "white",
            "linecolor": "white",
            "ticks": ""
           }
          },
          "title": {
           "x": 0.05
          },
          "xaxis": {
           "automargin": true,
           "gridcolor": "white",
           "linecolor": "white",
           "ticks": "",
           "title": {
            "standoff": 15
           },
           "zerolinecolor": "white",
           "zerolinewidth": 2
          },
          "yaxis": {
           "automargin": true,
           "gridcolor": "white",
           "linecolor": "white",
           "ticks": "",
           "title": {
            "standoff": 15
           },
           "zerolinecolor": "white",
           "zerolinewidth": 2
          }
         }
        },
        "title": {
         "font": {
          "color": "black",
          "family": "DejaVu Sans",
          "size": 16
         },
         "text": "<b>Average Probability of Female and Male by Composer",
         "x": 0.5,
         "xanchor": "center"
        },
        "width": 800,
        "xaxis": {
         "range": [
          -1,
          1
         ],
         "tickfont": {
          "color": "black",
          "family": "DejaVu Sans",
          "size": 12
         },
         "tickformat": ".0%",
         "ticktext": [
          "100%",
          "75%",
          "50%",
          "25%",
          "0%",
          "25%",
          "50%",
          "75%",
          "100%"
         ],
         "tickvals": [
          -1,
          -0.75,
          -0.5,
          -0.25,
          0,
          0.25,
          0.5,
          0.75,
          1
         ],
         "title": {
          "font": {
           "size": 20
          }
         }
        },
        "yaxis": {
         "tickfont": {
          "color": "black",
          "family": "DejaVu Sans",
          "size": 12
         },
         "tickmode": "array",
         "ticktext": [
          " Eleanor Everest Freer - 1 ",
          " Charles Wood - 2 ",
          " Frederick Corder - 3 ",
          " Alfred Cellier - 4 ",
          " Alice Tegnér - 5 ",
          " Evelyn Faltis - 6 ",
          " Claude Debussy - 7 ",
          " Granville Bantock - 8 ",
          " Edward Elgar - 9 ",
          " Corona Schröter - 10 ",
          " Pauline-Marie-Elisa Thys - 11 ",
          " Robert Schumann - 12 ",
          " Georges Bizet - 13 ",
          " Sophie Gail - 14 ",
          " Lili Boulanger - 15 ",
          " Richard Strauss - 16 ",
          " Franz Schubert - 17 ",
          " Johannes Brahms - 18 ",
          " Ivor Gurney - 19 ",
          " Marie Jaëll - 20 ",
          " Cyril Rootham - 21 ",
          " Ernest Chausson - 22 ",
          " Arthur Sullivan - 23 ",
          " Walter Parratt - 24 ",
          " Samuel Coleridge-Taylor - 25 ",
          " Sir Harold Boulton, 2nd Baronet - 26 ",
          " Joseph Haydn - 27 ",
          " Jane Mary Guest - 28 ",
          " Anton Webern - 29 ",
          " Chiquinha Gonzaga - 30 ",
          " Peter Cornelius - 31 ",
          " Charles Gounod - 32 ",
          " Harry T. Burleigh - 33 ",
          " Peter Warlock - 34 ",
          " Gustav Mahler - 35 ",
          " George Butterworth - 36 ",
          " Josephine Lang - 37 ",
          " Arthur Somervell - 38 ",
          " Liza Lehmann - 39 ",
          " Helena Munktell - 40 ",
          " Robert Franz - 41 ",
          " Clara Mathilda Faisst - 42 ",
          " Amy Beach - 43 ",
          " Maude Valerie White - 44 ",
          " Clara Wieck - 45 ",
          " Maria Theresia von Paradis - 46 ",
          " Guy d'Hardelot - 47 ",
          " Frank Bridge - 48 ",
          " Augusta Holmès - 49 ",
          " Johanna Kinkel - 50 ",
          " Mélanie Bonis - 51 ",
          " Edward German - 52 ",
          " Carrie Jacobs-Bond - 53 ",
          " Gabriel Fauré - 54 ",
          " Hubert Parry - 55 ",
          " Pauline Viardot - 56 ",
          " Louise Reichardt - 57 ",
          " Gabrielle Ferrari - 58 ",
          " Felix Mendelssohn - 59 ",
          " Alexander Mackenzie - 60 ",
          " Hugo Wolf - 61 ",
          " Liliʻuokalani - 62 ",
          " Jane Bingham Abbott - 63 ",
          " Richard Wagner - 64 ",
          " Florence Ashton Marshall - 65 ",
          " Fanny Mendelssohn - 66 ",
          " Augusta Browne - 67 ",
          " Laura Netzel - 68 ",
          " Ludwig van Beethoven - 69 ",
          " Walford Davies - 70 ",
          " Maria Lindsay - 71 ",
          " Amelia Lehmann - 72 ",
          " Erik Satie - 73 ",
          " Emilie Mayer - 74 ",
          " Emmanuel Chabrier - 75 ",
          " Mathilde Kralik - 76 ",
          " Frederick Delius - 77 ",
          " Charles Villiers Stanford - 78 ",
          " Clémence de Grandval - 79 ",
          " Luise Adolpha Le Beau - 80 ",
          " Cécile Chaminade - 81 ",
          " Virginia Gabriel - 82 ",
          " Frederic Hymen Cowen - 83 ",
          " Amy Elsie Horrocks - 84 ",
          " Louisa Gray - 85 ",
          " Loïsa Puget - 86 ",
          " Luise Greger - 87 ",
          " Ellen Dickson - 88 ",
          " Elizabeth Phillips - 89 ",
          " Emilie Zumsteeg - 90 ",
          " Ann Mounsey - 91 ",
          " Helen Hopekirk - 92 ",
          " Poldowski - 93 ",
          " Joseph Barnby - 94 ",
          " Charlotte Alington Barnard - 95 ",
          " Elizabeth Philp - 96 ",
          " Pauline Duchambge - 97 ",
          " Ethel Barns - 98 ",
          " Henry Bishop - 99 ",
          " Harriett Abrams - 100 ",
          " Scott Joplin - 101 ",
          " Ethel Smyth - 102 ",
          " Faustina Hasse Hodges - 103 ",
          " Jane Bianchi - 104 ",
          " Louise Farrenc - 105 ",
          " Elisabetta de Gambarini - 106 ",
          " William Shield - 107 "
         ],
         "tickvals": [
          "Eleanor Everest Freer",
          "Charles Wood",
          "Frederick Corder",
          "Alfred Cellier",
          "Alice Tegnér",
          "Evelyn Faltis",
          "Claude Debussy",
          "Granville Bantock",
          "Edward Elgar",
          "Corona Schröter",
          "Pauline-Marie-Elisa Thys",
          "Robert Schumann",
          "Georges Bizet",
          "Sophie Gail",
          "Lili Boulanger",
          "Richard Strauss",
          "Franz Schubert",
          "Johannes Brahms",
          "Ivor Gurney",
          "Marie Jaëll",
          "Cyril Rootham",
          "Ernest Chausson",
          "Arthur Sullivan",
          "Walter Parratt",
          "Samuel Coleridge-Taylor",
          "Sir Harold Boulton, 2nd Baronet",
          "Joseph Haydn",
          "Jane Mary Guest",
          "Anton Webern",
          "Chiquinha Gonzaga",
          "Peter Cornelius",
          "Charles Gounod",
          "Harry T. Burleigh",
          "Peter Warlock",
          "Gustav Mahler",
          "George Butterworth",
          "Josephine Lang",
          "Arthur Somervell",
          "Liza Lehmann",
          "Helena Munktell",
          "Robert Franz",
          "Clara Mathilda Faisst",
          "Amy Beach",
          "Maude Valerie White",
          "Clara Wieck",
          "Maria Theresia von Paradis",
          "Guy d'Hardelot",
          "Frank Bridge",
          "Augusta Holmès",
          "Johanna Kinkel",
          "Mélanie Bonis",
          "Edward German",
          "Carrie Jacobs-Bond",
          "Gabriel Fauré",
          "Hubert Parry",
          "Pauline Viardot",
          "Louise Reichardt",
          "Gabrielle Ferrari",
          "Felix Mendelssohn",
          "Alexander Mackenzie",
          "Hugo Wolf",
          "Liliʻuokalani",
          "Jane Bingham Abbott",
          "Richard Wagner",
          "Florence Ashton Marshall",
          "Fanny Mendelssohn",
          "Augusta Browne",
          "Laura Netzel",
          "Ludwig van Beethoven",
          "Walford Davies",
          "Maria Lindsay",
          "Amelia Lehmann",
          "Erik Satie",
          "Emilie Mayer",
          "Emmanuel Chabrier",
          "Mathilde Kralik",
          "Frederick Delius",
          "Charles Villiers Stanford",
          "Clémence de Grandval",
          "Luise Adolpha Le Beau",
          "Cécile Chaminade",
          "Virginia Gabriel",
          "Frederic Hymen Cowen",
          "Amy Elsie Horrocks",
          "Louisa Gray",
          "Loïsa Puget",
          "Luise Greger",
          "Ellen Dickson",
          "Elizabeth Phillips",
          "Emilie Zumsteeg",
          "Ann Mounsey",
          "Helen Hopekirk",
          "Poldowski",
          "Joseph Barnby",
          "Charlotte Alington Barnard",
          "Elizabeth Philp",
          "Pauline Duchambge",
          "Ethel Barns",
          "Henry Bishop",
          "Harriett Abrams",
          "Scott Joplin",
          "Ethel Smyth",
          "Faustina Hasse Hodges",
          "Jane Bianchi",
          "Louise Farrenc",
          "Elisabetta de Gambarini",
          "William Shield"
         ],
         "title": {}
        }
       }
      }
     },
     "metadata": {},
     "output_type": "display_data"
    }
   ],
   "source": [
    "import plotly.graph_objects as go\n",
    "import numpy as np\n",
    "\n",
    "# Assuming `df` is your DataFrame\n",
    "df=predictions\n",
    "\n",
    "# Create columns for positive and negative values\n",
    "df['positive'] = df['female_proba']\n",
    "df['negative'] = -df['male_proba']\n",
    "df = df.sort_values(by='positive')\n",
    "\n",
    "# Create enumeration and labels for y-axis\n",
    "df['enumeration'] = range(1, df.shape[0] + 1)\n",
    "enumerated_labels = [f\" {name} - {i} \" for i, name in zip(df['enumeration'], df['composer_name'])]\n",
    "\n",
    "# Create a color mapping based on the composer_gender\n",
    "color_map = {'Female': 'red', 'Male': 'blue'}\n",
    "df['color'] = df['composer_gender'].map(color_map)\n",
    "\n",
    "# Create traces for positive and negative values\n",
    "trace_positive = go.Bar(\n",
    "    y=df['composer_name'],\n",
    "    x=df['positive'],\n",
    "    text=df['enumeration'],\n",
    "    textposition='inside',\n",
    "    marker_color=df['color'],\n",
    "    orientation='h',\n",
    "    showlegend=False,\n",
    "    name='Positive Proportion'\n",
    ")\n",
    "\n",
    "trace_negative = go.Bar(\n",
    "    y=df['composer_name'],\n",
    "    x=df['negative'],\n",
    "    textposition='inside',\n",
    "    marker_color=df['color'],\n",
    "    orientation='h',\n",
    "    showlegend=False,\n",
    "    name='Negative Proportion'\n",
    ")\n",
    "\n",
    "df.reset_index(inplace=True, drop=True)\n",
    "# Identify the indices for 50-50% composers\n",
    "# lower_bound_index = df[df['positive'] == 0.500000].index[0]\n",
    "# upper_bound_index = df[df['positive'] == 0.500000].index[-1]\n",
    "\n",
    "# Create the figure\n",
    "fig = go.Figure(data=[trace_positive, trace_negative])\n",
    "\n",
    "# Add reference lines at 50% and -50%\n",
    "fig.add_shape(type=\"line\", \n",
    "              x0=0.5, y0=-0.5, x1=0.5, y1=len(df) - 0.5,\n",
    "              line=dict(color=\"black\", width=1, dash=\"dash\"))\n",
    "fig.add_shape(type=\"line\", \n",
    "              x0=-0.5, y0=-0.5, x1=-0.5, y1=len(df) - 0.5,\n",
    "              line=dict(color=\"black\", width=1, dash=\"dash\"))\n",
    "\n",
    "# # Add horizontal lines for 50-50% composers\n",
    "# fig.add_shape(type=\"line\",\n",
    "#               x0=-1, y0=lower_bound_index - 0.5, x1=1, y1=lower_bound_index - 0.5,\n",
    "#               line=dict(color=\"green\", width=2, dash=\"dash\"))\n",
    "\n",
    "# fig.add_shape(type=\"line\",\n",
    "#               x0=-1, y0=upper_bound_index + 0.5, x1=1, y1=upper_bound_index + 0.5,\n",
    "#               line=dict(color=\"green\", width=2, dash=\"dash\"))\n",
    "\n",
    "# Create custom x-tick labels\n",
    "custom_x_ticks = {v: f\"{abs(v) * 100:.0f}%\" for v in [-1, -0.75, -0.5, -0.25, 0, 0.25, 0.5, 0.75, 1]}\n",
    "\n",
    "# Update the layout\n",
    "fig.update_layout(\n",
    "    barmode='overlay',\n",
    "    width=800,  # Increase the width of the plot\n",
    "    height=1300,\n",
    "    title=dict(\n",
    "        text='<b>Average Probability of Female and Male by Composer',\n",
    "        font=dict(size=16, family='DejaVu Sans',color='black'),\n",
    "        x=0.5,  # Center the title\n",
    "        xanchor='center'\n",
    "    ),\n",
    "    yaxis_title=None,\n",
    "    xaxis_title=None,  # Remove x-axis title\n",
    "    yaxis=dict(\n",
    "        title=None,\n",
    "        tickfont_size=12,\n",
    "        tickmode='array',\n",
    "        tickvals=df['composer_name'],  # Y-axis positions\n",
    "        ticktext=enumerated_labels,  # Y-axis labels with enumeration\n",
    "        tickfont=dict(family='DejaVu Sans',color='black')\n",
    "    ),\n",
    "    xaxis=dict(\n",
    "        title_font_size=20,\n",
    "        tickfont_size=12,\n",
    "        tickvals=list(custom_x_ticks.keys()),\n",
    "        ticktext=list(custom_x_ticks.values()),\n",
    "        tickformat='.0%',\n",
    "        range=[-1, 1],\n",
    "        title=None,  # Remove x-axis title\n",
    "        tickfont=dict(family='DejaVu Sans',color='black')\n",
    "    ),\n",
    "    margin=dict(l=200, r=20, t=100, b=50)  # Adjust margins to fit labels and avoid extra space\n",
    ")\n",
    "\n",
    "# Add annotations for positive and negative x-axis titles\n",
    "fig.add_annotation(\n",
    "    xref=\"paper\", yref=\"paper\",\n",
    "    x=0.1, y=-0.035,  # Adjust x for positioning near the x-axis\n",
    "    text=\"Avg. Probabilities for Male\",\n",
    "    showarrow=False,\n",
    "    font=dict(size=12, family='DejaVu Sans', color='black'),\n",
    "    align=\"center\"\n",
    ")\n",
    "\n",
    "fig.add_annotation(\n",
    "    xref=\"paper\", yref=\"paper\",\n",
    "    x=0.9, y=-0.035,  # Adjust x for positioning near the x-axis\n",
    "    text=\"Avg. Probabilities for Female\",\n",
    "    showarrow=False,\n",
    "    font=dict(size=12, family='DejaVu Sans', color='black'),\n",
    "    align=\"center\"\n",
    ")\n",
    "\n",
    "# Define conditions\n",
    "conditions = [\n",
    "    (df['positive'] == -df['negative']),   # Condition 1: 50-50%\n",
    "    (df['positive'] > -df['negative']),    # Condition 2: Positive is greater\n",
    "    (df['positive'] < -df['negative'])     # Condition 3: Negative is greater\n",
    "]\n",
    "\n",
    "# Define choices for each condition\n",
    "choices = ['50-50%', 'Predicted Female', 'Predicted Male']\n",
    "\n",
    "# Create the new column based on conditions\n",
    "df['category'] = np.select(conditions, choices, default='Other')\n",
    "\n",
    "count_by_category = df.groupby(by=['category', 'composer_gender']).size().reset_index(name='count')\n",
    "\n",
    "# Define the positions and text for the annotations with titles on top\n",
    "annotations = [\n",
    "    dict(\n",
    "        xref=\"paper\", yref=\"paper\",\n",
    "        x=0, y=0.999,\n",
    "        text=f\"{utils.to_bold('Predicted Female')}<br><span style='color:blue'>■</span> Male: {count_by_category[(count_by_category['category']=='Predicted Female') & (count_by_category['composer_gender']=='Male')]['count'].values[0]}<br><span style='color:red'>■</span> Female: {count_by_category[(count_by_category['category']=='Predicted Female') & (count_by_category['composer_gender']=='Female')]['count'].values[0]}\",\n",
    "        showarrow=False,\n",
    "        font=dict(size=12, family='DejaVu Sans', color='black'),\n",
    "        align=\"left\"\n",
    "    ),\n",
    "    dict(\n",
    "        xref=\"paper\", yref=\"paper\",\n",
    "        x=0, y=0.38,\n",
    "        text=f\"{utils.to_bold('Predicted Male')}<br><span style='color:blue'>■</span> Male: {count_by_category[(count_by_category['category']=='Predicted Male') & (count_by_category['composer_gender']=='Male')]['count'].values[0]}<br><span style='color:red'>■</span> Female: {count_by_category[(count_by_category['category']=='Predicted Male') & (count_by_category['composer_gender']=='Female')]['count'].values[0]}\",\n",
    "        showarrow=False,\n",
    "        font=dict(size=12, family='DejaVu Sans', color='black'),\n",
    "        align=\"left\"\n",
    "    )\n",
    "]\n",
    "\n",
    "# Add the annotations to the figure\n",
    "for annotation in annotations:\n",
    "    fig.add_annotation(annotation)\n",
    "\n",
    "# Add a legend-like annotation below the plot\n",
    "fig.add_annotation(\n",
    "    xref=\"paper\", yref=\"paper\",\n",
    "    x=0.7, y=1.025,  # Position the legend below the plot\n",
    "    text=\"True Composer Gender  </b> <span style='color:blue'>■</span> Male <span style='color:red'>■</span> Female\",\n",
    "    showarrow=False,\n",
    "    font=dict(size=12, family='DejaVu Sans', color='black'),\n",
    "    align=\"center\",\n",
    "    xanchor='center'\n",
    ")\n",
    "\n",
    "# Show the figure\n",
    "fig.show()\n"
   ]
  },
  {
   "cell_type": "code",
   "execution_count": 17,
   "metadata": {},
   "outputs": [],
   "source": [
    "average_probabilities=df"
   ]
  },
  {
   "cell_type": "code",
   "execution_count": 22,
   "metadata": {},
   "outputs": [],
   "source": [
    "temp_2=average_probabilities[['composer_name','male_proba','female_proba','category']]"
   ]
  },
  {
   "cell_type": "code",
   "execution_count": 25,
   "metadata": {},
   "outputs": [],
   "source": [
    "temp_1=majority_vote_df[['composer_name','composer_gender','female_proportion','male_proportion','total_predictions']]"
   ]
  },
  {
   "cell_type": "code",
   "execution_count": 27,
   "metadata": {},
   "outputs": [],
   "source": [
    "full_df=temp_1.merge(temp_2,on='composer_name',how='left')"
   ]
  },
  {
   "cell_type": "code",
   "execution_count": 29,
   "metadata": {},
   "outputs": [
    {
     "data": {
      "text/plain": [
       "Index(['composer_name', 'composer_gender', 'female_proportion',\n",
       "       'male_proportion', 'total_predictions', 'male_proba', 'female_proba',\n",
       "       'category'],\n",
       "      dtype='object')"
      ]
     },
     "execution_count": 29,
     "metadata": {},
     "output_type": "execute_result"
    }
   ],
   "source": [
    "full_df.columns"
   ]
  },
  {
   "cell_type": "code",
   "execution_count": 31,
   "metadata": {},
   "outputs": [],
   "source": [
    "full_df=full_df.rename(columns={'composer_gender':'true_composer_gender',\n",
    "                        'female_proportion':'%_scores_predicted_female',\n",
    "                        'male_proportion':'%_scores_predicted_male',\n",
    "                        'male_proba':'average_male_proba',\n",
    "                        'female_proba':'average_female_proba',\n",
    "                        'category':'avg_probabilities_label'\n",
    "                })"
   ]
  },
  {
   "cell_type": "code",
   "execution_count": 33,
   "metadata": {},
   "outputs": [],
   "source": [
    "full_df['%_scores_predicted_male']=full_df['%_scores_predicted_male'].apply(lambda x: -x)"
   ]
  },
  {
   "cell_type": "code",
   "execution_count": 35,
   "metadata": {},
   "outputs": [],
   "source": [
    "full_df['majority_vote_label']=np.where(full_df['%_scores_predicted_male']>full_df['%_scores_predicted_female'],'Predicted Male','Predicted Female')"
   ]
  },
  {
   "cell_type": "code",
   "execution_count": 39,
   "metadata": {},
   "outputs": [],
   "source": [
    "full_df=full_df[['composer_name', 'true_composer_gender','total_predictions', '%_scores_predicted_female',\n",
    "       '%_scores_predicted_male', 'majority_vote_label', 'average_male_proba',\n",
    "       'average_female_proba', 'avg_probabilities_label']]"
   ]
  },
  {
   "cell_type": "code",
   "execution_count": null,
   "metadata": {},
   "outputs": [],
   "source": [
    "full_df=full_df[['composer_name', 'true_composer_gender','total_predictions', '%_scores_predicted_female',\n",
    "       '%_scores_predicted_male', 'majority_vote_label', 'average_male_proba',\n",
    "       'average_female_proba', 'avg_probabilities_label']]"
   ]
  },
  {
   "cell_type": "code",
   "execution_count": 51,
   "metadata": {},
   "outputs": [],
   "source": [
    "majority_vote_sorted=full_df.sort_values(by='%_scores_predicted_female',ascending=False).reset_index(drop=True)\n",
    "\n",
    "majority_vote_rank=pd.DataFrame(data=\n",
    "             {'composer_name':majority_vote_sorted['composer_name'],\n",
    "              'female_rank_majority_vote':majority_vote_sorted.index})\n"
   ]
  },
  {
   "cell_type": "code",
   "execution_count": 55,
   "metadata": {},
   "outputs": [],
   "source": [
    "avg_proba_sorted=full_df.sort_values(by='average_female_proba',ascending=False).reset_index(drop=True)\n",
    "\n",
    "avg_proba_rank=pd.DataFrame(data=\n",
    "             {'composer_name':avg_proba_sorted['composer_name'],\n",
    "              'female_rank_avg_proba':avg_proba_sorted.index})"
   ]
  },
  {
   "cell_type": "code",
   "execution_count": 56,
   "metadata": {},
   "outputs": [],
   "source": [
    "full_df=full_df.merge(majority_vote_rank,on='composer_name',how='left')\n",
    "full_df=full_df.merge(avg_proba_rank,on='composer_name',how='left')"
   ]
  },
  {
   "cell_type": "code",
   "execution_count": 61,
   "metadata": {},
   "outputs": [],
   "source": [
    "full_df=full_df[['composer_name', 'true_composer_gender', 'total_predictions','female_rank_majority_vote',\n",
    "       'female_rank_avg_proba',\n",
    "       '%_scores_predicted_female', '%_scores_predicted_male',\n",
    "       'majority_vote_label', 'average_male_proba', 'average_female_proba',\n",
    "       'avg_probabilities_label']].sort_values(by=['female_rank_majority_vote',\n",
    "       'female_rank_avg_proba'])"
   ]
  },
  {
   "cell_type": "code",
   "execution_count": 62,
   "metadata": {},
   "outputs": [],
   "source": [
    "full_df.to_csv('dataframes/composer_level_results.csv',index=False)"
   ]
  },
  {
   "cell_type": "code",
   "execution_count": 7,
   "metadata": {},
   "outputs": [],
   "source": [
    "# Save the plot as an SVG file\n",
    "fig.write_image(\"average_probabilities.pdf\")"
   ]
  },
  {
   "cell_type": "code",
   "execution_count": null,
   "metadata": {},
   "outputs": [],
   "source": []
  }
 ],
 "metadata": {
  "kernelspec": {
   "display_name": "symbolic_music_conda",
   "language": "python",
   "name": "python3"
  },
  "language_info": {
   "codemirror_mode": {
    "name": "ipython",
    "version": 3
   },
   "file_extension": ".py",
   "mimetype": "text/x-python",
   "name": "python",
   "nbconvert_exporter": "python",
   "pygments_lexer": "ipython3",
   "version": "3.12.3"
  }
 },
 "nbformat": 4,
 "nbformat_minor": 2
}
