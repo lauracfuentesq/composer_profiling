{
 "cells": [
  {
   "cell_type": "code",
   "execution_count": 9,
   "id": "da995ba8-14b1-40d6-ba26-5175e2ce5c8e",
   "metadata": {},
   "outputs": [],
   "source": [
    "import torch\n",
    "from torch.utils.data import DataLoader\n",
    "from miditok import REMI\n",
    "from miditok.pytorch_data import DatasetMIDI, DataCollator\n",
    "from pathlib import Path\n",
    "import json\n",
    "import pandas as pd\n",
    "import numpy as np\n",
    "import random"
   ]
  },
  {
   "cell_type": "code",
   "execution_count": 10,
   "id": "ae38028f-fad3-451e-a3da-bafc259fe8f7",
   "metadata": {},
   "outputs": [],
   "source": [
    "import features_vectors as utils"
   ]
  },
  {
   "cell_type": "code",
   "execution_count": 15,
   "id": "be667427-9b7b-411a-b151-b146cf91d5a2",
   "metadata": {},
   "outputs": [
    {
     "data": {
      "text/plain": [
       "<module 'features_vectors' from '/mnt/nfs_share_magnet1/lafuente/symbolic_music/author-profiling/experiments/e9/features_vectors.py'>"
      ]
     },
     "execution_count": 15,
     "metadata": {},
     "output_type": "execute_result"
    }
   ],
   "source": [
    "import importlib\n",
    "importlib.reload(utils)"
   ]
  },
  {
   "cell_type": "code",
   "execution_count": 16,
   "id": "ae5e4130-7212-4cb3-ad7f-a30ccb51fd91",
   "metadata": {},
   "outputs": [],
   "source": [
    "train_data=pd.read_csv('../../train data/train_set_3.csv')\n",
    "validation_data=pd.read_csv('../../train data/validation_set_3.csv')\n",
    "test_data=pd.read_csv('../../train data/test_set_3.csv')"
   ]
  },
  {
   "cell_type": "markdown",
   "id": "96f860c2-b3d5-40cb-813e-f6b0f6d4c621",
   "metadata": {},
   "source": [
    "## 1. Get features vector"
   ]
  },
  {
   "cell_type": "markdown",
   "id": "71328b20-ffd4-4674-9990-f07257893fc5",
   "metadata": {},
   "source": [
    "### 1.1 Create dataloader"
   ]
  },
  {
   "cell_type": "code",
   "execution_count": 17,
   "id": "5551ec47-e625-475f-863f-f0f03e0976ac",
   "metadata": {},
   "outputs": [
    {
     "name": "stderr",
     "output_type": "stream",
     "text": [
      "/mnt/nfs_share_magnet1/lafuente/miniconda3/envs/symbolic_music/lib/python3.12/site-packages/miditok/midi_tokenizer.py:3252: UserWarning: The special token PAD_None is present twice in your configuration. Skipping its duplicated occurrence.\n",
      "  self.config = TokenizerConfig()\n",
      "/mnt/nfs_share_magnet1/lafuente/miniconda3/envs/symbolic_music/lib/python3.12/site-packages/miditok/classes.py:702: UserWarning: The special token PAD_None is present twice in your configuration. Skipping its duplicated occurrence.\n",
      "  return cls(**input_dict, **kwargs)\n",
      "/mnt/nfs_share_magnet1/lafuente/miniconda3/envs/symbolic_music/lib/python3.12/site-packages/miditok/classes.py:702: UserWarning: Argument nb_tempos has been renamed num_tempos, you should consider to updateyour code with this new argument name.\n",
      "  return cls(**input_dict, **kwargs)\n"
     ]
    }
   ],
   "source": [
    "val_dataloader=utils.create_data_loader(validation_data)\n",
    "train_dataloader=utils.create_data_loader(train_data)\n",
    "test_dataloader=utils.create_data_loader(test_data)"
   ]
  },
  {
   "cell_type": "markdown",
   "id": "e6558569-e2d8-4c16-9702-854227399bd5",
   "metadata": {},
   "source": [
    "### 1.2 Get feature vectors from pre-trained model"
   ]
  },
  {
   "cell_type": "code",
   "execution_count": 19,
   "id": "5b266e69-1c68-4851-a33c-3652656db10f",
   "metadata": {},
   "outputs": [
    {
     "name": "stdout",
     "output_type": "stream",
     "text": [
      "\n"
     ]
    },
    {
     "name": "stderr",
     "output_type": "stream",
     "text": [
      "computing feature tensors: 100%|██████████████| 232/232 [13:29<00:00,  3.49s/it]\n"
     ]
    }
   ],
   "source": [
    "train_feature_vectors=utils.get_feature_vectors(dataloader=train_dataloader,\n",
    "                                                dataframe=train_data,\n",
    "                                                set_type='train', \n",
    "                                                feature_tensors=False)"
   ]
  },
  {
   "cell_type": "code",
   "execution_count": 20,
   "id": "08c6414a-63a6-46de-b21c-f989177caea8",
   "metadata": {},
   "outputs": [
    {
     "name": "stdout",
     "output_type": "stream",
     "text": [
      "\n"
     ]
    },
    {
     "name": "stderr",
     "output_type": "stream",
     "text": [
      "computing feature tensors: 100%|████████████████| 62/62 [03:17<00:00,  3.19s/it]\n"
     ]
    }
   ],
   "source": [
    "val_feature_vectors=utils.get_feature_vectors(dataloader=val_dataloader,\n",
    "                                                dataframe=validation_data,\n",
    "                                                set_type='val', \n",
    "                                                feature_tensors=False)"
   ]
  },
  {
   "cell_type": "markdown",
   "id": "dc3183b6-2b68-4ecf-a5da-206059acb9f1",
   "metadata": {},
   "source": [
    "## 2. Train MLP"
   ]
  },
  {
   "cell_type": "code",
   "execution_count": 21,
   "id": "d6b17966-7fcc-4286-90e8-3c89edc28f6e",
   "metadata": {},
   "outputs": [],
   "source": [
    "from torch.utils.data import Dataset,DataLoader\n",
    "\n",
    "seed = 42\n",
    "if seed is not None:\n",
    "    torch.manual_seed(seed)\n",
    "    torch.cuda.manual_seed(seed)\n",
    "    torch.cuda.manual_seed_all(seed)\n",
    "    random.seed(seed)\n",
    "    np.random.seed(seed)\n",
    "    torch.backends.cudnn.deterministic = True\n",
    "    torch.backends.cudnn.benchmark = False\n",
    "    \n",
    "class DatasetMLP(Dataset):\n",
    "\n",
    "    def __init__(self,data):\n",
    "        self.data=data\n",
    "\n",
    "    def __len__(self):\n",
    "        return self.data.shape[0]\n",
    "\n",
    "    def __getitem__(self,ind):\n",
    "        x=self.data[ind][:-1]\n",
    "        y=self.data[ind][-1]\n",
    "\n",
    "        return x,y\n",
    "\n",
    "class TestDataset(DatasetMLP):\n",
    "    def __getitem__(self,ind):\n",
    "        x=self.data[ind]\n",
    "        return x\n",
    "\n",
    "train_set_mlp=DatasetMLP(np.array(train_feature_vectors))\n",
    "val_set_mlp=DatasetMLP(np.array(val_feature_vectors))\n",
    "\n",
    "batch_size=20\n",
    "\n",
    "train_dataloder_mlp=DataLoader(train_set_mlp,\n",
    "                               batch_size=batch_size,\n",
    "                               shuffle=True)  \n",
    "\n",
    "val_dataloder_mlp=DataLoader(val_set_mlp,\n",
    "                               batch_size=batch_size,\n",
    "                               shuffle=False)  "
   ]
  },
  {
   "cell_type": "code",
   "execution_count": 22,
   "id": "f903230b-95f2-4447-965e-cb79293f2abc",
   "metadata": {},
   "outputs": [],
   "source": [
    "import torch\n",
    "import torch.nn as nn\n",
    "\n",
    "device = torch.device('cuda' if torch.cuda.is_available() else 'cpu')\n",
    "\n",
    "#class MLP(nn.Module):\n",
    "#    def __init__(self, input_dim):\n",
    "#        super(MLP, self).__init__()\n",
    "#        self.linear = nn.Linear(input_dim, 2)  # Output 2 classes\n",
    "    \n",
    "#    def forward(self, x):\n",
    "#        out = self.linear(x)\n",
    "#        return out\n",
    "\n",
    "class MLP(nn.Module):\n",
    "    def __init__(self, input_dim, hidden_dim1=128, hidden_dim2=64, hidden_dim3=32, output_dim=2):\n",
    "        super(MLP, self).__init__()\n",
    "        self.fc1 = nn.Linear(input_dim, hidden_dim1)\n",
    "        self.fc2 = nn.Linear(hidden_dim1, hidden_dim2)\n",
    "        self.fc3 = nn.Linear(hidden_dim2, hidden_dim3)\n",
    "        self.fc4 = nn.Linear(hidden_dim3, output_dim)\n",
    "        self.relu = nn.ReLU()\n",
    "    \n",
    "    def forward(self, x):\n",
    "        x = self.relu(self.fc1(x))\n",
    "        x = self.relu(self.fc2(x))\n",
    "        x = self.relu(self.fc3(x))\n",
    "        out = self.fc4(x)\n",
    "        return out\n",
    "\n",
    "from sklearn.metrics import balanced_accuracy_score\n",
    "\n",
    "def evaluate(model, dataloader, criterion):\n",
    "    model.eval()  # Set model to evaluation mode\n",
    "    predictions = []\n",
    "    true_labels = []\n",
    "    losses = []\n",
    "\n",
    "    with torch.no_grad():\n",
    "        for input_data in dataloader:\n",
    "            x, y = input_data\n",
    "            x = x.to(device).float()\n",
    "            y = y.to(device).long()\n",
    "\n",
    "            output = model(x)\n",
    "            _, predicted = torch.max(output, 1)\n",
    "\n",
    "            batch_predictions = predicted.cpu().detach().numpy().tolist()\n",
    "            batch_true_labels = y.cpu().detach().numpy().tolist()\n",
    "\n",
    "            predictions.extend(batch_predictions)\n",
    "            true_labels.extend(batch_true_labels)\n",
    "\n",
    "            # Compute loss\n",
    "            loss = criterion(output, y)\n",
    "            losses.append(loss.item())\n",
    "\n",
    "    # Compute average validation loss\n",
    "    avg_loss = sum(losses) / len(losses)\n",
    "\n",
    "    # Compute balanced accuracy\n",
    "    predictions = np.array(predictions)\n",
    "    true_labels = np.array(true_labels)\n",
    "    balanced_accuracy = balanced_accuracy_score(true_labels, predictions)\n",
    "\n",
    "    return balanced_accuracy, avg_loss, predictions, true_labels\n"
   ]
  },
  {
   "cell_type": "code",
   "execution_count": 24,
   "id": "cbd740b5-936f-4b6f-b460-a46617d914f1",
   "metadata": {
    "scrolled": true
   },
   "outputs": [
    {
     "name": "stdout",
     "output_type": "stream",
     "text": [
      "MLP(\n",
      "  (fc1): Linear(in_features=523776, out_features=128, bias=True)\n",
      "  (fc2): Linear(in_features=128, out_features=64, bias=True)\n",
      "  (fc3): Linear(in_features=64, out_features=32, bias=True)\n",
      "  (fc4): Linear(in_features=32, out_features=2, bias=True)\n",
      "  (relu): ReLU()\n",
      ")\n",
      "Epoch 0 | Train Loss   3.00| Train Balanced Accuracy   0.54\n",
      "Epoch 0 | Validation Loss   1.15| Validation Balanced Accuracy:   0.50\n",
      "Epoch 1 | Train Loss   0.68| Train Balanced Accuracy   0.75\n",
      "Epoch 1 | Validation Loss   1.05| Validation Balanced Accuracy:   0.53\n",
      "Epoch 2 | Train Loss   0.27| Train Balanced Accuracy   0.89\n",
      "Epoch 2 | Validation Loss   1.06| Validation Balanced Accuracy:   0.56\n",
      "Epoch 3 | Train Loss   0.11| Train Balanced Accuracy   0.97\n",
      "Epoch 3 | Validation Loss   1.18| Validation Balanced Accuracy:   0.56\n",
      "Epoch 4 | Train Loss   0.06| Train Balanced Accuracy   0.99\n",
      "Epoch 4 | Validation Loss   1.32| Validation Balanced Accuracy:   0.54\n",
      "Epoch 5 | Train Loss   0.05| Train Balanced Accuracy   0.99\n",
      "Epoch 5 | Validation Loss   1.27| Validation Balanced Accuracy:   0.56\n",
      "Epoch 6 | Train Loss   0.04| Train Balanced Accuracy   0.99\n",
      "Epoch 6 | Validation Loss   1.25| Validation Balanced Accuracy:   0.58\n",
      "Epoch 7 | Train Loss   0.04| Train Balanced Accuracy   1.00\n",
      "Epoch 7 | Validation Loss   1.26| Validation Balanced Accuracy:   0.58\n",
      "Epoch 8 | Train Loss   0.04| Train Balanced Accuracy   1.00\n",
      "Epoch 8 | Validation Loss   1.26| Validation Balanced Accuracy:   0.57\n",
      "Epoch 9 | Train Loss   0.03| Train Balanced Accuracy   1.00\n",
      "Epoch 9 | Validation Loss   1.27| Validation Balanced Accuracy:   0.57\n",
      "Predictions: [1 1 0 ... 0 1 0]\n",
      "True Labels: [1 0 0 ... 0 1 0]\n"
     ]
    }
   ],
   "source": [
    "from sklearn.metrics import balanced_accuracy_score\n",
    "import torch.optim.lr_scheduler as lr_scheduler\n",
    "\n",
    "\n",
    "\n",
    "seed = 42\n",
    "if seed is not None:\n",
    "    torch.manual_seed(seed)\n",
    "    torch.cuda.manual_seed(seed)\n",
    "    torch.cuda.manual_seed_all(seed)\n",
    "    random.seed(seed)\n",
    "    np.random.seed(seed)\n",
    "    torch.backends.cudnn.deterministic = True\n",
    "    torch.backends.cudnn.benchmark = False\n",
    "    \n",
    "input_dim = 523776\n",
    "model = MLP(input_dim).to(device)\n",
    "\n",
    "initial_lr = 0.001\n",
    "optimizer = torch.optim.Adam(model.parameters())\n",
    "criterion = nn.CrossEntropyLoss()\n",
    "# Assuming optimizer is already defined\n",
    "scheduler = lr_scheduler.StepLR(optimizer, step_size=3, gamma=0.1)\n",
    "\n",
    "print(model)\n",
    "\n",
    "epochs = 10\n",
    "\n",
    "model.train()\n",
    "train_avg_loss_list=[]\n",
    "val_avg_loss_list=[]\n",
    "train_balanced_accuracy_list=[]\n",
    "val_balanced_accuracy_list=[]\n",
    "\n",
    "for epoch in range(epochs):\n",
    "    losses = []\n",
    "    predictions = []\n",
    "    true_labels = []\n",
    "    for batch_num, input_data in enumerate(train_dataloder_mlp):\n",
    "        optimizer.zero_grad()\n",
    "        x, y = input_data\n",
    "        x = x.to(device).float()\n",
    "        y = y.to(device).long()  # Ensure y is of type long for CrossEntropyLoss\n",
    "\n",
    "        output = model(x)\n",
    "        loss = criterion(output, y)\n",
    "        loss.backward()\n",
    "        losses.append(loss.item())\n",
    "\n",
    "        optimizer.step()\n",
    "\n",
    "        # Convert predictions to class labels (0 or 1)\n",
    "        _, predicted = torch.max(output, 1)\n",
    "        batch_predictions = predicted.cpu().detach().numpy().tolist()\n",
    "        batch_true_labels = y.cpu().detach().numpy().tolist()\n",
    "\n",
    "        predictions.extend(batch_predictions)\n",
    "        true_labels.extend(batch_true_labels)\n",
    "\n",
    "        #if batch_num % 40 == 0:\n",
    "        #    print('\\tEpoch %d | Batch %d | Loss %6.2f' % (epoch, batch_num, loss.item()))\n",
    "    # Step the scheduler\n",
    "    scheduler.step()\n",
    "    \n",
    "    train_balanced_accuracy = balanced_accuracy_score(true_labels, predictions)\n",
    "    train_avg_loss=sum(losses)/len(losses) \n",
    "    print('Epoch %d | Train Loss %6.2f| Train Balanced Accuracy %6.2f' % (epoch, train_avg_loss ,train_balanced_accuracy))\n",
    "    \n",
    "    val_balanced_accuracy, val_avg_loss, val_predictions, val_true_labels = evaluate(model, val_dataloder_mlp,criterion)\n",
    "    print('Epoch %d | Validation Loss %6.2f| Validation Balanced Accuracy: %6.2f' % (epoch, val_avg_loss, val_balanced_accuracy))\n",
    "\n",
    "    train_avg_loss_list.append(train_avg_loss)\n",
    "    val_avg_loss_list.append(val_avg_loss)\n",
    "    \n",
    "    train_balanced_accuracy_list.append(train_balanced_accuracy)\n",
    "    val_balanced_accuracy_list.append(val_balanced_accuracy)\n",
    "\n",
    "\n",
    "# Convert predictions and true labels to numpy arrays\n",
    "predictions = np.array(predictions)\n",
    "true_labels = np.array(true_labels)"
   ]
  },
  {
   "cell_type": "code",
   "execution_count": 25,
   "id": "712671ff-5c00-4517-a0fb-10d188343430",
   "metadata": {
    "scrolled": true
   },
   "outputs": [
    {
     "data": {
      "text/plain": [
       "0.9955593269126978"
      ]
     },
     "execution_count": 25,
     "metadata": {},
     "output_type": "execute_result"
    }
   ],
   "source": [
    "balanced_accuracy_score(y_true=true_labels,y_pred=predictions)"
   ]
  },
  {
   "cell_type": "code",
   "execution_count": 26,
   "id": "b8c4fab1-d668-4bda-8ff5-7e94320e7232",
   "metadata": {},
   "outputs": [
    {
     "ename": "NameError",
     "evalue": "name 'train_avg_loss_list' is not defined",
     "output_type": "error",
     "traceback": [
      "\u001b[0;31m---------------------------------------------------------------------------\u001b[0m",
      "\u001b[0;31mNameError\u001b[0m                                 Traceback (most recent call last)",
      "Cell \u001b[0;32mIn[26], line 1\u001b[0m\n\u001b[0;32m----> 1\u001b[0m metrics_df\u001b[38;5;241m=\u001b[39mpd\u001b[38;5;241m.\u001b[39mDataFrame(data\u001b[38;5;241m=\u001b[39m{\u001b[38;5;124m'\u001b[39m\u001b[38;5;124mtrain_avg_loss\u001b[39m\u001b[38;5;124m'\u001b[39m:train_avg_loss_list,\n\u001b[1;32m      2\u001b[0m                             \u001b[38;5;124m'\u001b[39m\u001b[38;5;124mtrain_balanced_accuracy\u001b[39m\u001b[38;5;124m'\u001b[39m:train_balanced_accuracy_list,\n\u001b[1;32m      3\u001b[0m                             \u001b[38;5;124m'\u001b[39m\u001b[38;5;124mval_avg_loss\u001b[39m\u001b[38;5;124m'\u001b[39m:val_avg_loss_list,\n\u001b[1;32m      4\u001b[0m                             \u001b[38;5;124m'\u001b[39m\u001b[38;5;124mval_balanced_accuracy\u001b[39m\u001b[38;5;124m'\u001b[39m:val_balanced_accuracy_list})\n\u001b[1;32m      5\u001b[0m metrics_df\u001b[38;5;241m.\u001b[39mto_csv(\u001b[38;5;124m'\u001b[39m\u001b[38;5;124mmetrics_df_e9.csv\u001b[39m\u001b[38;5;124m'\u001b[39m,index\u001b[38;5;241m=\u001b[39m\u001b[38;5;28;01mFalse\u001b[39;00m)\n",
      "\u001b[0;31mNameError\u001b[0m: name 'train_avg_loss_list' is not defined"
     ]
    }
   ],
   "source": [
    "metrics_df=pd.DataFrame(data={'train_avg_loss':train_avg_loss_list,\n",
    "                            'train_balanced_accuracy':train_balanced_accuracy_list,\n",
    "                            'val_avg_loss':val_avg_loss_list,\n",
    "                            'val_balanced_accuracy':val_balanced_accuracy_list})\n",
    "metrics_df.to_csv('metrics_df_e9.csv',index=False)"
   ]
  },
  {
   "cell_type": "code",
   "execution_count": 13,
   "id": "2064c851-e345-4857-a66b-19c78c92893c",
   "metadata": {},
   "outputs": [
    {
     "name": "stdout",
     "output_type": "stream",
     "text": [
      "\n"
     ]
    }
   ],
   "source": [
    "test_feature_vectors=utils.get_feature_vectors(dataloader=test_dataloader,\n",
    "                                                dataframe=test_data,\n",
    "                                                set_type='test', \n",
    "                                                feature_tensors=True)\n",
    "\n",
    "test_set_mlp=DatasetMLP(np.array(test_feature_vectors))\n",
    "\n",
    "test_dataloder_mlp=DataLoader(test_set_mlp,\n",
    "                               batch_size=batch_size,\n",
    "                               shuffle=False)  "
   ]
  },
  {
   "cell_type": "code",
   "execution_count": 14,
   "id": "2ee67db7-27a0-4d17-a3fc-b395f31bdacb",
   "metadata": {},
   "outputs": [],
   "source": [
    "test_balanced_accuracy, loss, test_predictions, test_true_labels = evaluate(model, test_dataloder_mlp, criterion)"
   ]
  },
  {
   "cell_type": "code",
   "execution_count": 15,
   "id": "a9940711-b273-4b5b-aa45-e3bb106c33fe",
   "metadata": {},
   "outputs": [
    {
     "data": {
      "text/plain": [
       "0.557265672550213"
      ]
     },
     "execution_count": 15,
     "metadata": {},
     "output_type": "execute_result"
    }
   ],
   "source": [
    "test_balanced_accuracy"
   ]
  },
  {
   "cell_type": "code",
   "execution_count": 49,
   "id": "ae2c0c37-f039-4b7a-8737-801a765205fe",
   "metadata": {},
   "outputs": [
    {
     "data": {
      "text/plain": [
       "MLP(\n",
       "  (linear): Linear(in_features=523776, out_features=2, bias=True)\n",
       ")"
      ]
     },
     "execution_count": 49,
     "metadata": {},
     "output_type": "execute_result"
    }
   ],
   "source": [
    "model"
   ]
  },
  {
   "cell_type": "code",
   "execution_count": 51,
   "id": "75822dbf-7bfa-4278-868f-ed294eaa162a",
   "metadata": {},
   "outputs": [],
   "source": [
    "torch.save({\n",
    "            'epoch': epoch,\n",
    "            'model_state_dict': model.state_dict(),\n",
    "            'optimizer_state_dict': optimizer.state_dict(),\n",
    "            'scheduler_state_dict': scheduler.state_dict(),\n",
    "            'best_balanced_accuracy': train_balanced_accuracy\n",
    "        }, 'best_model.pth')"
   ]
  },
  {
   "cell_type": "code",
   "execution_count": 58,
   "id": "69e6b00a-682d-4f66-bf37-2309087befc7",
   "metadata": {},
   "outputs": [],
   "source": [
    "checkpoint = torch.load('best_model.pth')\n",
    "model.load_state_dict(checkpoint['model_state_dict'])\n",
    "optimizer.load_state_dict(checkpoint['optimizer_state_dict'])\n",
    "scheduler.load_state_dict(checkpoint['scheduler_state_dict'])\n",
    "best_balanced_accuracy = checkpoint['best_balanced_accuracy']\n"
   ]
  },
  {
   "cell_type": "code",
   "execution_count": 56,
   "id": "984bbeb7-72fc-4020-9fbe-415c7c93f7b0",
   "metadata": {},
   "outputs": [],
   "source": [
    "predictions_df_test_e10=pd.DataFrame(data={'labels':true_labels,'predictions':predictions})"
   ]
  },
  {
   "cell_type": "code",
   "execution_count": 57,
   "id": "6fec33a7-4709-42fa-b7ac-819eced12b47",
   "metadata": {},
   "outputs": [],
   "source": [
    "predictions_df_test_e10.to_csv('predictions_df_test_e10.csv')"
   ]
  },
  {
   "cell_type": "code",
   "execution_count": 63,
   "id": "2e86633c-b05d-4006-ac94-d05c9db87da2",
   "metadata": {},
   "outputs": [],
   "source": [
    "predictions_df_val_e10=pd.DataFrame(data={'labels':val_true_labels,'predictions':val_predictions})\n",
    "predictions_df_val_e10.to_csv('predictions_df_val_e10.csv')"
   ]
  },
  {
   "cell_type": "code",
   "execution_count": null,
   "id": "2161ca70-cc5b-42ca-8ee1-ccaabb858f97",
   "metadata": {},
   "outputs": [],
   "source": []
  }
 ],
 "metadata": {
  "kernelspec": {
   "display_name": "symbolic_music",
   "language": "python",
   "name": "symbolic_music"
  },
  "language_info": {
   "codemirror_mode": {
    "name": "ipython",
    "version": 3
   },
   "file_extension": ".py",
   "mimetype": "text/x-python",
   "name": "python",
   "nbconvert_exporter": "python",
   "pygments_lexer": "ipython3",
   "version": "3.12.3"
  }
 },
 "nbformat": 4,
 "nbformat_minor": 5
}
