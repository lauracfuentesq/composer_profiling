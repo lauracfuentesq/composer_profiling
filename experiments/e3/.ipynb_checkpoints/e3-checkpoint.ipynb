{
 "cells": [
  {
   "cell_type": "code",
   "execution_count": 1,
   "metadata": {},
   "outputs": [],
   "source": [
    "import torch\n",
    "from torch.utils.data import DataLoader\n",
    "from miditok import REMI\n",
    "from miditok.pytorch_data import DatasetMIDI, DataCollator\n",
    "from pathlib import Path\n",
    "import json\n",
    "import pandas as pd\n",
    "import numpy as np\n",
    "import random"
   ]
  },
  {
   "cell_type": "code",
   "execution_count": 2,
   "metadata": {},
   "outputs": [],
   "source": [
    "train_data=pd.read_csv('../../dataframes/train_set_1.csv')\n",
    "validation_data=pd.read_csv('../../dataframes/validation_set_1.csv')\n",
    "test_set=pd.read_csv('../../dataframes/test_set_1.csv')"
   ]
  },
  {
   "cell_type": "markdown",
   "metadata": {},
   "source": [
    "### 1. Dataloader"
   ]
  },
  {
   "cell_type": "code",
   "execution_count": 3,
   "metadata": {},
   "outputs": [
    {
     "name": "stderr",
     "output_type": "stream",
     "text": [
      "/mnt/nfs_share_magnet1/lafuente/miniconda3/envs/symbolic_music/lib/python3.12/site-packages/miditok/midi_tokenizer.py:3252: UserWarning: The special token PAD_None is present twice in your configuration. Skipping its duplicated occurrence.\n",
      "  self.config = TokenizerConfig()\n",
      "/mnt/nfs_share_magnet1/lafuente/miniconda3/envs/symbolic_music/lib/python3.12/site-packages/miditok/classes.py:702: UserWarning: The special token PAD_None is present twice in your configuration. Skipping its duplicated occurrence.\n",
      "  return cls(**input_dict, **kwargs)\n",
      "/mnt/nfs_share_magnet1/lafuente/miniconda3/envs/symbolic_music/lib/python3.12/site-packages/miditok/classes.py:702: UserWarning: Argument nb_tempos has been renamed num_tempos, you should consider to updateyour code with this new argument name.\n",
      "  return cls(**input_dict, **kwargs)\n"
     ]
    }
   ],
   "source": [
    "torch.set_default_device(\"cuda\")\n",
    "\n",
    "# Define a custom DatasetMIDI subclass\n",
    "class CustomDatasetMIDI(DatasetMIDI):\n",
    "    def __init__(self, files_paths, labels, tokenizer, max_seq_len, bos_token_id, eos_token_id):\n",
    "        super().__init__(files_paths, tokenizer, max_seq_len, bos_token_id, eos_token_id)\n",
    "        self.labels = labels\n",
    "\n",
    "    def __getitem__(self, idx):\n",
    "        item = super().__getitem__(idx)\n",
    "        item[\"labels\"] = self.labels[idx]  # Add labels to the item dictionary\n",
    "        return item\n",
    "\n",
    "\n",
    "def create_data_loader(piano_scores_df):\n",
    "  \n",
    "  midi_paths = []\n",
    "  labels=[]\n",
    "  paths=piano_scores_df['piano_scores_paths']\n",
    "  paths=paths.apply(lambda x: x.replace('../author-profiling-in-symbolic-music/','../../'))\n",
    "\n",
    "  for i,score in enumerate(paths):\n",
    "\n",
    "      midi_paths.append(Path(score))\n",
    "\n",
    "      integer_label= 0 if piano_scores_df['composer_gender'][i] == 'Male' else 1\n",
    "\n",
    "      labels.append(torch.tensor(integer_label))  # Modify this line to extract the label\n",
    "\n",
    "  # Initialize the tokenizer\n",
    "  tokenizer = REMI.from_pretrained(\"Natooz/Maestro-REMI-bpe20k\")\n",
    "\n",
    "\n",
    "  # Initialize the dataset\n",
    "  dataset = CustomDatasetMIDI(\n",
    "      files_paths=midi_paths,\n",
    "      labels=labels,  # Pass the labels to the dataset\n",
    "      tokenizer=tokenizer,\n",
    "      max_seq_len=1024,\n",
    "      bos_token_id=tokenizer.pad_token_id,\n",
    "      eos_token_id=tokenizer[\"BOS_None\"]\n",
    "  )\n",
    "\n",
    "  # Initialize the collator\n",
    "  collator = DataCollator(tokenizer.pad_token_id)\n",
    "\n",
    "  data_loader = DataLoader(dataset=dataset, collate_fn=collator, batch_size=5)\n",
    "\n",
    "  return data_loader\n",
    "\n",
    "\n",
    "eval_dataloader=create_data_loader(validation_data)\n",
    "train_dataloader=create_data_loader(train_data)"
   ]
  },
  {
   "cell_type": "markdown",
   "metadata": {},
   "source": [
    "### 2. Trainning loop"
   ]
  },
  {
   "cell_type": "code",
   "execution_count": 4,
   "metadata": {},
   "outputs": [],
   "source": [
    "seed = 42\n",
    "if seed is not None:\n",
    "    torch.manual_seed(seed)\n",
    "    torch.cuda.manual_seed(seed)\n",
    "    torch.cuda.manual_seed_all(seed)\n",
    "    random.seed(seed)\n",
    "    np.random.seed(seed)\n",
    "    torch.backends.cudnn.deterministic = True\n",
    "    torch.backends.cudnn.benchmark = False"
   ]
  },
  {
   "cell_type": "code",
   "execution_count": 5,
   "metadata": {
    "scrolled": true
   },
   "outputs": [
    {
     "name": "stderr",
     "output_type": "stream",
     "text": [
      "Some weights of GPT2ForSequenceClassification were not initialized from the model checkpoint at Natooz/Maestro-REMI-bpe20k and are newly initialized: ['score.weight']\n",
      "You should probably TRAIN this model on a down-stream task to be able to use it for predictions and inference.\n",
      "/mnt/nfs_share_magnet1/lafuente/miniconda3/envs/symbolic_music/lib/python3.12/site-packages/transformers/optimization.py:588: FutureWarning: This implementation of AdamW is deprecated and will be removed in a future version. Use the PyTorch implementation torch.optim.AdamW instead, or set `no_deprecation_warning=True` to disable this warning\n",
      "  warnings.warn(\n"
     ]
    },
    {
     "data": {
      "application/vnd.jupyter.widget-view+json": {
       "model_id": "0feea94b21874f23bc6b818e4baf7c15",
       "version_major": 2,
       "version_minor": 0
      },
      "text/plain": [
       "  0%|          | 0/2320 [00:00<?, ?it/s]"
      ]
     },
     "metadata": {},
     "output_type": "display_data"
    },
    {
     "name": "stdout",
     "output_type": "stream",
     "text": [
      "Epoch 1 Average Training Loss: 1.0950603206553273, Average Training Accuracy: 0.6660899653979239\n",
      "Epoch 1 Validation Loss: 2.1441634052222773, Validation Accuracy: 0.33986928104575165\n",
      "Epoch 2 Average Training Loss: 0.7929899007692163, Average Training Accuracy: 0.6176470588235294\n",
      "Epoch 2 Validation Loss: 1.8450629870978095, Validation Accuracy: 0.33986928104575165\n",
      "Epoch 3 Average Training Loss: 0.7215374437289248, Average Training Accuracy: 0.6314878892733564\n",
      "Epoch 3 Validation Loss: 1.5709494634741736, Validation Accuracy: 0.33986928104575165\n",
      "Epoch 4 Average Training Loss: 0.6635277920306243, Average Training Accuracy: 0.6773356401384083\n",
      "Epoch 4 Validation Loss: 1.1916693614855889, Validation Accuracy: 0.38562091503267976\n",
      "Epoch 5 Average Training Loss: 0.5936080693620546, Average Training Accuracy: 0.7240484429065744\n",
      "Epoch 5 Validation Loss: 1.577148220321584, Validation Accuracy: 0.3366013071895425\n",
      "Epoch 6 Average Training Loss: 0.5336188146160065, Average Training Accuracy: 0.7378892733564014\n",
      "Epoch 6 Validation Loss: 1.7549304079204318, Validation Accuracy: 0.38235294117647056\n",
      "Epoch 7 Average Training Loss: 0.4380262375491619, Average Training Accuracy: 0.7993079584775087\n",
      "Epoch 7 Validation Loss: 1.516924885199255, Validation Accuracy: 0.45751633986928103\n",
      "Epoch 8 Average Training Loss: 0.2741160145673081, Average Training Accuracy: 0.8953287197231834\n",
      "Epoch 8 Validation Loss: 1.7750285429158998, Validation Accuracy: 0.49673202614379086\n",
      "Epoch 9 Average Training Loss: 0.22627688520789638, Average Training Accuracy: 0.9065743944636678\n",
      "Epoch 9 Validation Loss: 1.5036682726462343, Validation Accuracy: 0.4738562091503268\n",
      "Epoch 10 Average Training Loss: 0.2653252881911832, Average Training Accuracy: 0.8814878892733564\n",
      "Epoch 10 Validation Loss: 1.0083990230885964, Validation Accuracy: 0.5816993464052288\n"
     ]
    }
   ],
   "source": [
    "import pandas as pd\n",
    "from accelerate import Accelerator\n",
    "from transformers import AdamW, AutoModelForSequenceClassification, get_scheduler\n",
    "import torch\n",
    "from tqdm.auto import tqdm\n",
    "\n",
    "def evaluate(model, eval_dl, accelerator):\n",
    "    model.eval()\n",
    "    total_loss = 0\n",
    "    total_correct = 0\n",
    "    total_samples = 0\n",
    "    \n",
    "    for batch in eval_dl:\n",
    "        with torch.no_grad():\n",
    "            outputs = model(**batch)\n",
    "        loss = outputs.loss\n",
    "        total_loss += loss.item()\n",
    "        \n",
    "        predictions = torch.argmax(outputs.logits, dim=-1)\n",
    "        total_correct += (predictions == batch['labels']).sum().item()\n",
    "        total_samples += len(batch['labels'])\n",
    "    \n",
    "    avg_loss = total_loss / len(eval_dl)\n",
    "    accuracy = total_correct / total_samples\n",
    "    return avg_loss, accuracy\n",
    "\n",
    "# Initialize the accelerator\n",
    "accelerator = Accelerator()\n",
    "torch.cuda.empty_cache()\n",
    "\n",
    "# Load model\n",
    "model = AutoModelForSequenceClassification.from_pretrained(\n",
    "    \"Natooz/Maestro-REMI-bpe20k\",\n",
    "    trust_remote_code=True,\n",
    "    torch_dtype=\"auto\",\n",
    "    num_labels=2\n",
    ")\n",
    "model.config.pad_token_id = model.config.eos_token_id\n",
    "\n",
    "# Initialize optimizer\n",
    "optimizer = AdamW(model.parameters(), lr=3e-5)\n",
    "\n",
    "# Prepare the data and model\n",
    "train_dl, eval_dl, model, optimizer = accelerator.prepare(\n",
    "    train_dataloader, eval_dataloader, model, optimizer\n",
    ")\n",
    "\n",
    "# Set up the learning rate scheduler\n",
    "num_epochs = 10\n",
    "num_training_steps = num_epochs * len(train_dl)\n",
    "lr_scheduler = get_scheduler(\n",
    "    \"linear\",\n",
    "    optimizer=optimizer,\n",
    "    num_warmup_steps=0,\n",
    "    num_training_steps=num_training_steps\n",
    ")\n",
    "\n",
    "# Progress bar\n",
    "progress_bar = tqdm(range(num_training_steps))\n",
    "\n",
    "# Initialize lists to store metrics\n",
    "metrics = {\n",
    "    \"epoch\": [],\n",
    "    \"batch\": [],\n",
    "    \"train_loss\": [],\n",
    "    \"train_accuracy\": [],\n",
    "    \"val_loss\": [],\n",
    "    \"val_accuracy\": [],\n",
    "    \"total_train_loss\": [],  # New column for total training loss\n",
    "    \"total_train_accuracy\": []  # New column for total training accuracy\n",
    "}\n",
    "\n",
    "# Training loop\n",
    "model.train()\n",
    "batch_number = 0\n",
    "\n",
    "for epoch in range(num_epochs):\n",
    "    total_train_loss = 0\n",
    "    total_correct = 0\n",
    "    total_samples = 0\n",
    "    \n",
    "    for batch in train_dl:\n",
    "        outputs = model(**batch)\n",
    "        loss = outputs.loss\n",
    "        total_train_loss += loss.item()\n",
    "        \n",
    "        predictions = torch.argmax(outputs.logits, dim=-1)\n",
    "        total_correct += (predictions == batch['labels']).sum().item()\n",
    "        total_samples += len(batch['labels'])\n",
    "        \n",
    "        accelerator.backward(loss)\n",
    "\n",
    "        optimizer.step()\n",
    "        lr_scheduler.step()\n",
    "        optimizer.zero_grad()\n",
    "        progress_bar.update(1)\n",
    "        \n",
    "        # Calculate training accuracy\n",
    "        train_accuracy = total_correct / total_samples\n",
    "        \n",
    "        # Log batch metrics\n",
    "        metrics[\"epoch\"].append(epoch + 1)\n",
    "        metrics[\"batch\"].append(batch_number + 1)\n",
    "        metrics[\"train_loss\"].append(loss.item())\n",
    "        metrics[\"train_accuracy\"].append(train_accuracy)\n",
    "        batch_number += 1\n",
    "        \n",
    "        #print(f\"Epoch {epoch + 1}, Batch {batch_number}, Loss: {loss.item()}, Accuracy: {train_accuracy}\")\n",
    "\n",
    "    # Log epoch metrics\n",
    "    avg_train_loss = total_train_loss / len(train_dl)\n",
    "    avg_train_accuracy = total_correct / total_samples\n",
    "    print(f\"Epoch {epoch + 1} Average Training Loss: {avg_train_loss}, Average Training Accuracy: {avg_train_accuracy}\")\n",
    "    \n",
    "    # Add total training loss and accuracy to metrics dictionary\n",
    "    metrics[\"total_train_loss\"].append(avg_train_loss)\n",
    "    metrics[\"total_train_accuracy\"].append(avg_train_accuracy)\n",
    "\n",
    "    # Fill missing batch entries with NaN for consistency\n",
    "    metrics[\"total_train_loss\"] += [None] * (len(metrics[\"epoch\"]) - len(metrics[\"total_train_loss\"]))\n",
    "    metrics[\"total_train_accuracy\"] += [None] * (len(metrics[\"epoch\"]) - len(metrics[\"total_train_accuracy\"]))\n",
    "\n",
    "    # Evaluate the model\n",
    "    val_loss, val_accuracy = evaluate(model, eval_dl, accelerator)\n",
    "    print(f\"Epoch {epoch + 1} Validation Loss: {val_loss}, Validation Accuracy: {val_accuracy}\")\n",
    "\n",
    "    # Log epoch validation metrics\n",
    "    metrics[\"val_loss\"].append(val_loss)\n",
    "    metrics[\"val_accuracy\"].append(val_accuracy)\n",
    "\n",
    "    # Fill missing batch entries with NaN for consistency\n",
    "    metrics[\"val_loss\"] += [None] * (len(metrics[\"epoch\"]) - len(metrics[\"val_loss\"]))\n",
    "    metrics[\"val_accuracy\"] += [None] * (len(metrics[\"epoch\"]) - len(metrics[\"val_accuracy\"]))\n",
    "    \n",
    "    # Switch back to training mode\n",
    "    model.train()"
   ]
  },
  {
   "cell_type": "code",
   "execution_count": 6,
   "metadata": {
    "scrolled": true
   },
   "outputs": [],
   "source": [
    "# Create a DataFrame from the metrics\n",
    "metrics_df = pd.DataFrame(metrics)"
   ]
  },
  {
   "cell_type": "code",
   "execution_count": 7,
   "metadata": {},
   "outputs": [
    {
     "name": "stdout",
     "output_type": "stream",
     "text": [
      "ready\n"
     ]
    }
   ],
   "source": [
    "print('ready')"
   ]
  },
  {
   "cell_type": "code",
   "execution_count": 8,
   "metadata": {},
   "outputs": [],
   "source": [
    "metrics_df.to_csv('metrics_df_e3.csv', index=False)"
   ]
  },
  {
   "cell_type": "markdown",
   "metadata": {},
   "source": [
    "### 3. Results"
   ]
  },
  {
   "cell_type": "code",
   "execution_count": 9,
   "metadata": {},
   "outputs": [],
   "source": [
    "import plotly.express as px\n",
    "import pandas as pd\n",
    "\n",
    "metrics_df=pd.read_csv('metrics_df_e3.csv')\n",
    "\n",
    "metrics_per_epoch=metrics_df[~metrics_df['val_loss'].isna()]"
   ]
  },
  {
   "cell_type": "code",
   "execution_count": 10,
   "metadata": {},
   "outputs": [
    {
     "data": {
      "text/html": [
       "<div>\n",
       "<style scoped>\n",
       "    .dataframe tbody tr th:only-of-type {\n",
       "        vertical-align: middle;\n",
       "    }\n",
       "\n",
       "    .dataframe tbody tr th {\n",
       "        vertical-align: top;\n",
       "    }\n",
       "\n",
       "    .dataframe thead th {\n",
       "        text-align: right;\n",
       "    }\n",
       "</style>\n",
       "<table border=\"1\" class=\"dataframe\">\n",
       "  <thead>\n",
       "    <tr style=\"text-align: right;\">\n",
       "      <th></th>\n",
       "      <th>epoch</th>\n",
       "      <th>batch</th>\n",
       "      <th>train_loss</th>\n",
       "      <th>train_accuracy</th>\n",
       "      <th>val_loss</th>\n",
       "      <th>val_accuracy</th>\n",
       "      <th>total_train_loss</th>\n",
       "      <th>total_train_accuracy</th>\n",
       "    </tr>\n",
       "  </thead>\n",
       "  <tbody>\n",
       "    <tr>\n",
       "      <th>0</th>\n",
       "      <td>1</td>\n",
       "      <td>1</td>\n",
       "      <td>1.646664</td>\n",
       "      <td>0.4</td>\n",
       "      <td>2.144163</td>\n",
       "      <td>0.339869</td>\n",
       "      <td>1.095060</td>\n",
       "      <td>0.666090</td>\n",
       "    </tr>\n",
       "    <tr>\n",
       "      <th>232</th>\n",
       "      <td>2</td>\n",
       "      <td>233</td>\n",
       "      <td>3.412675</td>\n",
       "      <td>0.0</td>\n",
       "      <td>1.845063</td>\n",
       "      <td>0.339869</td>\n",
       "      <td>0.792990</td>\n",
       "      <td>0.617647</td>\n",
       "    </tr>\n",
       "    <tr>\n",
       "      <th>464</th>\n",
       "      <td>3</td>\n",
       "      <td>465</td>\n",
       "      <td>2.638724</td>\n",
       "      <td>0.0</td>\n",
       "      <td>1.570949</td>\n",
       "      <td>0.339869</td>\n",
       "      <td>0.721537</td>\n",
       "      <td>0.631488</td>\n",
       "    </tr>\n",
       "    <tr>\n",
       "      <th>696</th>\n",
       "      <td>4</td>\n",
       "      <td>697</td>\n",
       "      <td>2.327267</td>\n",
       "      <td>0.0</td>\n",
       "      <td>1.191669</td>\n",
       "      <td>0.385621</td>\n",
       "      <td>0.663528</td>\n",
       "      <td>0.677336</td>\n",
       "    </tr>\n",
       "    <tr>\n",
       "      <th>928</th>\n",
       "      <td>5</td>\n",
       "      <td>929</td>\n",
       "      <td>1.172537</td>\n",
       "      <td>0.4</td>\n",
       "      <td>1.577148</td>\n",
       "      <td>0.336601</td>\n",
       "      <td>0.593608</td>\n",
       "      <td>0.724048</td>\n",
       "    </tr>\n",
       "    <tr>\n",
       "      <th>1160</th>\n",
       "      <td>6</td>\n",
       "      <td>1161</td>\n",
       "      <td>1.383042</td>\n",
       "      <td>0.0</td>\n",
       "      <td>1.754930</td>\n",
       "      <td>0.382353</td>\n",
       "      <td>0.533619</td>\n",
       "      <td>0.737889</td>\n",
       "    </tr>\n",
       "    <tr>\n",
       "      <th>1392</th>\n",
       "      <td>7</td>\n",
       "      <td>1393</td>\n",
       "      <td>0.720430</td>\n",
       "      <td>0.6</td>\n",
       "      <td>1.516925</td>\n",
       "      <td>0.457516</td>\n",
       "      <td>0.438026</td>\n",
       "      <td>0.799308</td>\n",
       "    </tr>\n",
       "    <tr>\n",
       "      <th>1624</th>\n",
       "      <td>8</td>\n",
       "      <td>1625</td>\n",
       "      <td>0.141079</td>\n",
       "      <td>1.0</td>\n",
       "      <td>1.775029</td>\n",
       "      <td>0.496732</td>\n",
       "      <td>0.274116</td>\n",
       "      <td>0.895329</td>\n",
       "    </tr>\n",
       "    <tr>\n",
       "      <th>1856</th>\n",
       "      <td>9</td>\n",
       "      <td>1857</td>\n",
       "      <td>0.028426</td>\n",
       "      <td>1.0</td>\n",
       "      <td>1.503668</td>\n",
       "      <td>0.473856</td>\n",
       "      <td>0.226277</td>\n",
       "      <td>0.906574</td>\n",
       "    </tr>\n",
       "    <tr>\n",
       "      <th>2088</th>\n",
       "      <td>10</td>\n",
       "      <td>2089</td>\n",
       "      <td>0.036759</td>\n",
       "      <td>1.0</td>\n",
       "      <td>1.008399</td>\n",
       "      <td>0.581699</td>\n",
       "      <td>0.265325</td>\n",
       "      <td>0.881488</td>\n",
       "    </tr>\n",
       "  </tbody>\n",
       "</table>\n",
       "</div>"
      ],
      "text/plain": [
       "      epoch  batch  train_loss  train_accuracy  val_loss  val_accuracy  \\\n",
       "0         1      1    1.646664             0.4  2.144163      0.339869   \n",
       "232       2    233    3.412675             0.0  1.845063      0.339869   \n",
       "464       3    465    2.638724             0.0  1.570949      0.339869   \n",
       "696       4    697    2.327267             0.0  1.191669      0.385621   \n",
       "928       5    929    1.172537             0.4  1.577148      0.336601   \n",
       "1160      6   1161    1.383042             0.0  1.754930      0.382353   \n",
       "1392      7   1393    0.720430             0.6  1.516925      0.457516   \n",
       "1624      8   1625    0.141079             1.0  1.775029      0.496732   \n",
       "1856      9   1857    0.028426             1.0  1.503668      0.473856   \n",
       "2088     10   2089    0.036759             1.0  1.008399      0.581699   \n",
       "\n",
       "      total_train_loss  total_train_accuracy  \n",
       "0             1.095060              0.666090  \n",
       "232           0.792990              0.617647  \n",
       "464           0.721537              0.631488  \n",
       "696           0.663528              0.677336  \n",
       "928           0.593608              0.724048  \n",
       "1160          0.533619              0.737889  \n",
       "1392          0.438026              0.799308  \n",
       "1624          0.274116              0.895329  \n",
       "1856          0.226277              0.906574  \n",
       "2088          0.265325              0.881488  "
      ]
     },
     "execution_count": 10,
     "metadata": {},
     "output_type": "execute_result"
    }
   ],
   "source": [
    "metrics_per_epoch"
   ]
  },
  {
   "cell_type": "code",
   "execution_count": 13,
   "metadata": {},
   "outputs": [
    {
     "data": {
      "application/vnd.plotly.v1+json": {
       "config": {
        "plotlyServerURL": "https://plot.ly"
       },
       "data": [
        {
         "mode": "lines+markers+text",
         "name": "val_accuracy",
         "text": [
          0.34,
          0.34,
          0.34,
          0.39,
          0.34,
          0.38,
          0.46,
          0.5,
          0.47,
          0.58
         ],
         "textposition": "top center",
         "type": "scatter",
         "x": [
          1,
          2,
          3,
          4,
          5,
          6,
          7,
          8,
          9,
          10
         ],
         "y": [
          0.3398692810457516,
          0.3398692810457516,
          0.3398692810457516,
          0.3856209150326797,
          0.3366013071895425,
          0.3823529411764705,
          0.457516339869281,
          0.4967320261437908,
          0.4738562091503268,
          0.5816993464052288
         ]
        },
        {
         "mode": "lines+markers+text",
         "name": "train_accuracy",
         "text": [
          0.67,
          0.62,
          0.63,
          0.68,
          0.72,
          0.74,
          0.8,
          0.9,
          0.91,
          0.88
         ],
         "textposition": "top center",
         "type": "scatter",
         "x": [
          1,
          2,
          3,
          4,
          5,
          6,
          7,
          8,
          9,
          10
         ],
         "y": [
          0.6660899653979239,
          0.6176470588235294,
          0.6314878892733564,
          0.6773356401384083,
          0.7240484429065744,
          0.7378892733564014,
          0.7993079584775087,
          0.8953287197231834,
          0.9065743944636678,
          0.8814878892733564
         ]
        }
       ],
       "layout": {
        "autosize": true,
        "template": {
         "data": {
          "bar": [
           {
            "error_x": {
             "color": "#2a3f5f"
            },
            "error_y": {
             "color": "#2a3f5f"
            },
            "marker": {
             "line": {
              "color": "#E5ECF6",
              "width": 0.5
             },
             "pattern": {
              "fillmode": "overlay",
              "size": 10,
              "solidity": 0.2
             }
            },
            "type": "bar"
           }
          ],
          "barpolar": [
           {
            "marker": {
             "line": {
              "color": "#E5ECF6",
              "width": 0.5
             },
             "pattern": {
              "fillmode": "overlay",
              "size": 10,
              "solidity": 0.2
             }
            },
            "type": "barpolar"
           }
          ],
          "carpet": [
           {
            "aaxis": {
             "endlinecolor": "#2a3f5f",
             "gridcolor": "white",
             "linecolor": "white",
             "minorgridcolor": "white",
             "startlinecolor": "#2a3f5f"
            },
            "baxis": {
             "endlinecolor": "#2a3f5f",
             "gridcolor": "white",
             "linecolor": "white",
             "minorgridcolor": "white",
             "startlinecolor": "#2a3f5f"
            },
            "type": "carpet"
           }
          ],
          "choropleth": [
           {
            "colorbar": {
             "outlinewidth": 0,
             "ticks": ""
            },
            "type": "choropleth"
           }
          ],
          "contour": [
           {
            "colorbar": {
             "outlinewidth": 0,
             "ticks": ""
            },
            "colorscale": [
             [
              0,
              "#0d0887"
             ],
             [
              0.1111111111111111,
              "#46039f"
             ],
             [
              0.2222222222222222,
              "#7201a8"
             ],
             [
              0.3333333333333333,
              "#9c179e"
             ],
             [
              0.4444444444444444,
              "#bd3786"
             ],
             [
              0.5555555555555556,
              "#d8576b"
             ],
             [
              0.6666666666666666,
              "#ed7953"
             ],
             [
              0.7777777777777778,
              "#fb9f3a"
             ],
             [
              0.8888888888888888,
              "#fdca26"
             ],
             [
              1,
              "#f0f921"
             ]
            ],
            "type": "contour"
           }
          ],
          "contourcarpet": [
           {
            "colorbar": {
             "outlinewidth": 0,
             "ticks": ""
            },
            "type": "contourcarpet"
           }
          ],
          "heatmap": [
           {
            "colorbar": {
             "outlinewidth": 0,
             "ticks": ""
            },
            "colorscale": [
             [
              0,
              "#0d0887"
             ],
             [
              0.1111111111111111,
              "#46039f"
             ],
             [
              0.2222222222222222,
              "#7201a8"
             ],
             [
              0.3333333333333333,
              "#9c179e"
             ],
             [
              0.4444444444444444,
              "#bd3786"
             ],
             [
              0.5555555555555556,
              "#d8576b"
             ],
             [
              0.6666666666666666,
              "#ed7953"
             ],
             [
              0.7777777777777778,
              "#fb9f3a"
             ],
             [
              0.8888888888888888,
              "#fdca26"
             ],
             [
              1,
              "#f0f921"
             ]
            ],
            "type": "heatmap"
           }
          ],
          "heatmapgl": [
           {
            "colorbar": {
             "outlinewidth": 0,
             "ticks": ""
            },
            "colorscale": [
             [
              0,
              "#0d0887"
             ],
             [
              0.1111111111111111,
              "#46039f"
             ],
             [
              0.2222222222222222,
              "#7201a8"
             ],
             [
              0.3333333333333333,
              "#9c179e"
             ],
             [
              0.4444444444444444,
              "#bd3786"
             ],
             [
              0.5555555555555556,
              "#d8576b"
             ],
             [
              0.6666666666666666,
              "#ed7953"
             ],
             [
              0.7777777777777778,
              "#fb9f3a"
             ],
             [
              0.8888888888888888,
              "#fdca26"
             ],
             [
              1,
              "#f0f921"
             ]
            ],
            "type": "heatmapgl"
           }
          ],
          "histogram": [
           {
            "marker": {
             "pattern": {
              "fillmode": "overlay",
              "size": 10,
              "solidity": 0.2
             }
            },
            "type": "histogram"
           }
          ],
          "histogram2d": [
           {
            "colorbar": {
             "outlinewidth": 0,
             "ticks": ""
            },
            "colorscale": [
             [
              0,
              "#0d0887"
             ],
             [
              0.1111111111111111,
              "#46039f"
             ],
             [
              0.2222222222222222,
              "#7201a8"
             ],
             [
              0.3333333333333333,
              "#9c179e"
             ],
             [
              0.4444444444444444,
              "#bd3786"
             ],
             [
              0.5555555555555556,
              "#d8576b"
             ],
             [
              0.6666666666666666,
              "#ed7953"
             ],
             [
              0.7777777777777778,
              "#fb9f3a"
             ],
             [
              0.8888888888888888,
              "#fdca26"
             ],
             [
              1,
              "#f0f921"
             ]
            ],
            "type": "histogram2d"
           }
          ],
          "histogram2dcontour": [
           {
            "colorbar": {
             "outlinewidth": 0,
             "ticks": ""
            },
            "colorscale": [
             [
              0,
              "#0d0887"
             ],
             [
              0.1111111111111111,
              "#46039f"
             ],
             [
              0.2222222222222222,
              "#7201a8"
             ],
             [
              0.3333333333333333,
              "#9c179e"
             ],
             [
              0.4444444444444444,
              "#bd3786"
             ],
             [
              0.5555555555555556,
              "#d8576b"
             ],
             [
              0.6666666666666666,
              "#ed7953"
             ],
             [
              0.7777777777777778,
              "#fb9f3a"
             ],
             [
              0.8888888888888888,
              "#fdca26"
             ],
             [
              1,
              "#f0f921"
             ]
            ],
            "type": "histogram2dcontour"
           }
          ],
          "mesh3d": [
           {
            "colorbar": {
             "outlinewidth": 0,
             "ticks": ""
            },
            "type": "mesh3d"
           }
          ],
          "parcoords": [
           {
            "line": {
             "colorbar": {
              "outlinewidth": 0,
              "ticks": ""
             }
            },
            "type": "parcoords"
           }
          ],
          "pie": [
           {
            "automargin": true,
            "type": "pie"
           }
          ],
          "scatter": [
           {
            "fillpattern": {
             "fillmode": "overlay",
             "size": 10,
             "solidity": 0.2
            },
            "type": "scatter"
           }
          ],
          "scatter3d": [
           {
            "line": {
             "colorbar": {
              "outlinewidth": 0,
              "ticks": ""
             }
            },
            "marker": {
             "colorbar": {
              "outlinewidth": 0,
              "ticks": ""
             }
            },
            "type": "scatter3d"
           }
          ],
          "scattercarpet": [
           {
            "marker": {
             "colorbar": {
              "outlinewidth": 0,
              "ticks": ""
             }
            },
            "type": "scattercarpet"
           }
          ],
          "scattergeo": [
           {
            "marker": {
             "colorbar": {
              "outlinewidth": 0,
              "ticks": ""
             }
            },
            "type": "scattergeo"
           }
          ],
          "scattergl": [
           {
            "marker": {
             "colorbar": {
              "outlinewidth": 0,
              "ticks": ""
             }
            },
            "type": "scattergl"
           }
          ],
          "scattermapbox": [
           {
            "marker": {
             "colorbar": {
              "outlinewidth": 0,
              "ticks": ""
             }
            },
            "type": "scattermapbox"
           }
          ],
          "scatterpolar": [
           {
            "marker": {
             "colorbar": {
              "outlinewidth": 0,
              "ticks": ""
             }
            },
            "type": "scatterpolar"
           }
          ],
          "scatterpolargl": [
           {
            "marker": {
             "colorbar": {
              "outlinewidth": 0,
              "ticks": ""
             }
            },
            "type": "scatterpolargl"
           }
          ],
          "scatterternary": [
           {
            "marker": {
             "colorbar": {
              "outlinewidth": 0,
              "ticks": ""
             }
            },
            "type": "scatterternary"
           }
          ],
          "surface": [
           {
            "colorbar": {
             "outlinewidth": 0,
             "ticks": ""
            },
            "colorscale": [
             [
              0,
              "#0d0887"
             ],
             [
              0.1111111111111111,
              "#46039f"
             ],
             [
              0.2222222222222222,
              "#7201a8"
             ],
             [
              0.3333333333333333,
              "#9c179e"
             ],
             [
              0.4444444444444444,
              "#bd3786"
             ],
             [
              0.5555555555555556,
              "#d8576b"
             ],
             [
              0.6666666666666666,
              "#ed7953"
             ],
             [
              0.7777777777777778,
              "#fb9f3a"
             ],
             [
              0.8888888888888888,
              "#fdca26"
             ],
             [
              1,
              "#f0f921"
             ]
            ],
            "type": "surface"
           }
          ],
          "table": [
           {
            "cells": {
             "fill": {
              "color": "#EBF0F8"
             },
             "line": {
              "color": "white"
             }
            },
            "header": {
             "fill": {
              "color": "#C8D4E3"
             },
             "line": {
              "color": "white"
             }
            },
            "type": "table"
           }
          ]
         },
         "layout": {
          "annotationdefaults": {
           "arrowcolor": "#2a3f5f",
           "arrowhead": 0,
           "arrowwidth": 1
          },
          "autotypenumbers": "strict",
          "coloraxis": {
           "colorbar": {
            "outlinewidth": 0,
            "ticks": ""
           }
          },
          "colorscale": {
           "diverging": [
            [
             0,
             "#8e0152"
            ],
            [
             0.1,
             "#c51b7d"
            ],
            [
             0.2,
             "#de77ae"
            ],
            [
             0.3,
             "#f1b6da"
            ],
            [
             0.4,
             "#fde0ef"
            ],
            [
             0.5,
             "#f7f7f7"
            ],
            [
             0.6,
             "#e6f5d0"
            ],
            [
             0.7,
             "#b8e186"
            ],
            [
             0.8,
             "#7fbc41"
            ],
            [
             0.9,
             "#4d9221"
            ],
            [
             1,
             "#276419"
            ]
           ],
           "sequential": [
            [
             0,
             "#0d0887"
            ],
            [
             0.1111111111111111,
             "#46039f"
            ],
            [
             0.2222222222222222,
             "#7201a8"
            ],
            [
             0.3333333333333333,
             "#9c179e"
            ],
            [
             0.4444444444444444,
             "#bd3786"
            ],
            [
             0.5555555555555556,
             "#d8576b"
            ],
            [
             0.6666666666666666,
             "#ed7953"
            ],
            [
             0.7777777777777778,
             "#fb9f3a"
            ],
            [
             0.8888888888888888,
             "#fdca26"
            ],
            [
             1,
             "#f0f921"
            ]
           ],
           "sequentialminus": [
            [
             0,
             "#0d0887"
            ],
            [
             0.1111111111111111,
             "#46039f"
            ],
            [
             0.2222222222222222,
             "#7201a8"
            ],
            [
             0.3333333333333333,
             "#9c179e"
            ],
            [
             0.4444444444444444,
             "#bd3786"
            ],
            [
             0.5555555555555556,
             "#d8576b"
            ],
            [
             0.6666666666666666,
             "#ed7953"
            ],
            [
             0.7777777777777778,
             "#fb9f3a"
            ],
            [
             0.8888888888888888,
             "#fdca26"
            ],
            [
             1,
             "#f0f921"
            ]
           ]
          },
          "colorway": [
           "#636efa",
           "#EF553B",
           "#00cc96",
           "#ab63fa",
           "#FFA15A",
           "#19d3f3",
           "#FF6692",
           "#B6E880",
           "#FF97FF",
           "#FECB52"
          ],
          "font": {
           "color": "#2a3f5f"
          },
          "geo": {
           "bgcolor": "white",
           "lakecolor": "white",
           "landcolor": "#E5ECF6",
           "showlakes": true,
           "showland": true,
           "subunitcolor": "white"
          },
          "hoverlabel": {
           "align": "left"
          },
          "hovermode": "closest",
          "mapbox": {
           "style": "light"
          },
          "paper_bgcolor": "white",
          "plot_bgcolor": "#E5ECF6",
          "polar": {
           "angularaxis": {
            "gridcolor": "white",
            "linecolor": "white",
            "ticks": ""
           },
           "bgcolor": "#E5ECF6",
           "radialaxis": {
            "gridcolor": "white",
            "linecolor": "white",
            "ticks": ""
           }
          },
          "scene": {
           "xaxis": {
            "backgroundcolor": "#E5ECF6",
            "gridcolor": "white",
            "gridwidth": 2,
            "linecolor": "white",
            "showbackground": true,
            "ticks": "",
            "zerolinecolor": "white"
           },
           "yaxis": {
            "backgroundcolor": "#E5ECF6",
            "gridcolor": "white",
            "gridwidth": 2,
            "linecolor": "white",
            "showbackground": true,
            "ticks": "",
            "zerolinecolor": "white"
           },
           "zaxis": {
            "backgroundcolor": "#E5ECF6",
            "gridcolor": "white",
            "gridwidth": 2,
            "linecolor": "white",
            "showbackground": true,
            "ticks": "",
            "zerolinecolor": "white"
           }
          },
          "shapedefaults": {
           "line": {
            "color": "#2a3f5f"
           }
          },
          "ternary": {
           "aaxis": {
            "gridcolor": "white",
            "linecolor": "white",
            "ticks": ""
           },
           "baxis": {
            "gridcolor": "white",
            "linecolor": "white",
            "ticks": ""
           },
           "bgcolor": "#E5ECF6",
           "caxis": {
            "gridcolor": "white",
            "linecolor": "white",
            "ticks": ""
           }
          },
          "title": {
           "x": 0.05
          },
          "xaxis": {
           "automargin": true,
           "gridcolor": "white",
           "linecolor": "white",
           "ticks": "",
           "title": {
            "standoff": 15
           },
           "zerolinecolor": "white",
           "zerolinewidth": 2
          },
          "yaxis": {
           "automargin": true,
           "gridcolor": "white",
           "linecolor": "white",
           "ticks": "",
           "title": {
            "standoff": 15
           },
           "zerolinecolor": "white",
           "zerolinewidth": 2
          }
         }
        },
        "xaxis": {
         "dtick": 1,
         "range": [
          0.9,
          10.1
         ],
         "title": {
          "text": "Epoch"
         },
         "type": "linear"
        },
        "yaxis": {
         "dtick": 0.05,
         "range": [
          0.3,
          1
         ],
         "title": {
          "text": "Average Accuracy"
         },
         "type": "linear"
        }
       }
      },
      "image/png": "[encoded data removed]",
      "text/html": [
       "<div>                            <div id=\"f5ae1665-26da-42c4-86e5-e172a25f3f94\" class=\"plotly-graph-div\" style=\"height:525px; width:100%;\"></div>            <script type=\"text/javascript\">                require([\"plotly\"], function(Plotly) {                    window.PLOTLYENV=window.PLOTLYENV || {};                                    if (document.getElementById(\"f5ae1665-26da-42c4-86e5-e172a25f3f94\")) {                    Plotly.newPlot(                        \"f5ae1665-26da-42c4-86e5-e172a25f3f94\",                        [{\"mode\":\"lines+markers+text\",\"name\":\"val_accuracy\",\"text\":[0.34,0.34,0.34,0.39,0.34,0.38,0.46,0.5,0.47,0.58],\"textposition\":\"top center\",\"x\":[1,2,3,4,5,6,7,8,9,10],\"y\":[0.3398692810457516,0.3398692810457516,0.3398692810457516,0.3856209150326797,0.3366013071895425,0.3823529411764705,0.457516339869281,0.4967320261437908,0.4738562091503268,0.5816993464052288],\"type\":\"scatter\"},{\"mode\":\"lines+markers+text\",\"name\":\"train_accuracy\",\"text\":[0.67,0.62,0.63,0.68,0.72,0.74,0.8,0.9,0.91,0.88],\"textposition\":\"top center\",\"x\":[1,2,3,4,5,6,7,8,9,10],\"y\":[0.6660899653979239,0.6176470588235294,0.6314878892733564,0.6773356401384083,0.7240484429065744,0.7378892733564014,0.7993079584775087,0.8953287197231834,0.9065743944636678,0.8814878892733564],\"type\":\"scatter\"}],                        {\"template\":{\"data\":{\"histogram2dcontour\":[{\"type\":\"histogram2dcontour\",\"colorbar\":{\"outlinewidth\":0,\"ticks\":\"\"},\"colorscale\":[[0.0,\"#0d0887\"],[0.1111111111111111,\"#46039f\"],[0.2222222222222222,\"#7201a8\"],[0.3333333333333333,\"#9c179e\"],[0.4444444444444444,\"#bd3786\"],[0.5555555555555556,\"#d8576b\"],[0.6666666666666666,\"#ed7953\"],[0.7777777777777778,\"#fb9f3a\"],[0.8888888888888888,\"#fdca26\"],[1.0,\"#f0f921\"]]}],\"choropleth\":[{\"type\":\"choropleth\",\"colorbar\":{\"outlinewidth\":0,\"ticks\":\"\"}}],\"histogram2d\":[{\"type\":\"histogram2d\",\"colorbar\":{\"outlinewidth\":0,\"ticks\":\"\"},\"colorscale\":[[0.0,\"#0d0887\"],[0.1111111111111111,\"#46039f\"],[0.2222222222222222,\"#7201a8\"],[0.3333333333333333,\"#9c179e\"],[0.4444444444444444,\"#bd3786\"],[0.5555555555555556,\"#d8576b\"],[0.6666666666666666,\"#ed7953\"],[0.7777777777777778,\"#fb9f3a\"],[0.8888888888888888,\"#fdca26\"],[1.0,\"#f0f921\"]]}],\"heatmap\":[{\"type\":\"heatmap\",\"colorbar\":{\"outlinewidth\":0,\"ticks\":\"\"},\"colorscale\":[[0.0,\"#0d0887\"],[0.1111111111111111,\"#46039f\"],[0.2222222222222222,\"#7201a8\"],[0.3333333333333333,\"#9c179e\"],[0.4444444444444444,\"#bd3786\"],[0.5555555555555556,\"#d8576b\"],[0.6666666666666666,\"#ed7953\"],[0.7777777777777778,\"#fb9f3a\"],[0.8888888888888888,\"#fdca26\"],[1.0,\"#f0f921\"]]}],\"heatmapgl\":[{\"type\":\"heatmapgl\",\"colorbar\":{\"outlinewidth\":0,\"ticks\":\"\"},\"colorscale\":[[0.0,\"#0d0887\"],[0.1111111111111111,\"#46039f\"],[0.2222222222222222,\"#7201a8\"],[0.3333333333333333,\"#9c179e\"],[0.4444444444444444,\"#bd3786\"],[0.5555555555555556,\"#d8576b\"],[0.6666666666666666,\"#ed7953\"],[0.7777777777777778,\"#fb9f3a\"],[0.8888888888888888,\"#fdca26\"],[1.0,\"#f0f921\"]]}],\"contourcarpet\":[{\"type\":\"contourcarpet\",\"colorbar\":{\"outlinewidth\":0,\"ticks\":\"\"}}],\"contour\":[{\"type\":\"contour\",\"colorbar\":{\"outlinewidth\":0,\"ticks\":\"\"},\"colorscale\":[[0.0,\"#0d0887\"],[0.1111111111111111,\"#46039f\"],[0.2222222222222222,\"#7201a8\"],[0.3333333333333333,\"#9c179e\"],[0.4444444444444444,\"#bd3786\"],[0.5555555555555556,\"#d8576b\"],[0.6666666666666666,\"#ed7953\"],[0.7777777777777778,\"#fb9f3a\"],[0.8888888888888888,\"#fdca26\"],[1.0,\"#f0f921\"]]}],\"surface\":[{\"type\":\"surface\",\"colorbar\":{\"outlinewidth\":0,\"ticks\":\"\"},\"colorscale\":[[0.0,\"#0d0887\"],[0.1111111111111111,\"#46039f\"],[0.2222222222222222,\"#7201a8\"],[0.3333333333333333,\"#9c179e\"],[0.4444444444444444,\"#bd3786\"],[0.5555555555555556,\"#d8576b\"],[0.6666666666666666,\"#ed7953\"],[0.7777777777777778,\"#fb9f3a\"],[0.8888888888888888,\"#fdca26\"],[1.0,\"#f0f921\"]]}],\"mesh3d\":[{\"type\":\"mesh3d\",\"colorbar\":{\"outlinewidth\":0,\"ticks\":\"\"}}],\"scatter\":[{\"fillpattern\":{\"fillmode\":\"overlay\",\"size\":10,\"solidity\":0.2},\"type\":\"scatter\"}],\"parcoords\":[{\"type\":\"parcoords\",\"line\":{\"colorbar\":{\"outlinewidth\":0,\"ticks\":\"\"}}}],\"scatterpolargl\":[{\"type\":\"scatterpolargl\",\"marker\":{\"colorbar\":{\"outlinewidth\":0,\"ticks\":\"\"}}}],\"bar\":[{\"error_x\":{\"color\":\"#2a3f5f\"},\"error_y\":{\"color\":\"#2a3f5f\"},\"marker\":{\"line\":{\"color\":\"#E5ECF6\",\"width\":0.5},\"pattern\":{\"fillmode\":\"overlay\",\"size\":10,\"solidity\":0.2}},\"type\":\"bar\"}],\"scattergeo\":[{\"type\":\"scattergeo\",\"marker\":{\"colorbar\":{\"outlinewidth\":0,\"ticks\":\"\"}}}],\"scatterpolar\":[{\"type\":\"scatterpolar\",\"marker\":{\"colorbar\":{\"outlinewidth\":0,\"ticks\":\"\"}}}],\"histogram\":[{\"marker\":{\"pattern\":{\"fillmode\":\"overlay\",\"size\":10,\"solidity\":0.2}},\"type\":\"histogram\"}],\"scattergl\":[{\"type\":\"scattergl\",\"marker\":{\"colorbar\":{\"outlinewidth\":0,\"ticks\":\"\"}}}],\"scatter3d\":[{\"type\":\"scatter3d\",\"line\":{\"colorbar\":{\"outlinewidth\":0,\"ticks\":\"\"}},\"marker\":{\"colorbar\":{\"outlinewidth\":0,\"ticks\":\"\"}}}],\"scattermapbox\":[{\"type\":\"scattermapbox\",\"marker\":{\"colorbar\":{\"outlinewidth\":0,\"ticks\":\"\"}}}],\"scatterternary\":[{\"type\":\"scatterternary\",\"marker\":{\"colorbar\":{\"outlinewidth\":0,\"ticks\":\"\"}}}],\"scattercarpet\":[{\"type\":\"scattercarpet\",\"marker\":{\"colorbar\":{\"outlinewidth\":0,\"ticks\":\"\"}}}],\"carpet\":[{\"aaxis\":{\"endlinecolor\":\"#2a3f5f\",\"gridcolor\":\"white\",\"linecolor\":\"white\",\"minorgridcolor\":\"white\",\"startlinecolor\":\"#2a3f5f\"},\"baxis\":{\"endlinecolor\":\"#2a3f5f\",\"gridcolor\":\"white\",\"linecolor\":\"white\",\"minorgridcolor\":\"white\",\"startlinecolor\":\"#2a3f5f\"},\"type\":\"carpet\"}],\"table\":[{\"cells\":{\"fill\":{\"color\":\"#EBF0F8\"},\"line\":{\"color\":\"white\"}},\"header\":{\"fill\":{\"color\":\"#C8D4E3\"},\"line\":{\"color\":\"white\"}},\"type\":\"table\"}],\"barpolar\":[{\"marker\":{\"line\":{\"color\":\"#E5ECF6\",\"width\":0.5},\"pattern\":{\"fillmode\":\"overlay\",\"size\":10,\"solidity\":0.2}},\"type\":\"barpolar\"}],\"pie\":[{\"automargin\":true,\"type\":\"pie\"}]},\"layout\":{\"autotypenumbers\":\"strict\",\"colorway\":[\"#636efa\",\"#EF553B\",\"#00cc96\",\"#ab63fa\",\"#FFA15A\",\"#19d3f3\",\"#FF6692\",\"#B6E880\",\"#FF97FF\",\"#FECB52\"],\"font\":{\"color\":\"#2a3f5f\"},\"hovermode\":\"closest\",\"hoverlabel\":{\"align\":\"left\"},\"paper_bgcolor\":\"white\",\"plot_bgcolor\":\"#E5ECF6\",\"polar\":{\"bgcolor\":\"#E5ECF6\",\"angularaxis\":{\"gridcolor\":\"white\",\"linecolor\":\"white\",\"ticks\":\"\"},\"radialaxis\":{\"gridcolor\":\"white\",\"linecolor\":\"white\",\"ticks\":\"\"}},\"ternary\":{\"bgcolor\":\"#E5ECF6\",\"aaxis\":{\"gridcolor\":\"white\",\"linecolor\":\"white\",\"ticks\":\"\"},\"baxis\":{\"gridcolor\":\"white\",\"linecolor\":\"white\",\"ticks\":\"\"},\"caxis\":{\"gridcolor\":\"white\",\"linecolor\":\"white\",\"ticks\":\"\"}},\"coloraxis\":{\"colorbar\":{\"outlinewidth\":0,\"ticks\":\"\"}},\"colorscale\":{\"sequential\":[[0.0,\"#0d0887\"],[0.1111111111111111,\"#46039f\"],[0.2222222222222222,\"#7201a8\"],[0.3333333333333333,\"#9c179e\"],[0.4444444444444444,\"#bd3786\"],[0.5555555555555556,\"#d8576b\"],[0.6666666666666666,\"#ed7953\"],[0.7777777777777778,\"#fb9f3a\"],[0.8888888888888888,\"#fdca26\"],[1.0,\"#f0f921\"]],\"sequentialminus\":[[0.0,\"#0d0887\"],[0.1111111111111111,\"#46039f\"],[0.2222222222222222,\"#7201a8\"],[0.3333333333333333,\"#9c179e\"],[0.4444444444444444,\"#bd3786\"],[0.5555555555555556,\"#d8576b\"],[0.6666666666666666,\"#ed7953\"],[0.7777777777777778,\"#fb9f3a\"],[0.8888888888888888,\"#fdca26\"],[1.0,\"#f0f921\"]],\"diverging\":[[0,\"#8e0152\"],[0.1,\"#c51b7d\"],[0.2,\"#de77ae\"],[0.3,\"#f1b6da\"],[0.4,\"#fde0ef\"],[0.5,\"#f7f7f7\"],[0.6,\"#e6f5d0\"],[0.7,\"#b8e186\"],[0.8,\"#7fbc41\"],[0.9,\"#4d9221\"],[1,\"#276419\"]]},\"xaxis\":{\"gridcolor\":\"white\",\"linecolor\":\"white\",\"ticks\":\"\",\"title\":{\"standoff\":15},\"zerolinecolor\":\"white\",\"automargin\":true,\"zerolinewidth\":2},\"yaxis\":{\"gridcolor\":\"white\",\"linecolor\":\"white\",\"ticks\":\"\",\"title\":{\"standoff\":15},\"zerolinecolor\":\"white\",\"automargin\":true,\"zerolinewidth\":2},\"scene\":{\"xaxis\":{\"backgroundcolor\":\"#E5ECF6\",\"gridcolor\":\"white\",\"linecolor\":\"white\",\"showbackground\":true,\"ticks\":\"\",\"zerolinecolor\":\"white\",\"gridwidth\":2},\"yaxis\":{\"backgroundcolor\":\"#E5ECF6\",\"gridcolor\":\"white\",\"linecolor\":\"white\",\"showbackground\":true,\"ticks\":\"\",\"zerolinecolor\":\"white\",\"gridwidth\":2},\"zaxis\":{\"backgroundcolor\":\"#E5ECF6\",\"gridcolor\":\"white\",\"linecolor\":\"white\",\"showbackground\":true,\"ticks\":\"\",\"zerolinecolor\":\"white\",\"gridwidth\":2}},\"shapedefaults\":{\"line\":{\"color\":\"#2a3f5f\"}},\"annotationdefaults\":{\"arrowcolor\":\"#2a3f5f\",\"arrowhead\":0,\"arrowwidth\":1},\"geo\":{\"bgcolor\":\"white\",\"landcolor\":\"#E5ECF6\",\"subunitcolor\":\"white\",\"showland\":true,\"showlakes\":true,\"lakecolor\":\"white\"},\"title\":{\"x\":0.05},\"mapbox\":{\"style\":\"light\"}}},\"xaxis\":{\"range\":[0.9,10.1],\"dtick\":1,\"title\":{\"text\":\"Epoch\"}},\"yaxis\":{\"range\":[0.3,1],\"dtick\":0.05,\"title\":{\"text\":\"Average Accuracy\"}}},                        {\"responsive\": true}                    ).then(function(){\n",
       "                            \n",
       "var gd = document.getElementById('f5ae1665-26da-42c4-86e5-e172a25f3f94');\n",
       "var x = new MutationObserver(function (mutations, observer) {{\n",
       "        var display = window.getComputedStyle(gd).display;\n",
       "        if (!display || display === 'none') {{\n",
       "            console.log([gd, 'removed!']);\n",
       "            Plotly.purge(gd);\n",
       "            observer.disconnect();\n",
       "        }}\n",
       "}});\n",
       "\n",
       "// Listen for the removal of the full notebook cells\n",
       "var notebookContainer = gd.closest('#notebook-container');\n",
       "if (notebookContainer) {{\n",
       "    x.observe(notebookContainer, {childList: true});\n",
       "}}\n",
       "\n",
       "// Listen for the clearing of the current output cell\n",
       "var outputEl = gd.closest('.output');\n",
       "if (outputEl) {{\n",
       "    x.observe(outputEl, {childList: true});\n",
       "}}\n",
       "\n",
       "                        })                };                });            </script>        </div>"
      ]
     },
     "metadata": {},
     "output_type": "display_data"
    }
   ],
   "source": [
    "import plotly.graph_objects as go\n",
    "\n",
    "fig = go.Figure()\n",
    "\n",
    "fig.add_trace(go.Scatter(\n",
    "    y=metrics_per_epoch['val_accuracy'],\n",
    "    x=metrics_per_epoch['epoch'],\n",
    "    mode='lines+markers+text',\n",
    "    name='val_accuracy',\n",
    "    text=metrics_per_epoch['val_accuracy'].round(2),  # Add labels to the points\n",
    "    textposition='top center'  # Position the labels\n",
    "))\n",
    "\n",
    "fig.add_trace(go.Scatter(\n",
    "    y=metrics_per_epoch['total_train_accuracy'],\n",
    "    x=metrics_per_epoch['epoch'],\n",
    "    mode='lines+markers+text',\n",
    "    name='train_accuracy',\n",
    "    text=metrics_per_epoch['total_train_accuracy'].round(2),  # Add labels to the points\n",
    "    textposition='top center'  # Position the labels\n",
    "))\n",
    "\n",
    "fig.update_layout(\n",
    "    xaxis=dict(range=[0.9, 10.1],dtick=1),\n",
    "    yaxis=dict(range=[0.3, 1],dtick=0.05),\n",
    "    xaxis_title='Epoch',\n",
    "    yaxis_title='Average Accuracy'\n",
    ")\n",
    "\n",
    "fig.show()"
   ]
  },
  {
   "cell_type": "code",
   "execution_count": null,
   "metadata": {},
   "outputs": [],
   "source": [
    "import plotly.graph_objects as go\n",
    "\n",
    "fig = go.Figure()\n",
    "\n",
    "fig.add_trace(go.Scatter(\n",
    "    y=metrics_per_epoch['val_loss'],\n",
    "    x=metrics_per_epoch['epoch'],\n",
    "    mode='lines+markers+text',\n",
    "    name='val_loss',\n",
    "    text=metrics_per_epoch['val_loss'].round(2),  # Add labels to the points\n",
    "    textposition='top center'  # Position the labels\n",
    "))\n",
    "\n",
    "fig.add_trace(go.Scatter(\n",
    "    y=metrics_per_epoch['total_train_loss'],\n",
    "    x=metrics_per_epoch['epoch'],\n",
    "    mode='lines+markers+text',\n",
    "    name='train_loss',\n",
    "    text=metrics_per_epoch['total_train_loss'].round(2),  # Add labels to the points\n",
    "    textposition='top center'  # Position the labels\n",
    "))\n",
    "\n",
    "fig.update_layout(\n",
    "    xaxis=dict(range=[0.9, 3.1],dtick=1),    \n",
    "    yaxis=dict(range=[0.6, 2.3]),\n",
    "    xaxis_title='Epoch',\n",
    "    yaxis_title='Average Loss'\n",
    ")\n",
    "\n",
    "fig.show()"
   ]
  },
  {
   "cell_type": "code",
   "execution_count": null,
   "metadata": {},
   "outputs": [],
   "source": [
    "def evaluate_test_set(model, test_dataloader, accelerator):\n",
    "    model.eval()\n",
    "    total_loss = 0\n",
    "    total_correct = 0\n",
    "    total_samples = 0\n",
    "    \n",
    "    for batch in eval_dl:\n",
    "        with torch.no_grad():\n",
    "            outputs = model(**batch)\n",
    "        loss = outputs.loss\n",
    "        total_loss += loss.item()\n",
    "        \n",
    "        predictions = torch.argmax(outputs.logits, dim=-1)\n",
    "        total_correct += (predictions == batch['labels']).sum().item()\n",
    "        total_samples += len(batch['labels'])\n",
    "    \n",
    "    avg_loss = total_loss / len(eval_dl)\n",
    "    accuracy = total_correct / total_samples\n",
    "    return avg_loss, accuracy\n",
    "    \n",
    "test_dataloader=create_data_loader(test_set)\n",
    "\n",
    "avg_test_loss, test_accuracy=evaluate_test_set(model, test_dataloader, accelerator)\n",
    "\n",
    "print('test accuracy: ',test_accuracy)"
   ]
  }
 ],
 "metadata": {
  "kernelspec": {
   "display_name": "symbolic_music",
   "language": "python",
   "name": "symbolic_music"
  },
  "language_info": {
   "codemirror_mode": {
    "name": "ipython",
    "version": 3
   },
   "file_extension": ".py",
   "mimetype": "text/x-python",
   "name": "python",
   "nbconvert_exporter": "python",
   "pygments_lexer": "ipython3",
   "version": "3.12.3"
  }
 },
 "nbformat": 4,
 "nbformat_minor": 4
}
