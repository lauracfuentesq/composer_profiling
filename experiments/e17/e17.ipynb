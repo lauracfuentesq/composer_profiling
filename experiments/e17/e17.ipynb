{
 "cells": [
  {
   "cell_type": "code",
   "execution_count": 1,
   "id": "da995ba8-14b1-40d6-ba26-5175e2ce5c8e",
   "metadata": {},
   "outputs": [],
   "source": [
    "import torch\n",
    "from torch.utils.data import DataLoader\n",
    "from miditok import REMI\n",
    "from miditok.pytorch_data import DatasetMIDI, DataCollator\n",
    "from pathlib import Path\n",
    "import json\n",
    "import pandas as pd\n",
    "import numpy as np\n",
    "import random\n",
    "import utils\n",
    "import importlib"
   ]
  },
  {
   "cell_type": "code",
   "execution_count": 2,
   "id": "ea1a1751-25a7-4222-bc29-eb73c19a6ca4",
   "metadata": {},
   "outputs": [
    {
     "data": {
      "text/plain": [
       "<module 'utils' from '/mnt/nfs_share_magnet1/lafuente/symbolic_music/author-profiling/experiments/e17/utils.py'>"
      ]
     },
     "execution_count": 2,
     "metadata": {},
     "output_type": "execute_result"
    }
   ],
   "source": [
    "importlib.reload(utils)"
   ]
  },
  {
   "cell_type": "code",
   "execution_count": 3,
   "id": "e1710adc-107e-41b8-9688-355fb44d92d0",
   "metadata": {},
   "outputs": [],
   "source": [
    "seed = 42\n",
    "if seed is not None:\n",
    "    torch.manual_seed(seed)\n",
    "    torch.cuda.manual_seed(seed)\n",
    "    torch.cuda.manual_seed_all(seed)\n",
    "    random.seed(seed)\n",
    "    np.random.seed(seed)\n",
    "    torch.backends.cudnn.deterministic = True\n",
    "    torch.backends.cudnn.benchmark = False"
   ]
  },
  {
   "cell_type": "code",
   "execution_count": 4,
   "id": "ae5e4130-7212-4cb3-ad7f-a30ccb51fd91",
   "metadata": {},
   "outputs": [],
   "source": [
    "k=1\n",
    "train_data=pd.read_csv(f'../../train data/k folds/type0_train_set_k{k}.csv')\n",
    "validation_data=pd.read_csv(f'../../train data/k folds/type0_test_set_k{k}.csv')"
   ]
  },
  {
   "cell_type": "markdown",
   "id": "96f860c2-b3d5-40cb-813e-f6b0f6d4c621",
   "metadata": {},
   "source": [
    "## 1. Get features vector"
   ]
  },
  {
   "cell_type": "markdown",
   "id": "71328b20-ffd4-4674-9990-f07257893fc5",
   "metadata": {},
   "source": [
    "### 1.1 Create dataloader"
   ]
  },
  {
   "cell_type": "code",
   "execution_count": 5,
   "id": "5551ec47-e625-475f-863f-f0f03e0976ac",
   "metadata": {
    "scrolled": true
   },
   "outputs": [
    {
     "name": "stderr",
     "output_type": "stream",
     "text": [
      "/mnt/nfs_share_magnet1/lafuente/miniconda3/envs/symbolic_music/lib/python3.12/site-packages/miditok/midi_tokenizer.py:3252: UserWarning: The special token PAD_None is present twice in your configuration. Skipping its duplicated occurrence.\n",
      "  self.config = TokenizerConfig()\n",
      "/mnt/nfs_share_magnet1/lafuente/miniconda3/envs/symbolic_music/lib/python3.12/site-packages/miditok/classes.py:702: UserWarning: The special token PAD_None is present twice in your configuration. Skipping its duplicated occurrence.\n",
      "  return cls(**input_dict, **kwargs)\n",
      "/mnt/nfs_share_magnet1/lafuente/miniconda3/envs/symbolic_music/lib/python3.12/site-packages/miditok/classes.py:702: UserWarning: Argument nb_tempos has been renamed num_tempos, you should consider to updateyour code with this new argument name.\n",
      "  return cls(**input_dict, **kwargs)\n"
     ]
    }
   ],
   "source": [
    "val_dataloader=utils.create_data_loader(scores_df=validation_data,paths_column_name='type0_path')\n",
    "train_dataloader=utils.create_data_loader(scores_df=train_data,paths_column_name='type0_path')"
   ]
  },
  {
   "cell_type": "markdown",
   "id": "e6558569-e2d8-4c16-9702-854227399bd5",
   "metadata": {},
   "source": [
    "### 1.2 Get feature vectors from pre-trained model"
   ]
  },
  {
   "cell_type": "code",
   "execution_count": 6,
   "id": "5b266e69-1c68-4851-a33c-3652656db10f",
   "metadata": {
    "scrolled": true
   },
   "outputs": [
    {
     "name": "stdout",
     "output_type": "stream",
     "text": [
      "\n"
     ]
    },
    {
     "name": "stderr",
     "output_type": "stream",
     "text": [
      "huggingface/tokenizers: The current process just got forked, after parallelism has already been used. Disabling parallelism to avoid deadlocks...\n",
      "To disable this warning, you can either:\n",
      "\t- Avoid using `tokenizers` before the fork if possible\n",
      "\t- Explicitly set the environment variable TOKENIZERS_PARALLELISM=(true | false)\n",
      "huggingface/tokenizers: The current process just got forked, after parallelism has already been used. Disabling parallelism to avoid deadlocks...\n",
      "To disable this warning, you can either:\n",
      "\t- Avoid using `tokenizers` before the fork if possible\n",
      "\t- Explicitly set the environment variable TOKENIZERS_PARALLELISM=(true | false)\n",
      "computing feature tensors: 100%|██████████████| 184/184 [10:07<00:00,  3.30s/it]\n"
     ]
    }
   ],
   "source": [
    "train_feature_vectors=utils.get_feature_vectors(dataloader=train_dataloader,\n",
    "                                                dataframe=train_data,\n",
    "                                                set_type='train', \n",
    "                                                feature_tensors=False)"
   ]
  },
  {
   "cell_type": "code",
   "execution_count": 7,
   "id": "08c6414a-63a6-46de-b21c-f989177caea8",
   "metadata": {},
   "outputs": [
    {
     "name": "stdout",
     "output_type": "stream",
     "text": [
      "\n"
     ]
    },
    {
     "name": "stderr",
     "output_type": "stream",
     "text": [
      "computing feature tensors: 100%|████████████████| 46/46 [02:50<00:00,  3.71s/it]\n"
     ]
    }
   ],
   "source": [
    "val_feature_vectors=utils.get_feature_vectors(dataloader=val_dataloader,\n",
    "                                                dataframe=validation_data,\n",
    "                                                set_type='val', \n",
    "                                                feature_tensors=False)"
   ]
  },
  {
   "cell_type": "markdown",
   "id": "dc3183b6-2b68-4ecf-a5da-206059acb9f1",
   "metadata": {},
   "source": [
    "## 2. Train MLP"
   ]
  },
  {
   "cell_type": "code",
   "execution_count": 9,
   "id": "f903230b-95f2-4447-965e-cb79293f2abc",
   "metadata": {},
   "outputs": [
    {
     "name": "stdout",
     "output_type": "stream",
     "text": [
      "MLP(\n",
      "  (fc1): Linear(in_features=523264, out_features=128, bias=True)\n",
      "  (fc2): Linear(in_features=128, out_features=64, bias=True)\n",
      "  (fc3): Linear(in_features=64, out_features=32, bias=True)\n",
      "  (fc4): Linear(in_features=32, out_features=2, bias=True)\n",
      "  (relu): ReLU()\n",
      ")\n",
      "Epoch 0 | Train Loss   5.20| Train Balanced Accuracy   0.56\n",
      "Epoch 0 | Validation Loss   3.07| Validation Balanced Accuracy:   0.51\n",
      "Epoch 1 | Train Loss   0.95| Train Balanced Accuracy   0.79\n",
      "Epoch 1 | Validation Loss   5.71| Validation Balanced Accuracy:   0.50\n",
      "Epoch 2 | Train Loss   0.31| Train Balanced Accuracy   0.90\n",
      "Epoch 2 | Validation Loss   1.41| Validation Balanced Accuracy:   0.54\n",
      "Epoch 3 | Train Loss   0.03| Train Balanced Accuracy   0.99\n",
      "Epoch 3 | Validation Loss   1.42| Validation Balanced Accuracy:   0.53\n",
      "Epoch 4 | Train Loss   0.02| Train Balanced Accuracy   1.00\n",
      "Epoch 4 | Validation Loss   1.41| Validation Balanced Accuracy:   0.52\n",
      "Epoch 5 | Train Loss   0.01| Train Balanced Accuracy   1.00\n",
      "Epoch 5 | Validation Loss   1.44| Validation Balanced Accuracy:   0.52\n",
      "Epoch 6 | Train Loss   0.01| Train Balanced Accuracy   1.00\n",
      "Epoch 6 | Validation Loss   1.43| Validation Balanced Accuracy:   0.52\n",
      "Epoch 7 | Train Loss   0.01| Train Balanced Accuracy   1.00\n",
      "Epoch 7 | Validation Loss   1.43| Validation Balanced Accuracy:   0.53\n",
      "Epoch 8 | Train Loss   0.01| Train Balanced Accuracy   1.00\n",
      "Epoch 8 | Validation Loss   1.43| Validation Balanced Accuracy:   0.53\n",
      "Epoch 9 | Train Loss   0.01| Train Balanced Accuracy   1.00\n",
      "Epoch 9 | Validation Loss   1.43| Validation Balanced Accuracy:   0.53\n"
     ]
    }
   ],
   "source": [
    "predictions_df_train_e17,metrics_df,predictions_df_val_e17=utils.train_MLP_classfier(train_feature_vectors=train_feature_vectors,\n",
    "                          val_feature_vectors=val_feature_vectors,\n",
    "                          k=k)"
   ]
  },
  {
   "cell_type": "code",
   "execution_count": null,
   "id": "02061023-7b95-4664-8615-7a5e66c16cb3",
   "metadata": {},
   "outputs": [],
   "source": [
    "predictions_df_train_e17.to_csv(f'predictions_df_train_e17_k{k}_full_seqs.csv')\n",
    "metrics_df.to_csv(f'metrics_df_e17_k{k}_full_seqs.csv',index=False)\n",
    "predictions_df_val_e17.to_csv(f'predictions_df_test_e17_k{k}_full_seqs.csv')"
   ]
  },
  {
   "cell_type": "code",
   "execution_count": null,
   "id": "7edaece5-e51d-425e-a0a4-4d18a81203f0",
   "metadata": {},
   "outputs": [],
   "source": [
    "##============== k-folds data ===================##\n",
    "#full_df=pd.DataFrame([])\n",
    "\n",
    "#for k in range(1,6):\n",
    "\n",
    "#    predictions=pd.read_csv(f'predictions_df_test_e17_k{k}.csv')\n",
    "\n",
    "#    test_set=pd.read_csv(f'../../train data/k folds/type0_test_set_k{k}.csv')\n",
    "\n",
    "#    temp_df=pd.concat([predictions,test_set],axis=1)\n",
    "\n",
    " #   full_df=pd.concat([full_df,temp_df],axis=0)\n",
    "\n",
    "#full_df.drop(columns='Unnamed: 0').to_csv('../../dataframes/cross_validation_probabilities.csv',index=False)"
   ]
  }
 ],
 "metadata": {
  "kernelspec": {
   "display_name": "symbolic_music_conda",
   "language": "python",
   "name": "python3"
  },
  "language_info": {
   "codemirror_mode": {
    "name": "ipython",
    "version": 3
   },
   "file_extension": ".py",
   "mimetype": "text/x-python",
   "name": "python",
   "nbconvert_exporter": "python",
   "pygments_lexer": "ipython3",
   "version": "3.12.3"
  }
 },
 "nbformat": 4,
 "nbformat_minor": 5
}
