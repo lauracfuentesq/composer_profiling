{
 "cells": [
  {
   "cell_type": "code",
   "execution_count": 1,
   "id": "5241ea37-1d89-4864-9ceb-ac4c104c59bc",
   "metadata": {},
   "outputs": [],
   "source": [
    "import torch\n",
    "from torch.utils.data import DataLoader\n",
    "from miditok import REMI\n",
    "from miditok.pytorch_data import DatasetMIDI, DataCollator\n",
    "from pathlib import Path\n",
    "import json\n",
    "import pandas as pd\n",
    "import numpy as np\n",
    "import random"
   ]
  },
  {
   "cell_type": "code",
   "execution_count": 2,
   "id": "920874b0-566f-4fc6-af75-773e40f96e95",
   "metadata": {},
   "outputs": [],
   "source": [
    "import features_vectors_2 as utils"
   ]
  },
  {
   "cell_type": "code",
   "execution_count": 3,
   "id": "3eedc894-81a6-4980-8eee-c27a17eaa4b6",
   "metadata": {},
   "outputs": [
    {
     "data": {
      "text/plain": [
       "<module 'features_vectors_2' from '/mnt/nfs_share_magnet1/lafuente/symbolic_music/author-profiling/experiments/e15/features_vectors_2.py'>"
      ]
     },
     "execution_count": 3,
     "metadata": {},
     "output_type": "execute_result"
    }
   ],
   "source": [
    "import importlib\n",
    "\n",
    "importlib.reload(utils)"
   ]
  },
  {
   "cell_type": "code",
   "execution_count": 4,
   "id": "8951c2c1-a4c9-4746-9cce-6d4d4b5fec54",
   "metadata": {},
   "outputs": [],
   "source": [
    "k=1\n",
    "train_data=pd.read_csv(f'../../train data/k folds/type0_train_set_k{k}.csv')\n",
    "validation_data=pd.read_csv(f'../../train data/k folds/type0_test_set_k{k}.csv')"
   ]
  },
  {
   "cell_type": "code",
   "execution_count": 5,
   "id": "f8347ebe-fffe-4574-a925-6423fb4ff286",
   "metadata": {},
   "outputs": [
    {
     "name": "stderr",
     "output_type": "stream",
     "text": [
      "/mnt/nfs_share_magnet1/lafuente/miniconda3/envs/symbolic_music/lib/python3.12/site-packages/miditok/midi_tokenizer.py:3252: UserWarning: The special token PAD_None is present twice in your configuration. Skipping its duplicated occurrence.\n",
      "  self.config = TokenizerConfig()\n",
      "/mnt/nfs_share_magnet1/lafuente/miniconda3/envs/symbolic_music/lib/python3.12/site-packages/miditok/classes.py:702: UserWarning: The special token PAD_None is present twice in your configuration. Skipping its duplicated occurrence.\n",
      "  return cls(**input_dict, **kwargs)\n",
      "/mnt/nfs_share_magnet1/lafuente/miniconda3/envs/symbolic_music/lib/python3.12/site-packages/miditok/classes.py:702: UserWarning: Argument nb_tempos has been renamed num_tempos, you should consider to updateyour code with this new argument name.\n",
      "  return cls(**input_dict, **kwargs)\n"
     ]
    }
   ],
   "source": [
    "val_dataloader=utils.create_data_loader(scores_df=validation_data,paths_column_name='type0_path')\n",
    "train_dataloader=utils.create_data_loader(scores_df=train_data,paths_column_name='type0_path')"
   ]
  },
  {
   "cell_type": "code",
   "execution_count": 6,
   "id": "24076ffe-8cc8-41aa-b0e4-deb1461fd682",
   "metadata": {},
   "outputs": [
    {
     "name": "stdout",
     "output_type": "stream",
     "text": [
      "\n"
     ]
    },
    {
     "name": "stderr",
     "output_type": "stream",
     "text": [
      "huggingface/tokenizers: The current process just got forked, after parallelism has already been used. Disabling parallelism to avoid deadlocks...\n",
      "To disable this warning, you can either:\n",
      "\t- Avoid using `tokenizers` before the fork if possible\n",
      "\t- Explicitly set the environment variable TOKENIZERS_PARALLELISM=(true | false)\n",
      "huggingface/tokenizers: The current process just got forked, after parallelism has already been used. Disabling parallelism to avoid deadlocks...\n",
      "To disable this warning, you can either:\n",
      "\t- Avoid using `tokenizers` before the fork if possible\n",
      "\t- Explicitly set the environment variable TOKENIZERS_PARALLELISM=(true | false)\n",
      "computing feature tensors: 100%|██████████████| 184/184 [08:25<00:00,  2.75s/it]"
     ]
    },
    {
     "name": "stdout",
     "output_type": "stream",
     "text": [
      "last hidden state list shape torch.Size([5110, 512])\n"
     ]
    },
    {
     "name": "stderr",
     "output_type": "stream",
     "text": [
      "\n"
     ]
    }
   ],
   "source": [
    "train_feature_vectors=utils.get_feature_vectors(dataloader=train_dataloader,\n",
    "                                                dataframe=train_data,\n",
    "                                                set_type='train', \n",
    "                                                feature_tensors=False)"
   ]
  },
  {
   "cell_type": "code",
   "execution_count": 9,
   "id": "3f2549fa-1f31-461e-bf31-24f0c409f3fb",
   "metadata": {},
   "outputs": [
    {
     "name": "stdout",
     "output_type": "stream",
     "text": [
      "data reduced (936152, 50)\n"
     ]
    }
   ],
   "source": [
    "##======================== DO PCA =============================================##\n",
    "from sklearn.decomposition import PCA\n",
    "\n",
    "X=np.vstack(train_feature_vectors)\n",
    "\n",
    "pca = PCA(n_components=50)\n",
    "\n",
    "pca.fit(X)\n",
    "\n",
    "    # Fit the PCA model and transform the data\n",
    "data_reduced = pca.fit_transform(X)\n",
    "\n",
    "print(f'data reduced {data_reduced.shape}')"
   ]
  },
  {
   "cell_type": "code",
   "execution_count": 30,
   "id": "2426ac48-692e-4b29-b47c-881666245da2",
   "metadata": {},
   "outputs": [],
   "source": [
    "full_array=np.zeros((920,1022,50))\n",
    "\n",
    "for i in range(920):\n",
    "    \n",
    "    sequence=data_reduced[0+i:1022+i,:]\n",
    "    full_array[i,:,:]=sequence"
   ]
  },
  {
   "cell_type": "code",
   "execution_count": 32,
   "id": "ece324df-8adf-4da0-b0e2-44c9711b7fae",
   "metadata": {},
   "outputs": [
    {
     "data": {
      "text/plain": [
       "(920, 1022, 50)"
      ]
     },
     "execution_count": 32,
     "metadata": {},
     "output_type": "execute_result"
    }
   ],
   "source": [
    "full_array.shape"
   ]
  },
  {
   "cell_type": "code",
   "execution_count": null,
   "id": "6ca30294-9434-4512-a8d6-253ea52e27a6",
   "metadata": {},
   "outputs": [],
   "source": [
    "\n",
    "    \n",
    "    \n",
    "    ##======================FLATTEN FEATURE VECTORS FOR MLP==========================##\n",
    "\n",
    "    flattened_tensor_list=[]\n",
    "    \n",
    "    for batch in range(0,len(loader_tensor_list)):\n",
    "    \n",
    "        for element in range(0,len(loader_tensor_list[batch])):\n",
    "            \n",
    "            flat_tensor=torch.flatten(loader_tensor_list[batch][element])\n",
    "            flattened_tensor_list.append(flat_tensor)\n",
    "\n",
    "    numpy_arrays=[item.numpy() for item in flattened_tensor_list]\n",
    "    \n",
    "    features_df=pd.DataFrame(data={'feature_vectors':numpy_arrays})\n",
    "    \n",
    "    features_df = features_df['feature_vectors'].apply(pd.Series)  \n",
    "        \n",
    "    composer_gender=dataframe['composer_gender'].apply(lambda x: 0 if x=='Male' else 1)\n",
    "\n",
    "    features_df['label']=composer_gender"
   ]
  }
 ],
 "metadata": {
  "kernelspec": {
   "display_name": "symbolic_music",
   "language": "python",
   "name": "symbolic_music"
  },
  "language_info": {
   "codemirror_mode": {
    "name": "ipython",
    "version": 3
   },
   "file_extension": ".py",
   "mimetype": "text/x-python",
   "name": "python",
   "nbconvert_exporter": "python",
   "pygments_lexer": "ipython3",
   "version": "3.12.3"
  }
 },
 "nbformat": 4,
 "nbformat_minor": 5
}
