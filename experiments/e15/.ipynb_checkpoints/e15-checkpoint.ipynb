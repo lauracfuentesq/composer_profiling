{
 "cells": [
  {
   "cell_type": "code",
   "execution_count": 1,
   "id": "da995ba8-14b1-40d6-ba26-5175e2ce5c8e",
   "metadata": {},
   "outputs": [],
   "source": [
    "import torch\n",
    "from torch.utils.data import DataLoader\n",
    "from miditok import REMI\n",
    "from miditok.pytorch_data import DatasetMIDI, DataCollator\n",
    "from pathlib import Path\n",
    "import json\n",
    "import pandas as pd\n",
    "import numpy as np\n",
    "import random"
   ]
  },
  {
   "cell_type": "code",
   "execution_count": 2,
   "id": "ae38028f-fad3-451e-a3da-bafc259fe8f7",
   "metadata": {},
   "outputs": [],
   "source": [
    "import features_vectors as utils"
   ]
  },
  {
   "cell_type": "code",
   "execution_count": 14,
   "id": "ea1a1751-25a7-4222-bc29-eb73c19a6ca4",
   "metadata": {},
   "outputs": [
    {
     "data": {
      "text/plain": [
       "<module 'features_vectors' from '/mnt/nfs_share_magnet1/lafuente/symbolic_music/author-profiling/experiments/e15/features_vectors.py'>"
      ]
     },
     "execution_count": 14,
     "metadata": {},
     "output_type": "execute_result"
    }
   ],
   "source": [
    "import importlib\n",
    "\n",
    "importlib.reload(utils)"
   ]
  },
  {
   "cell_type": "code",
   "execution_count": 16,
   "id": "82bc425b-9408-4d28-8c63-e8e7646bd041",
   "metadata": {},
   "outputs": [
    {
     "data": {
      "text/plain": [
       "<module 'utils' from '/mnt/nfs_share_magnet1/lafuente/symbolic_music/author-profiling/experiments/e15/utils.py'>"
      ]
     },
     "execution_count": 16,
     "metadata": {},
     "output_type": "execute_result"
    }
   ],
   "source": [
    "import utils as utils_2\n",
    "importlib.reload(utils_2)"
   ]
  },
  {
   "cell_type": "code",
   "execution_count": 5,
   "id": "ae5e4130-7212-4cb3-ad7f-a30ccb51fd91",
   "metadata": {},
   "outputs": [],
   "source": [
    "k=1\n",
    "train_data=pd.read_csv(f'../../train data/k folds/type0_train_set_k{k}.csv')\n",
    "validation_data=pd.read_csv(f'../../train data/k folds/type0_test_set_k{k}.csv')"
   ]
  },
  {
   "cell_type": "markdown",
   "id": "96f860c2-b3d5-40cb-813e-f6b0f6d4c621",
   "metadata": {},
   "source": [
    "## 1. Get features vector"
   ]
  },
  {
   "cell_type": "markdown",
   "id": "71328b20-ffd4-4674-9990-f07257893fc5",
   "metadata": {},
   "source": [
    "### 1.1 Create dataloader"
   ]
  },
  {
   "cell_type": "code",
   "execution_count": 6,
   "id": "5551ec47-e625-475f-863f-f0f03e0976ac",
   "metadata": {
    "scrolled": true
   },
   "outputs": [
    {
     "name": "stderr",
     "output_type": "stream",
     "text": [
      "/mnt/nfs_share_magnet1/lafuente/miniconda3/envs/symbolic_music/lib/python3.12/site-packages/miditok/midi_tokenizer.py:3252: UserWarning: The special token PAD_None is present twice in your configuration. Skipping its duplicated occurrence.\n",
      "  self.config = TokenizerConfig()\n",
      "/mnt/nfs_share_magnet1/lafuente/miniconda3/envs/symbolic_music/lib/python3.12/site-packages/miditok/classes.py:702: UserWarning: The special token PAD_None is present twice in your configuration. Skipping its duplicated occurrence.\n",
      "  return cls(**input_dict, **kwargs)\n",
      "/mnt/nfs_share_magnet1/lafuente/miniconda3/envs/symbolic_music/lib/python3.12/site-packages/miditok/classes.py:702: UserWarning: Argument nb_tempos has been renamed num_tempos, you should consider to updateyour code with this new argument name.\n",
      "  return cls(**input_dict, **kwargs)\n"
     ]
    }
   ],
   "source": [
    "val_dataloader=utils.create_data_loader(scores_df=validation_data,paths_column_name='type0_path')\n",
    "train_dataloader=utils.create_data_loader(scores_df=train_data,paths_column_name='type0_path')"
   ]
  },
  {
   "cell_type": "markdown",
   "id": "e6558569-e2d8-4c16-9702-854227399bd5",
   "metadata": {},
   "source": [
    "### 1.2 Get feature vectors from pre-trained model"
   ]
  },
  {
   "cell_type": "code",
   "execution_count": 7,
   "id": "5b266e69-1c68-4851-a33c-3652656db10f",
   "metadata": {
    "scrolled": true
   },
   "outputs": [
    {
     "name": "stdout",
     "output_type": "stream",
     "text": [
      "\n"
     ]
    },
    {
     "name": "stderr",
     "output_type": "stream",
     "text": [
      "huggingface/tokenizers: The current process just got forked, after parallelism has already been used. Disabling parallelism to avoid deadlocks...\n",
      "To disable this warning, you can either:\n",
      "\t- Avoid using `tokenizers` before the fork if possible\n",
      "\t- Explicitly set the environment variable TOKENIZERS_PARALLELISM=(true | false)\n",
      "huggingface/tokenizers: The current process just got forked, after parallelism has already been used. Disabling parallelism to avoid deadlocks...\n",
      "To disable this warning, you can either:\n",
      "\t- Avoid using `tokenizers` before the fork if possible\n",
      "\t- Explicitly set the environment variable TOKENIZERS_PARALLELISM=(true | false)\n",
      "computing feature tensors: 100%|██████████████| 184/184 [08:33<00:00,  2.79s/it]\n"
     ]
    }
   ],
   "source": [
    "train_feature_vectors=utils.get_feature_vectors(dataloader=train_dataloader,\n",
    "                                                dataframe=train_data,\n",
    "                                                set_type='train', \n",
    "                                                feature_tensors=False)"
   ]
  },
  {
   "cell_type": "code",
   "execution_count": 8,
   "id": "08c6414a-63a6-46de-b21c-f989177caea8",
   "metadata": {},
   "outputs": [
    {
     "name": "stdout",
     "output_type": "stream",
     "text": [
      "\n"
     ]
    },
    {
     "name": "stderr",
     "output_type": "stream",
     "text": [
      "computing feature tensors: 100%|████████████████| 46/46 [02:07<00:00,  2.77s/it]\n"
     ]
    }
   ],
   "source": [
    "val_feature_vectors=utils.get_feature_vectors(dataloader=val_dataloader,\n",
    "                                                dataframe=validation_data,\n",
    "                                                set_type='val', \n",
    "                                                feature_tensors=False)"
   ]
  },
  {
   "cell_type": "markdown",
   "id": "dc3183b6-2b68-4ecf-a5da-206059acb9f1",
   "metadata": {},
   "source": [
    "## 2. Train MLP"
   ]
  },
  {
   "cell_type": "code",
   "execution_count": 23,
   "id": "d6b17966-7fcc-4286-90e8-3c89edc28f6e",
   "metadata": {},
   "outputs": [],
   "source": [
    "from torch.utils.data import Dataset,DataLoader\n",
    "\n",
    "seed = 42\n",
    "if seed is not None:\n",
    "    torch.manual_seed(seed)\n",
    "    torch.cuda.manual_seed(seed)\n",
    "    torch.cuda.manual_seed_all(seed)\n",
    "    random.seed(seed)\n",
    "    np.random.seed(seed)\n",
    "    torch.backends.cudnn.deterministic = True\n",
    "    torch.backends.cudnn.benchmark = False\n",
    "    \n",
    "class DatasetMLP(Dataset):\n",
    "\n",
    "    def __init__(self,data):\n",
    "        self.data=data\n",
    "\n",
    "    def __len__(self):\n",
    "        return self.data.shape[0]\n",
    "\n",
    "    def __getitem__(self,ind):\n",
    "        x=self.data[ind][:-1]\n",
    "        y=self.data[ind][-1]\n",
    "\n",
    "        return x,y\n",
    "\n",
    "class TestDataset(DatasetMLP):\n",
    "    def __getitem__(self,ind):\n",
    "        x=self.data[ind]\n",
    "        return x\n",
    "\n",
    "train_set_mlp=DatasetMLP(np.array(train_feature_vectors))\n",
    "val_set_mlp=DatasetMLP(np.array(val_feature_vectors))\n",
    "\n",
    "batch_size=20\n",
    "\n",
    "train_dataloder_mlp=DataLoader(train_set_mlp,\n",
    "                               batch_size=batch_size,\n",
    "                               shuffle=True)  \n",
    "\n",
    "val_dataloder_mlp=DataLoader(val_set_mlp,\n",
    "                               batch_size=batch_size,\n",
    "                               shuffle=False)  "
   ]
  },
  {
   "cell_type": "code",
   "execution_count": 24,
   "id": "f903230b-95f2-4447-965e-cb79293f2abc",
   "metadata": {},
   "outputs": [],
   "source": [
    "import torch\n",
    "import torch.nn as nn\n",
    "\n",
    "device = torch.device('cuda' if torch.cuda.is_available() else 'cpu')\n",
    "\n",
    "class MLP(nn.Module):\n",
    "    def __init__(self, input_dim, hidden_dim1=128, hidden_dim2=64, hidden_dim3=32, output_dim=2):\n",
    "        super(MLP, self).__init__()\n",
    "        self.fc1 = nn.Linear(input_dim, hidden_dim1)\n",
    "        self.fc2 = nn.Linear(hidden_dim1, hidden_dim2)\n",
    "        self.fc3 = nn.Linear(hidden_dim2, hidden_dim3)\n",
    "        self.fc4 = nn.Linear(hidden_dim3, output_dim)\n",
    "        self.relu = nn.ReLU()\n",
    "    \n",
    "    def forward(self, x):\n",
    "        x = self.relu(self.fc1(x))\n",
    "        x = self.relu(self.fc2(x))\n",
    "        x = self.relu(self.fc3(x))\n",
    "        out = self.fc4(x)\n",
    "        return out\n",
    "\n",
    "from sklearn.metrics import balanced_accuracy_score\n",
    "\n",
    "def evaluate(model, dataloader, criterion):\n",
    "    device = torch.device('cuda' if torch.cuda.is_available() else 'cpu')\n",
    "    model.eval()  # Set model to evaluation mode\n",
    "    predictions = []\n",
    "    true_labels = []\n",
    "    probabilities_list=[]\n",
    "    losses = []\n",
    "\n",
    "    with torch.no_grad():\n",
    "        for input_data in dataloader:\n",
    "            x, y = input_data\n",
    "            x = x.to(device).float()\n",
    "            y = y.to(device).long()\n",
    "\n",
    "            output = model(x)\n",
    "            _, predicted = torch.max(output, 1)\n",
    "            probabilities = F.softmax(output, dim=1)\n",
    "\n",
    "            batch_predictions = predicted.cpu().detach().numpy().tolist()\n",
    "            batch_true_labels = y.cpu().detach().numpy().tolist()\n",
    "            batch_predicted_probas = probabilities.cpu().detach().numpy().tolist()\n",
    "\n",
    "            predictions.extend(batch_predictions)\n",
    "            true_labels.extend(batch_true_labels)\n",
    "            probabilities_list.extend(batch_predicted_probas)\n",
    "\n",
    "            # Compute loss\n",
    "            loss = criterion(output, y)\n",
    "            losses.append(loss.item())\n",
    "\n",
    "    # Compute average validation loss\n",
    "    avg_loss = sum(losses) / len(losses)\n",
    "\n",
    "    # Compute balanced accuracy\n",
    "    predictions = np.array(predictions)\n",
    "    true_labels = np.array(true_labels)\n",
    "    balanced_accuracy = balanced_accuracy_score(true_labels, predictions)\n",
    "\n",
    "    return balanced_accuracy, avg_loss, probabilities_list,predictions, true_labels"
   ]
  },
  {
   "cell_type": "code",
   "execution_count": 27,
   "id": "cbd740b5-936f-4b6f-b460-a46617d914f1",
   "metadata": {
    "scrolled": true
   },
   "outputs": [
    {
     "name": "stdout",
     "output_type": "stream",
     "text": [
      "MLP(\n",
      "  (fc1): Linear(in_features=523264, out_features=128, bias=True)\n",
      "  (fc2): Linear(in_features=128, out_features=64, bias=True)\n",
      "  (fc3): Linear(in_features=64, out_features=32, bias=True)\n",
      "  (fc4): Linear(in_features=32, out_features=2, bias=True)\n",
      "  (relu): ReLU()\n",
      ")\n",
      "Epoch 0 | Train Loss   3.34| Train Balanced Accuracy   0.55\n",
      "Epoch 0 | Validation Loss   1.46| Validation Balanced Accuracy:   0.53\n",
      "Epoch 1 | Train Loss   0.83| Train Balanced Accuracy   0.77\n",
      "Epoch 1 | Validation Loss   2.44| Validation Balanced Accuracy:   0.52\n",
      "Epoch 2 | Train Loss   0.44| Train Balanced Accuracy   0.89\n",
      "Epoch 2 | Validation Loss   1.36| Validation Balanced Accuracy:   0.52\n",
      "Epoch 3 | Train Loss   0.09| Train Balanced Accuracy   0.97\n",
      "Epoch 3 | Validation Loss   1.25| Validation Balanced Accuracy:   0.54\n",
      "Epoch 4 | Train Loss   0.03| Train Balanced Accuracy   0.99\n",
      "Epoch 4 | Validation Loss   1.24| Validation Balanced Accuracy:   0.55\n",
      "Epoch 5 | Train Loss   0.02| Train Balanced Accuracy   1.00\n",
      "Epoch 5 | Validation Loss   1.26| Validation Balanced Accuracy:   0.57\n",
      "Epoch 6 | Train Loss   0.01| Train Balanced Accuracy   1.00\n",
      "Epoch 6 | Validation Loss   1.26| Validation Balanced Accuracy:   0.56\n",
      "Epoch 7 | Train Loss   0.01| Train Balanced Accuracy   1.00\n",
      "Epoch 7 | Validation Loss   1.25| Validation Balanced Accuracy:   0.56\n",
      "Epoch 8 | Train Loss   0.01| Train Balanced Accuracy   1.00\n",
      "Epoch 8 | Validation Loss   1.25| Validation Balanced Accuracy:   0.55\n",
      "Epoch 9 | Train Loss   0.01| Train Balanced Accuracy   1.00\n",
      "Epoch 9 | Validation Loss   1.25| Validation Balanced Accuracy:   0.55\n",
      "Predictions: [0 0 1 0 1 0 1 1 0 0 0 1 0 0 0 0 1 1 1 0 0 0 1 1 0 1 1 1 0 1 1 0 1 0 1 0 0\n",
      " 0 1 0 1 1 0 0 0 1 1 1 0 1 1 0 0 1 1 1 0 0 0 1 1 1 1 0 0 0 0 0 1 0 1 0 1 0\n",
      " 1 1 1 0 0 1 0 0 0 1 0 0 0 1 1 1 1 1 1 1 0 0 1 0 1 1 1 0 0 1 1 0 1 0 1 0 1\n",
      " 1 0 0 0 1 0 1 0 0 1 1 1 1 0 1 0 0 1 1 1 1 0 1 0 1 1 0 0 0 0 1 1 0 1 1 1 0\n",
      " 0 0 1 1 0 1 1 0 0 1 0 1 1 0 1 0 0 0 0 1 0 0 1 1 0 1 1 0 1 1 1 1 0 0 0 0 1\n",
      " 1 1 1 0 1 0 1 1 0 1 0 1 1 0 0 1 1 0 1 1 0 1 0 0 1 1 0 0 1 0 1 1 1 1 1 1 0\n",
      " 1 1 1 0 0 1 1 0 1 0 1 1 0 1 0 1 1 1 1 1 0 1 0 0 0 1 1 1 1 1 1 0 1 1 1 0 0\n",
      " 0 0 0 1 1 1 1 1 0 0 1 0 0 1 0 1 1 1 1 0 1 0 1 0 1 1 1 1 0 0 1 0 0 1 1 1 1\n",
      " 0 0 0 0 1 0 0 1 0 0 1 1 0 1 1 1 1 0 1 0 1 1 1 0 1 0 0 1 0 0 0 0 1 0 0 0 0\n",
      " 1 1 0 1 0 0 1 1 1 0 0 0 0 1 0 1 0 1 1 1 0 0 0 0 1 0 0 0 1 0 0 1 1 0 1 1 1\n",
      " 0 0 0 0 1 0 1 1 1 1 1 1 0 0 0 1 0 0 0 0 1 1 1 0 1 0 1 0 0 1 1 0 0 1 1 0 1\n",
      " 1 0 0 0 1 1 0 0 0 1 1 1 0 0 1 0 0 1 1 1 0 1 0 1 0 1 0 1 0 1 0 1 0 0 1 1 0\n",
      " 0 0 0 0 1 1 0 1 1 0 0 1 0 0 0 0 1 1 1 1 1 1 0 0 1 1 0 1 1 1 1 1 1 0 0 0 0\n",
      " 0 0 0 1 1 0 1 1 1 0 0 1 0 1 0 0 1 1 1 0 1 0 1 1 1 1 0 0 1 1 0 1 1 1 0 1 1\n",
      " 0 1 1 0 0 0 0 1 0 0 1 1 0 0 0 0 1 1 1 1 0 1 0 0 0 0 1 1 1 1 0 1 1 0 0 1 0\n",
      " 0 1 1 0 1 1 1 1 1 1 1 0 1 0 1 1 0 1 0 1 1 1 1 1 0 1 0 1 1 0 1 1 0 0 0 0 0\n",
      " 1 0 0 1 0 0 0 0 1 1 1 0 1 0 1 1 1 1 1 1 1 1 0 0 1 1 1 0 0 1 0 0 1 1 1 1 1\n",
      " 1 1 0 1 0 0 1 1 1 0 0 0 1 0 1 1 0 0 0 1 0 1 0 0 0 0 1 1 0 1 1 1 1 0 0 1 1\n",
      " 1 0 0 1 0 1 0 0 1 1 0 1 0 0 0 1 1 1 0 1 0 0 0 1 1 1 0 0 0 1 0 1 0 0 0 1 0\n",
      " 1 1 1 1 1 1 1 1 1 0 0 1 1 0 0 0 1 0 1 1 0 1 0 1 1 1 0 1 0 0 0 1 0 1 0 1 0\n",
      " 1 1 1 0 0 1 1 1 0 0 1 1 1 1 1 0 1 0 1 0 1 1 0 1 1 0 1 0 0 1 1 0 1 1 0 1 0\n",
      " 1 0 0 1 0 0 1 0 0 0 1 0 1 0 1 1 1 0 0 0 0 1 1 0 1 0 1 0 0 0 0 0 0 1 1 0 1\n",
      " 0 0 0 0 0 1 0 1 0 0 0 0 1 1 1 0 0 1 1 1 1 1 0 0 0 0 0 1 0 1 0 0 0 0 1 1 1\n",
      " 0 1 1 1 1 0 1 0 1 1 0 0 1 0 1 0 1 1 0 0 1 0 0 0 0 1 1 1 1 0 1 0 0 0 0 0 0\n",
      " 0 0 1 1 1 0 1 0 1 0 1 0 0 1 0 1 1 1 1 1 1 1 0 1 1 0 0 1]\n",
      "True Labels: [0 0 1 0 1 0 1 1 0 0 0 1 0 0 0 0 1 1 1 0 0 0 1 1 0 1 1 1 0 1 1 0 1 0 1 0 0\n",
      " 0 1 0 1 1 0 0 0 1 1 1 0 1 1 0 0 1 1 1 0 0 0 1 1 1 1 0 0 0 0 0 1 0 1 0 1 0\n",
      " 1 1 1 0 0 1 0 0 0 1 0 0 0 1 1 1 1 1 1 1 0 0 1 0 1 1 1 0 0 1 1 0 1 0 1 0 1\n",
      " 1 0 0 0 1 0 1 0 0 1 1 1 1 0 1 0 0 1 1 1 1 0 1 0 1 1 0 0 0 0 1 1 0 1 1 1 0\n",
      " 0 0 1 1 0 1 1 0 0 1 0 1 1 0 1 0 0 0 0 1 0 0 1 1 0 1 1 0 1 1 1 1 0 0 0 0 1\n",
      " 1 1 1 0 1 0 1 1 0 1 0 1 1 0 0 1 1 0 1 1 0 1 0 0 1 1 0 0 1 0 1 1 1 1 1 1 0\n",
      " 1 1 1 0 0 1 1 0 1 0 1 1 0 1 0 1 1 1 1 1 0 1 0 0 0 1 1 1 1 1 1 0 1 1 1 0 0\n",
      " 0 0 0 1 1 1 1 1 0 0 1 0 0 1 0 1 1 1 1 0 1 0 1 0 1 1 1 1 0 0 1 0 0 1 1 1 1\n",
      " 0 0 0 0 1 0 0 1 0 0 1 1 0 1 1 1 1 0 1 0 1 1 1 0 1 0 0 1 0 0 0 0 1 0 0 0 0\n",
      " 1 1 0 1 0 0 1 1 1 0 0 0 0 1 0 1 0 1 1 1 0 0 0 0 1 0 0 0 1 0 0 1 1 0 1 1 1\n",
      " 0 0 0 0 1 0 1 1 1 1 1 1 0 0 0 1 0 0 0 0 1 1 1 0 1 0 1 0 0 1 1 0 0 1 1 0 1\n",
      " 1 0 0 0 1 1 0 0 0 1 1 1 0 0 1 0 0 1 1 1 0 1 0 1 0 1 0 1 0 1 0 1 0 0 1 1 0\n",
      " 0 0 0 0 1 1 0 1 1 0 0 1 0 0 0 0 1 1 1 1 1 1 0 0 1 1 0 1 1 1 1 1 1 0 0 0 0\n",
      " 0 0 0 1 1 0 1 1 1 0 0 1 0 1 0 0 1 1 1 0 1 0 1 1 1 1 0 0 1 1 0 1 1 1 0 1 1\n",
      " 0 1 1 0 0 0 0 1 0 0 1 1 0 0 0 0 1 1 1 1 0 1 0 0 0 0 1 1 1 1 0 1 1 0 0 1 0\n",
      " 0 1 1 0 1 1 1 1 1 1 1 0 1 0 1 1 0 1 0 1 1 1 1 1 0 1 0 1 1 0 1 1 0 0 0 0 0\n",
      " 1 0 0 1 0 0 0 0 1 1 1 0 1 0 1 1 1 1 1 1 1 1 0 0 1 1 1 0 0 1 0 0 1 1 1 1 1\n",
      " 1 1 0 1 0 0 1 1 1 0 0 0 1 0 1 1 0 0 0 1 0 1 0 0 0 0 1 1 0 1 1 1 1 0 0 1 1\n",
      " 1 0 0 1 0 1 0 0 1 1 0 1 0 0 0 1 1 1 0 1 0 0 0 1 1 1 0 0 0 1 0 1 0 0 0 1 0\n",
      " 1 1 1 1 1 1 1 1 1 0 0 1 1 0 0 0 1 0 1 1 0 1 0 1 1 1 0 1 0 0 0 1 0 1 0 1 0\n",
      " 1 1 1 0 0 1 1 1 0 0 1 1 1 1 1 0 1 0 1 0 1 1 0 1 1 0 1 0 0 1 1 0 1 1 0 1 0\n",
      " 1 0 0 1 0 0 1 0 0 0 1 0 1 0 1 1 1 0 0 0 0 1 1 0 1 0 1 0 0 0 0 0 0 1 1 0 1\n",
      " 0 0 0 0 0 1 0 1 0 0 0 0 1 1 1 0 0 1 1 1 1 1 0 0 0 0 0 1 0 1 0 0 0 0 1 1 1\n",
      " 0 1 1 1 1 0 1 0 1 1 0 0 1 0 1 0 1 1 0 0 1 0 0 0 0 1 1 1 1 0 1 0 0 0 0 0 0\n",
      " 0 0 1 1 1 0 1 0 1 0 1 0 0 1 0 1 1 1 1 1 1 1 0 1 1 0 0 1]\n"
     ]
    }
   ],
   "source": [
    "from sklearn.metrics import balanced_accuracy_score\n",
    "import torch.optim.lr_scheduler as lr_scheduler\n",
    "\n",
    "\n",
    "\n",
    "seed = 42\n",
    "if seed is not None:\n",
    "    torch.manual_seed(seed)\n",
    "    torch.cuda.manual_seed(seed)\n",
    "    torch.cuda.manual_seed_all(seed)\n",
    "    random.seed(seed)\n",
    "    np.random.seed(seed)\n",
    "    torch.backends.cudnn.deterministic = True\n",
    "    torch.backends.cudnn.benchmark = False\n",
    "    \n",
    "input_dim = 523264\n",
    "model = MLP(input_dim).to(device)\n",
    "\n",
    "initial_lr = 0.001\n",
    "optimizer = torch.optim.Adam(model.parameters())\n",
    "criterion = nn.CrossEntropyLoss()\n",
    "# Assuming optimizer is already defined\n",
    "scheduler = lr_scheduler.StepLR(optimizer, step_size=3, gamma=0.1)\n",
    "\n",
    "print(model)\n",
    "\n",
    "epochs = 10\n",
    "\n",
    "model.train()\n",
    "train_avg_loss_list=[]\n",
    "val_avg_loss_list=[]\n",
    "train_balanced_accuracy_list=[]\n",
    "val_balanced_accuracy_list=[]\n",
    "\n",
    "for epoch in range(epochs):\n",
    "    losses = []\n",
    "    predictions = []\n",
    "    true_labels = []\n",
    "    for batch_num, input_data in enumerate(train_dataloder_mlp):\n",
    "        optimizer.zero_grad()\n",
    "        x, y = input_data\n",
    "        x = x.to(device).float()\n",
    "        y = y.to(device).long()  # Ensure y is of type long for CrossEntropyLoss\n",
    "\n",
    "        output = model(x)\n",
    "        loss = criterion(output, y)\n",
    "        loss.backward()\n",
    "        losses.append(loss.item())\n",
    "\n",
    "        optimizer.step()\n",
    "\n",
    "        # Convert predictions to class labels (0 or 1)\n",
    "        _, predicted = torch.max(output, 1)\n",
    "        batch_predictions = predicted.cpu().detach().numpy().tolist()\n",
    "        batch_true_labels = y.cpu().detach().numpy().tolist()\n",
    "\n",
    "        predictions.extend(batch_predictions)\n",
    "        true_labels.extend(batch_true_labels)\n",
    "\n",
    "        #if batch_num % 40 == 0:\n",
    "        #    print('\\tEpoch %d | Batch %d | Loss %6.2f' % (epoch, batch_num, loss.item()))\n",
    "    # Step the scheduler\n",
    "    scheduler.step()\n",
    "    \n",
    "    train_balanced_accuracy = balanced_accuracy_score(true_labels, predictions)\n",
    "    train_avg_loss=sum(losses)/len(losses) \n",
    "    print('Epoch %d | Train Loss %6.2f| Train Balanced Accuracy %6.2f' % (epoch, train_avg_loss ,train_balanced_accuracy))\n",
    "    \n",
    "    val_balanced_accuracy, val_avg_loss, probabilities_list, val_predictions, val_true_labels  = evaluate(model, val_dataloder_mlp,criterion)\n",
    "    print('Epoch %d | Validation Loss %6.2f| Validation Balanced Accuracy: %6.2f' % (epoch, val_avg_loss, val_balanced_accuracy))\n",
    "\n",
    "    train_avg_loss_list.append(train_avg_loss)\n",
    "    val_avg_loss_list.append(val_avg_loss)\n",
    "    \n",
    "    train_balanced_accuracy_list.append(train_balanced_accuracy)\n",
    "    val_balanced_accuracy_list.append(val_balanced_accuracy)\n",
    "\n",
    "\n",
    "# Convert predictions and true labels to numpy arrays\n",
    "predictions = np.array(predictions)\n",
    "true_labels = np.array(true_labels)"
   ]
  },
  {
   "cell_type": "code",
   "execution_count": 30,
   "id": "489d3550-afd1-40f8-a9e1-8318e0f2cd0d",
   "metadata": {},
   "outputs": [],
   "source": [
    "df_1=pd.read_csv('predictions_df_test_e15_k1.csv')"
   ]
  },
  {
   "cell_type": "code",
   "execution_count": 32,
   "id": "19410ad3-9f3d-46e6-ba9b-d83c1cea45a4",
   "metadata": {},
   "outputs": [],
   "source": [
    "df_2=pd.read_csv('predictions_df_test_e15_k1_test.csv')"
   ]
  },
  {
   "cell_type": "code",
   "execution_count": 40,
   "id": "b5003032-9845-41ec-bd78-8ac1d15f5a3e",
   "metadata": {},
   "outputs": [],
   "source": [
    "predictions_df_train_e15=pd.DataFrame(data={'labels':true_labels,'predictions':predictions})\n",
    "predictions_df_train_e15.to_csv(f'predictions_df_train_e15_k{k}.csv')\n",
    "\n",
    "metrics_df=pd.DataFrame(data={'train_avg_loss':train_avg_loss_list,\n",
    "                            'train_balanced_accuracy':train_balanced_accuracy_list,\n",
    "                            'val_avg_loss':val_avg_loss_list,\n",
    "                            'val_balanced_accuracy':val_balanced_accuracy_list})\n",
    "\n",
    "metrics_df.to_csv(f'metrics_df_e15_k{k}.csv',index=False)"
   ]
  },
  {
   "cell_type": "code",
   "execution_count": 26,
   "id": "2e86633c-b05d-4006-ac94-d05c9db87da2",
   "metadata": {},
   "outputs": [],
   "source": [
    "predictions_df_val_e15=pd.DataFrame(data={'labels':val_true_labels,'predictions':val_predictions})\n",
    "predictions_df_val_e15.to_csv(f'predictions_df_test_e15_k{k}_test.csv')"
   ]
  },
  {
   "cell_type": "markdown",
   "id": "9a9c87ad-6328-4394-9501-1c8cb5da10b4",
   "metadata": {},
   "source": [
    "### 3. Train MLP with utils"
   ]
  },
  {
   "cell_type": "code",
   "execution_count": 20,
   "id": "4b61866d-9f1f-4c90-84c8-989950708927",
   "metadata": {
    "scrolled": true
   },
   "outputs": [
    {
     "name": "stdout",
     "output_type": "stream",
     "text": [
      "MLP(\n",
      "  (fc1): Linear(in_features=523264, out_features=128, bias=True)\n",
      "  (fc2): Linear(in_features=128, out_features=64, bias=True)\n",
      "  (fc3): Linear(in_features=64, out_features=32, bias=True)\n",
      "  (fc4): Linear(in_features=32, out_features=2, bias=True)\n",
      "  (relu): ReLU()\n",
      ")\n",
      "Epoch 0 | Train Loss   3.36| Train Balanced Accuracy   0.58\n",
      "Epoch 0 | Validation Loss   2.06| Validation Balanced Accuracy:   0.50\n",
      "Epoch 1 | Train Loss   0.51| Train Balanced Accuracy   0.85\n",
      "Epoch 1 | Validation Loss   1.12| Validation Balanced Accuracy:   0.56\n",
      "Epoch 2 | Train Loss   0.16| Train Balanced Accuracy   0.94\n",
      "Epoch 2 | Validation Loss   1.48| Validation Balanced Accuracy:   0.49\n",
      "Epoch 3 | Train Loss   0.02| Train Balanced Accuracy   1.00\n",
      "Epoch 3 | Validation Loss   1.50| Validation Balanced Accuracy:   0.50\n",
      "Epoch 4 | Train Loss   0.01| Train Balanced Accuracy   1.00\n",
      "Epoch 4 | Validation Loss   1.51| Validation Balanced Accuracy:   0.52\n",
      "Epoch 5 | Train Loss   0.01| Train Balanced Accuracy   1.00\n",
      "Epoch 5 | Validation Loss   1.48| Validation Balanced Accuracy:   0.52\n",
      "Epoch 6 | Train Loss   0.01| Train Balanced Accuracy   1.00\n",
      "Epoch 6 | Validation Loss   1.48| Validation Balanced Accuracy:   0.52\n",
      "Epoch 7 | Train Loss   0.01| Train Balanced Accuracy   1.00\n",
      "Epoch 7 | Validation Loss   1.48| Validation Balanced Accuracy:   0.52\n",
      "Epoch 8 | Train Loss   0.01| Train Balanced Accuracy   1.00\n",
      "Epoch 8 | Validation Loss   1.48| Validation Balanced Accuracy:   0.52\n",
      "Epoch 9 | Train Loss   0.01| Train Balanced Accuracy   1.00\n",
      "Epoch 9 | Validation Loss   1.48| Validation Balanced Accuracy:   0.52\n"
     ]
    }
   ],
   "source": [
    "predictions_df_train_e15_utils,metrics_df_e15_utils,predictions_df_val_e15_utils=utils_2.train_MLP_classfier(train_feature_vectors,val_feature_vectors,k)"
   ]
  },
  {
   "cell_type": "code",
   "execution_count": 21,
   "id": "8b250cf9-c683-4d27-ba97-d02afedd905e",
   "metadata": {},
   "outputs": [],
   "source": [
    "predictions_df_train_e15_utils.to_csv(f'predictions_df_train_e15_k{k}_utils.csv')\n",
    "metrics_df_e15_utils.to_csv(f'metrics_df_e15_k{k}_utils.csv',index=False)\n",
    "predictions_df_val_e15_utils.to_csv(f'predictions_df_test_e15_k{k}_utils.csv')"
   ]
  },
  {
   "cell_type": "code",
   "execution_count": null,
   "id": "bfd5599a-f8b1-4754-9792-0eaf73f35fc8",
   "metadata": {},
   "outputs": [],
   "source": [
    "predictions_df_val_e15_utils"
   ]
  },
  {
   "cell_type": "markdown",
   "id": "1da388b8-03f4-4986-8b4d-006def8fd059",
   "metadata": {},
   "source": [
    "### 4. generate full cross-validation dataset"
   ]
  },
  {
   "cell_type": "code",
   "execution_count": null,
   "id": "cba0a8f5-0a08-4bdb-b6a9-f8544a423f0b",
   "metadata": {},
   "outputs": [],
   "source": [
    "##============== k-folds data ===================##\n",
    "full_df=pd.DataFrame([])\n",
    "\n",
    "for k in range(1,6):\n",
    "\n",
    "    predictions=pd.read_csv(f'predictions_df_test_e15_k{k}_2.csv')\n",
    "\n",
    "    test_set=pd.read_csv(f'../../train data/k folds/type0_test_set_k{k}.csv')\n",
    "\n",
    "    temp_df=pd.concat([predictions,test_set],axis=1)\n",
    "\n",
    "    full_df=pd.concat([full_df,temp_df],axis=0)\n",
    "\n",
    "full_df['binary_label']= full_df['composer_gender'].apply(lambda x: 0 if x == 'Male' else 1)\n",
    "full_df['predictions_string']= full_df['predictions'].apply(lambda x: 'Male' if x == 0 else 'Female')\n",
    "\n",
    "composer_gender=full_df[['composer_name', 'composer_gender']].drop_duplicates()\n",
    "\n",
    "full_df=full_df.merge(composer_gender, on='composer_name',how='left')\n",
    "\n",
    "#full_df.to_csv('./dataframes/cross_validation_predictions.csv',index=False)"
   ]
  }
 ],
 "metadata": {
  "kernelspec": {
   "display_name": "symbolic_music",
   "language": "python",
   "name": "symbolic_music"
  },
  "language_info": {
   "codemirror_mode": {
    "name": "ipython",
    "version": 3
   },
   "file_extension": ".py",
   "mimetype": "text/x-python",
   "name": "python",
   "nbconvert_exporter": "python",
   "pygments_lexer": "ipython3",
   "version": "3.12.3"
  }
 },
 "nbformat": 4,
 "nbformat_minor": 5
}
